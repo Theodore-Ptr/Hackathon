{
 "cells": [
  {
   "cell_type": "code",
   "execution_count": 1,
   "id": "2e8edf5d-fb6c-4db9-809f-0dc963123cec",
   "metadata": {},
   "outputs": [],
   "source": [
    "import pandas as pd\n",
    "import numpy as np\n",
    "\n",
    "from sklearn.pipeline import make_pipeline\n",
    "from sklearn.compose import make_column_selector, make_column_transformer\n",
    "from sklearn.impute import SimpleImputer\n",
    "from sklearn.preprocessing import OrdinalEncoder\n",
    "from sklearn.preprocessing import OneHotEncoder\n",
    "from sklearn.preprocessing import StandardScaler\n",
    "\n",
    "from sklearn import set_config\n",
    "set_config(display='diagram')"
   ]
  },
  {
   "cell_type": "code",
   "execution_count": 2,
   "id": "e22e853c-a0b6-46c6-aed1-9be82c025237",
   "metadata": {},
   "outputs": [],
   "source": [
    "cat_selector = make_column_selector(dtype_include=object)\n",
    "num_selector = make_column_selector(dtype_include=np.number)"
   ]
  },
  {
   "cell_type": "code",
   "execution_count": 3,
   "id": "1366f21a-2e1a-4399-a502-098730d0396f",
   "metadata": {},
   "outputs": [],
   "source": [
    "df = pd.read_csv('rings.csv')\n",
    "df = df[df.columns[2:]]\n",
    "df = df[df.matter != 'silver_and_gold']\n",
    "df.drop('price_after_discount', axis=1, inplace=True)"
   ]
  },
  {
   "cell_type": "code",
   "execution_count": 4,
   "id": "5594e53b-1392-46ae-ab7d-cf81663db8b8",
   "metadata": {},
   "outputs": [],
   "source": [
    "df.drop('injection_params', axis=1, inplace=True)"
   ]
  },
  {
   "cell_type": "code",
   "execution_count": 5,
   "id": "ec5763fb-41eb-490c-86d8-8d9669203754",
   "metadata": {},
   "outputs": [
    {
     "name": "stdout",
     "output_type": "stream",
     "text": [
      "<class 'pandas.core.frame.DataFrame'>\n",
      "Int64Index: 9140 entries, 0 to 9147\n",
      "Data columns (total 6 columns):\n",
      " #   Column     Non-Null Count  Dtype  \n",
      "---  ------     --------------  -----  \n",
      " 0   matter     9140 non-null   object \n",
      " 1   weight     9140 non-null   float64\n",
      " 2   size       9140 non-null   float64\n",
      " 3   is_defect  9140 non-null   int64  \n",
      " 4   platemark  9140 non-null   object \n",
      " 5   type       9140 non-null   object \n",
      "dtypes: float64(2), int64(1), object(3)\n",
      "memory usage: 499.8+ KB\n"
     ]
    },
    {
     "data": {
      "text/plain": [
       "(None,\n",
       " 0       1062.86\n",
       " 1        865.87\n",
       " 2        865.87\n",
       " 3        783.84\n",
       " 4        783.84\n",
       "          ...   \n",
       " 9143      64.29\n",
       " 9144      68.46\n",
       " 9145      82.85\n",
       " 9146      84.53\n",
       " 9147      85.06\n",
       " Name: price_before_takeoff, Length: 9140, dtype: float64)"
      ]
     },
     "execution_count": 5,
     "metadata": {},
     "output_type": "execute_result"
    }
   ],
   "source": [
    "X, y = df[df.columns[:df.columns.shape[0] - 1]], df[df.columns[-1]]\n",
    "X.info(), y"
   ]
  },
  {
   "cell_type": "code",
   "execution_count": 6,
   "id": "19cc130f-d448-42f0-ab79-a8a15fb27b27",
   "metadata": {},
   "outputs": [
    {
     "name": "stdout",
     "output_type": "stream",
     "text": [
      "['gold' 'silver']\n",
      "['585' '375' '925']\n",
      "['wedding' 'decorative' 'engagement' 'pechatki']\n"
     ]
    }
   ],
   "source": [
    "cats = cat_selector(X)\n",
    "for cat in cats:\n",
    "    print(X[cat].unique())"
   ]
  },
  {
   "cell_type": "code",
   "execution_count": 7,
   "id": "d485aba1-5dab-4132-8987-88d7ae7f5e58",
   "metadata": {},
   "outputs": [
    {
     "name": "stdout",
     "output_type": "stream",
     "text": [
      "0\n",
      "0\n",
      "0\n"
     ]
    }
   ],
   "source": [
    "nums = num_selector(X)\n",
    "for num in nums:\n",
    "    print(X[num].isna().sum())"
   ]
  },
  {
   "cell_type": "code",
   "execution_count": 8,
   "id": "5f135231-0ef7-43fb-a0b2-580abc6f8967",
   "metadata": {},
   "outputs": [
    {
     "data": {
      "text/html": [
       "<style>#sk-7a9b2bcd-bba1-428a-b070-e36d70c43f72 {color: black;background-color: white;}#sk-7a9b2bcd-bba1-428a-b070-e36d70c43f72 pre{padding: 0;}#sk-7a9b2bcd-bba1-428a-b070-e36d70c43f72 div.sk-toggleable {background-color: white;}#sk-7a9b2bcd-bba1-428a-b070-e36d70c43f72 label.sk-toggleable__label {cursor: pointer;display: block;width: 100%;margin-bottom: 0;padding: 0.2em 0.3em;box-sizing: border-box;text-align: center;}#sk-7a9b2bcd-bba1-428a-b070-e36d70c43f72 div.sk-toggleable__content {max-height: 0;max-width: 0;overflow: hidden;text-align: left;background-color: #f0f8ff;}#sk-7a9b2bcd-bba1-428a-b070-e36d70c43f72 div.sk-toggleable__content pre {margin: 0.2em;color: black;border-radius: 0.25em;background-color: #f0f8ff;}#sk-7a9b2bcd-bba1-428a-b070-e36d70c43f72 input.sk-toggleable__control:checked~div.sk-toggleable__content {max-height: 200px;max-width: 100%;overflow: auto;}#sk-7a9b2bcd-bba1-428a-b070-e36d70c43f72 div.sk-estimator input.sk-toggleable__control:checked~label.sk-toggleable__label {background-color: #d4ebff;}#sk-7a9b2bcd-bba1-428a-b070-e36d70c43f72 div.sk-label input.sk-toggleable__control:checked~label.sk-toggleable__label {background-color: #d4ebff;}#sk-7a9b2bcd-bba1-428a-b070-e36d70c43f72 input.sk-hidden--visually {border: 0;clip: rect(1px 1px 1px 1px);clip: rect(1px, 1px, 1px, 1px);height: 1px;margin: -1px;overflow: hidden;padding: 0;position: absolute;width: 1px;}#sk-7a9b2bcd-bba1-428a-b070-e36d70c43f72 div.sk-estimator {font-family: monospace;background-color: #f0f8ff;margin: 0.25em 0.25em;border: 1px dotted black;border-radius: 0.25em;box-sizing: border-box;}#sk-7a9b2bcd-bba1-428a-b070-e36d70c43f72 div.sk-estimator:hover {background-color: #d4ebff;}#sk-7a9b2bcd-bba1-428a-b070-e36d70c43f72 div.sk-parallel-item::after {content: \"\";width: 100%;border-bottom: 1px solid gray;flex-grow: 1;}#sk-7a9b2bcd-bba1-428a-b070-e36d70c43f72 div.sk-label:hover label.sk-toggleable__label {background-color: #d4ebff;}#sk-7a9b2bcd-bba1-428a-b070-e36d70c43f72 div.sk-serial::before {content: \"\";position: absolute;border-left: 1px solid gray;box-sizing: border-box;top: 2em;bottom: 0;left: 50%;}#sk-7a9b2bcd-bba1-428a-b070-e36d70c43f72 div.sk-serial {display: flex;flex-direction: column;align-items: center;background-color: white;}#sk-7a9b2bcd-bba1-428a-b070-e36d70c43f72 div.sk-item {z-index: 1;}#sk-7a9b2bcd-bba1-428a-b070-e36d70c43f72 div.sk-parallel {display: flex;align-items: stretch;justify-content: center;background-color: white;}#sk-7a9b2bcd-bba1-428a-b070-e36d70c43f72 div.sk-parallel-item {display: flex;flex-direction: column;position: relative;background-color: white;}#sk-7a9b2bcd-bba1-428a-b070-e36d70c43f72 div.sk-parallel-item:first-child::after {align-self: flex-end;width: 50%;}#sk-7a9b2bcd-bba1-428a-b070-e36d70c43f72 div.sk-parallel-item:last-child::after {align-self: flex-start;width: 50%;}#sk-7a9b2bcd-bba1-428a-b070-e36d70c43f72 div.sk-parallel-item:only-child::after {width: 0;}#sk-7a9b2bcd-bba1-428a-b070-e36d70c43f72 div.sk-dashed-wrapped {border: 1px dashed gray;margin: 0.2em;box-sizing: border-box;padding-bottom: 0.1em;background-color: white;position: relative;}#sk-7a9b2bcd-bba1-428a-b070-e36d70c43f72 div.sk-label label {font-family: monospace;font-weight: bold;background-color: white;display: inline-block;line-height: 1.2em;}#sk-7a9b2bcd-bba1-428a-b070-e36d70c43f72 div.sk-label-container {position: relative;z-index: 2;text-align: center;}#sk-7a9b2bcd-bba1-428a-b070-e36d70c43f72 div.sk-container {display: inline-block;position: relative;}</style><div id=\"sk-7a9b2bcd-bba1-428a-b070-e36d70c43f72\" class\"sk-top-container\"><div class=\"sk-container\"><div class=\"sk-item sk-dashed-wrapped\"><div class=\"sk-label-container\"><div class=\"sk-label sk-toggleable\"><input class=\"sk-toggleable__control sk-hidden--visually\" id=\"bd346799-496c-4e13-9eea-5a590724609e\" type=\"checkbox\" ><label class=\"sk-toggleable__label\" for=\"bd346799-496c-4e13-9eea-5a590724609e\">ColumnTransformer</label><div class=\"sk-toggleable__content\"><pre>ColumnTransformer(transformers=[('standardscaler', StandardScaler(),\n",
       "                                 <sklearn.compose._column_transformer.make_column_selector object at 0x0000018E6D7E0970>),\n",
       "                                ('onehotencoder', OneHotEncoder(),\n",
       "                                 <sklearn.compose._column_transformer.make_column_selector object at 0x0000018E6D7E0880>)])</pre></div></div></div><div class=\"sk-parallel\"><div class=\"sk-parallel-item\"><div class=\"sk-item\"><div class=\"sk-label-container\"><div class=\"sk-label sk-toggleable\"><input class=\"sk-toggleable__control sk-hidden--visually\" id=\"da8da5b1-4c2e-494b-8034-9c930d46ae27\" type=\"checkbox\" ><label class=\"sk-toggleable__label\" for=\"da8da5b1-4c2e-494b-8034-9c930d46ae27\">standardscaler</label><div class=\"sk-toggleable__content\"><pre><sklearn.compose._column_transformer.make_column_selector object at 0x0000018E6D7E0970></pre></div></div></div><div class=\"sk-serial\"><div class=\"sk-item\"><div class=\"sk-estimator sk-toggleable\"><input class=\"sk-toggleable__control sk-hidden--visually\" id=\"ffbbf5d1-71a2-4a26-94a9-3e7112f812aa\" type=\"checkbox\" ><label class=\"sk-toggleable__label\" for=\"ffbbf5d1-71a2-4a26-94a9-3e7112f812aa\">StandardScaler</label><div class=\"sk-toggleable__content\"><pre>StandardScaler()</pre></div></div></div></div></div></div><div class=\"sk-parallel-item\"><div class=\"sk-item\"><div class=\"sk-label-container\"><div class=\"sk-label sk-toggleable\"><input class=\"sk-toggleable__control sk-hidden--visually\" id=\"648e8256-4f0f-4971-9a3c-c1f7fbb00d74\" type=\"checkbox\" ><label class=\"sk-toggleable__label\" for=\"648e8256-4f0f-4971-9a3c-c1f7fbb00d74\">onehotencoder</label><div class=\"sk-toggleable__content\"><pre><sklearn.compose._column_transformer.make_column_selector object at 0x0000018E6D7E0880></pre></div></div></div><div class=\"sk-serial\"><div class=\"sk-item\"><div class=\"sk-estimator sk-toggleable\"><input class=\"sk-toggleable__control sk-hidden--visually\" id=\"9ba74088-7e32-43bd-b40d-9ac484eae701\" type=\"checkbox\" ><label class=\"sk-toggleable__label\" for=\"9ba74088-7e32-43bd-b40d-9ac484eae701\">OneHotEncoder</label><div class=\"sk-toggleable__content\"><pre>OneHotEncoder()</pre></div></div></div></div></div></div></div></div></div></div>"
      ],
      "text/plain": [
       "ColumnTransformer(transformers=[('standardscaler', StandardScaler(),\n",
       "                                 <sklearn.compose._column_transformer.make_column_selector object at 0x0000018E6D7E0970>),\n",
       "                                ('onehotencoder', OneHotEncoder(),\n",
       "                                 <sklearn.compose._column_transformer.make_column_selector object at 0x0000018E6D7E0880>)])"
      ]
     },
     "execution_count": 8,
     "metadata": {},
     "output_type": "execute_result"
    }
   ],
   "source": [
    "cat_linear_processor = OneHotEncoder()\n",
    "num_linear_processor = StandardScaler()\n",
    "preproc = make_column_transformer(\n",
    "    (num_linear_processor, num_selector), (cat_linear_processor, cat_selector))\n",
    "preproc"
   ]
  },
  {
   "cell_type": "code",
   "execution_count": 9,
   "id": "4eaf5398-9349-410b-9a36-4e3bffd87d37",
   "metadata": {},
   "outputs": [
    {
     "data": {
      "text/html": [
       "<style>#sk-940278de-99fa-4b18-ad2b-a8893519c383 {color: black;background-color: white;}#sk-940278de-99fa-4b18-ad2b-a8893519c383 pre{padding: 0;}#sk-940278de-99fa-4b18-ad2b-a8893519c383 div.sk-toggleable {background-color: white;}#sk-940278de-99fa-4b18-ad2b-a8893519c383 label.sk-toggleable__label {cursor: pointer;display: block;width: 100%;margin-bottom: 0;padding: 0.2em 0.3em;box-sizing: border-box;text-align: center;}#sk-940278de-99fa-4b18-ad2b-a8893519c383 div.sk-toggleable__content {max-height: 0;max-width: 0;overflow: hidden;text-align: left;background-color: #f0f8ff;}#sk-940278de-99fa-4b18-ad2b-a8893519c383 div.sk-toggleable__content pre {margin: 0.2em;color: black;border-radius: 0.25em;background-color: #f0f8ff;}#sk-940278de-99fa-4b18-ad2b-a8893519c383 input.sk-toggleable__control:checked~div.sk-toggleable__content {max-height: 200px;max-width: 100%;overflow: auto;}#sk-940278de-99fa-4b18-ad2b-a8893519c383 div.sk-estimator input.sk-toggleable__control:checked~label.sk-toggleable__label {background-color: #d4ebff;}#sk-940278de-99fa-4b18-ad2b-a8893519c383 div.sk-label input.sk-toggleable__control:checked~label.sk-toggleable__label {background-color: #d4ebff;}#sk-940278de-99fa-4b18-ad2b-a8893519c383 input.sk-hidden--visually {border: 0;clip: rect(1px 1px 1px 1px);clip: rect(1px, 1px, 1px, 1px);height: 1px;margin: -1px;overflow: hidden;padding: 0;position: absolute;width: 1px;}#sk-940278de-99fa-4b18-ad2b-a8893519c383 div.sk-estimator {font-family: monospace;background-color: #f0f8ff;margin: 0.25em 0.25em;border: 1px dotted black;border-radius: 0.25em;box-sizing: border-box;}#sk-940278de-99fa-4b18-ad2b-a8893519c383 div.sk-estimator:hover {background-color: #d4ebff;}#sk-940278de-99fa-4b18-ad2b-a8893519c383 div.sk-parallel-item::after {content: \"\";width: 100%;border-bottom: 1px solid gray;flex-grow: 1;}#sk-940278de-99fa-4b18-ad2b-a8893519c383 div.sk-label:hover label.sk-toggleable__label {background-color: #d4ebff;}#sk-940278de-99fa-4b18-ad2b-a8893519c383 div.sk-serial::before {content: \"\";position: absolute;border-left: 1px solid gray;box-sizing: border-box;top: 2em;bottom: 0;left: 50%;}#sk-940278de-99fa-4b18-ad2b-a8893519c383 div.sk-serial {display: flex;flex-direction: column;align-items: center;background-color: white;}#sk-940278de-99fa-4b18-ad2b-a8893519c383 div.sk-item {z-index: 1;}#sk-940278de-99fa-4b18-ad2b-a8893519c383 div.sk-parallel {display: flex;align-items: stretch;justify-content: center;background-color: white;}#sk-940278de-99fa-4b18-ad2b-a8893519c383 div.sk-parallel-item {display: flex;flex-direction: column;position: relative;background-color: white;}#sk-940278de-99fa-4b18-ad2b-a8893519c383 div.sk-parallel-item:first-child::after {align-self: flex-end;width: 50%;}#sk-940278de-99fa-4b18-ad2b-a8893519c383 div.sk-parallel-item:last-child::after {align-self: flex-start;width: 50%;}#sk-940278de-99fa-4b18-ad2b-a8893519c383 div.sk-parallel-item:only-child::after {width: 0;}#sk-940278de-99fa-4b18-ad2b-a8893519c383 div.sk-dashed-wrapped {border: 1px dashed gray;margin: 0.2em;box-sizing: border-box;padding-bottom: 0.1em;background-color: white;position: relative;}#sk-940278de-99fa-4b18-ad2b-a8893519c383 div.sk-label label {font-family: monospace;font-weight: bold;background-color: white;display: inline-block;line-height: 1.2em;}#sk-940278de-99fa-4b18-ad2b-a8893519c383 div.sk-label-container {position: relative;z-index: 2;text-align: center;}#sk-940278de-99fa-4b18-ad2b-a8893519c383 div.sk-container {display: inline-block;position: relative;}</style><div id=\"sk-940278de-99fa-4b18-ad2b-a8893519c383\" class\"sk-top-container\"><div class=\"sk-container\"><div class=\"sk-item sk-dashed-wrapped\"><div class=\"sk-label-container\"><div class=\"sk-label sk-toggleable\"><input class=\"sk-toggleable__control sk-hidden--visually\" id=\"6fef3de8-c7a9-4016-a7f8-ec027567dce9\" type=\"checkbox\" ><label class=\"sk-toggleable__label\" for=\"6fef3de8-c7a9-4016-a7f8-ec027567dce9\">Pipeline</label><div class=\"sk-toggleable__content\"><pre>Pipeline(steps=[('columntransformer',\n",
       "                 ColumnTransformer(transformers=[('standardscaler',\n",
       "                                                  StandardScaler(),\n",
       "                                                  <sklearn.compose._column_transformer.make_column_selector object at 0x0000018E6D7E0970>),\n",
       "                                                 ('onehotencoder',\n",
       "                                                  OneHotEncoder(),\n",
       "                                                  <sklearn.compose._column_transformer.make_column_selector object at 0x0000018E6D7E0880>)])),\n",
       "                ('xgbregressor',\n",
       "                 XGBRegressor(base_scor...\n",
       "                              importance_type='gain',\n",
       "                              interaction_constraints=None, learning_rate=None,\n",
       "                              max_delta_step=None, max_depth=None,\n",
       "                              min_child_weight=None, missing=nan,\n",
       "                              monotone_constraints=None, n_estimators=100,\n",
       "                              n_jobs=None, num_parallel_tree=None,\n",
       "                              random_state=None, reg_alpha=None,\n",
       "                              reg_lambda=None, scale_pos_weight=None,\n",
       "                              subsample=None, tree_method=None,\n",
       "                              validate_parameters=None, verbosity=None))])</pre></div></div></div><div class=\"sk-serial\"><div class=\"sk-item sk-dashed-wrapped\"><div class=\"sk-label-container\"><div class=\"sk-label sk-toggleable\"><input class=\"sk-toggleable__control sk-hidden--visually\" id=\"65399caf-ab2e-4931-bd0f-a7eea9aecf79\" type=\"checkbox\" ><label class=\"sk-toggleable__label\" for=\"65399caf-ab2e-4931-bd0f-a7eea9aecf79\">columntransformer: ColumnTransformer</label><div class=\"sk-toggleable__content\"><pre>ColumnTransformer(transformers=[('standardscaler', StandardScaler(),\n",
       "                                 <sklearn.compose._column_transformer.make_column_selector object at 0x0000018E6D7E0970>),\n",
       "                                ('onehotencoder', OneHotEncoder(),\n",
       "                                 <sklearn.compose._column_transformer.make_column_selector object at 0x0000018E6D7E0880>)])</pre></div></div></div><div class=\"sk-parallel\"><div class=\"sk-parallel-item\"><div class=\"sk-item\"><div class=\"sk-label-container\"><div class=\"sk-label sk-toggleable\"><input class=\"sk-toggleable__control sk-hidden--visually\" id=\"35eecd66-2e55-4559-9b23-0e00b53ffafd\" type=\"checkbox\" ><label class=\"sk-toggleable__label\" for=\"35eecd66-2e55-4559-9b23-0e00b53ffafd\">standardscaler</label><div class=\"sk-toggleable__content\"><pre><sklearn.compose._column_transformer.make_column_selector object at 0x0000018E6D7E0970></pre></div></div></div><div class=\"sk-serial\"><div class=\"sk-item\"><div class=\"sk-estimator sk-toggleable\"><input class=\"sk-toggleable__control sk-hidden--visually\" id=\"2d8516d6-65d2-48f0-9801-7eb2161f7d08\" type=\"checkbox\" ><label class=\"sk-toggleable__label\" for=\"2d8516d6-65d2-48f0-9801-7eb2161f7d08\">StandardScaler</label><div class=\"sk-toggleable__content\"><pre>StandardScaler()</pre></div></div></div></div></div></div><div class=\"sk-parallel-item\"><div class=\"sk-item\"><div class=\"sk-label-container\"><div class=\"sk-label sk-toggleable\"><input class=\"sk-toggleable__control sk-hidden--visually\" id=\"ebf26bbb-534f-4871-9f8b-c88816146dfe\" type=\"checkbox\" ><label class=\"sk-toggleable__label\" for=\"ebf26bbb-534f-4871-9f8b-c88816146dfe\">onehotencoder</label><div class=\"sk-toggleable__content\"><pre><sklearn.compose._column_transformer.make_column_selector object at 0x0000018E6D7E0880></pre></div></div></div><div class=\"sk-serial\"><div class=\"sk-item\"><div class=\"sk-estimator sk-toggleable\"><input class=\"sk-toggleable__control sk-hidden--visually\" id=\"caf67c28-b6f4-42bc-949d-856c94f69f26\" type=\"checkbox\" ><label class=\"sk-toggleable__label\" for=\"caf67c28-b6f4-42bc-949d-856c94f69f26\">OneHotEncoder</label><div class=\"sk-toggleable__content\"><pre>OneHotEncoder()</pre></div></div></div></div></div></div></div></div><div class=\"sk-item\"><div class=\"sk-estimator sk-toggleable\"><input class=\"sk-toggleable__control sk-hidden--visually\" id=\"bfdd5026-a31d-4556-979f-deba7e957916\" type=\"checkbox\" ><label class=\"sk-toggleable__label\" for=\"bfdd5026-a31d-4556-979f-deba7e957916\">XGBRegressor</label><div class=\"sk-toggleable__content\"><pre>XGBRegressor(base_score=None, booster=None, colsample_bylevel=None,\n",
       "             colsample_bynode=None, colsample_bytree=None, gamma=None,\n",
       "             gpu_id=None, importance_type='gain', interaction_constraints=None,\n",
       "             learning_rate=None, max_delta_step=None, max_depth=None,\n",
       "             min_child_weight=None, missing=nan, monotone_constraints=None,\n",
       "             n_estimators=100, n_jobs=None, num_parallel_tree=None,\n",
       "             random_state=None, reg_alpha=None, reg_lambda=None,\n",
       "             scale_pos_weight=None, subsample=None, tree_method=None,\n",
       "             validate_parameters=None, verbosity=None)</pre></div></div></div></div></div></div></div>"
      ],
      "text/plain": [
       "Pipeline(steps=[('columntransformer',\n",
       "                 ColumnTransformer(transformers=[('standardscaler',\n",
       "                                                  StandardScaler(),\n",
       "                                                  <sklearn.compose._column_transformer.make_column_selector object at 0x0000018E6D7E0970>),\n",
       "                                                 ('onehotencoder',\n",
       "                                                  OneHotEncoder(),\n",
       "                                                  <sklearn.compose._column_transformer.make_column_selector object at 0x0000018E6D7E0880>)])),\n",
       "                ('xgbregressor',\n",
       "                 XGBRegressor(base_scor...\n",
       "                              importance_type='gain',\n",
       "                              interaction_constraints=None, learning_rate=None,\n",
       "                              max_delta_step=None, max_depth=None,\n",
       "                              min_child_weight=None, missing=nan,\n",
       "                              monotone_constraints=None, n_estimators=100,\n",
       "                              n_jobs=None, num_parallel_tree=None,\n",
       "                              random_state=None, reg_alpha=None,\n",
       "                              reg_lambda=None, scale_pos_weight=None,\n",
       "                              subsample=None, tree_method=None,\n",
       "                              validate_parameters=None, verbosity=None))])"
      ]
     },
     "execution_count": 9,
     "metadata": {},
     "output_type": "execute_result"
    }
   ],
   "source": [
    "from xgboost import XGBRegressor\n",
    "\n",
    "xgb_pipe = make_pipeline(preproc, XGBRegressor())\n",
    "xgb_pipe"
   ]
  },
  {
   "cell_type": "code",
   "execution_count": 10,
   "id": "ae4581fa-e757-417a-a40b-ab88ab6e5f1d",
   "metadata": {},
   "outputs": [
    {
     "data": {
      "text/html": [
       "<style>#sk-5f21e981-2362-4935-a3c6-d376fb69f517 {color: black;background-color: white;}#sk-5f21e981-2362-4935-a3c6-d376fb69f517 pre{padding: 0;}#sk-5f21e981-2362-4935-a3c6-d376fb69f517 div.sk-toggleable {background-color: white;}#sk-5f21e981-2362-4935-a3c6-d376fb69f517 label.sk-toggleable__label {cursor: pointer;display: block;width: 100%;margin-bottom: 0;padding: 0.2em 0.3em;box-sizing: border-box;text-align: center;}#sk-5f21e981-2362-4935-a3c6-d376fb69f517 div.sk-toggleable__content {max-height: 0;max-width: 0;overflow: hidden;text-align: left;background-color: #f0f8ff;}#sk-5f21e981-2362-4935-a3c6-d376fb69f517 div.sk-toggleable__content pre {margin: 0.2em;color: black;border-radius: 0.25em;background-color: #f0f8ff;}#sk-5f21e981-2362-4935-a3c6-d376fb69f517 input.sk-toggleable__control:checked~div.sk-toggleable__content {max-height: 200px;max-width: 100%;overflow: auto;}#sk-5f21e981-2362-4935-a3c6-d376fb69f517 div.sk-estimator input.sk-toggleable__control:checked~label.sk-toggleable__label {background-color: #d4ebff;}#sk-5f21e981-2362-4935-a3c6-d376fb69f517 div.sk-label input.sk-toggleable__control:checked~label.sk-toggleable__label {background-color: #d4ebff;}#sk-5f21e981-2362-4935-a3c6-d376fb69f517 input.sk-hidden--visually {border: 0;clip: rect(1px 1px 1px 1px);clip: rect(1px, 1px, 1px, 1px);height: 1px;margin: -1px;overflow: hidden;padding: 0;position: absolute;width: 1px;}#sk-5f21e981-2362-4935-a3c6-d376fb69f517 div.sk-estimator {font-family: monospace;background-color: #f0f8ff;margin: 0.25em 0.25em;border: 1px dotted black;border-radius: 0.25em;box-sizing: border-box;}#sk-5f21e981-2362-4935-a3c6-d376fb69f517 div.sk-estimator:hover {background-color: #d4ebff;}#sk-5f21e981-2362-4935-a3c6-d376fb69f517 div.sk-parallel-item::after {content: \"\";width: 100%;border-bottom: 1px solid gray;flex-grow: 1;}#sk-5f21e981-2362-4935-a3c6-d376fb69f517 div.sk-label:hover label.sk-toggleable__label {background-color: #d4ebff;}#sk-5f21e981-2362-4935-a3c6-d376fb69f517 div.sk-serial::before {content: \"\";position: absolute;border-left: 1px solid gray;box-sizing: border-box;top: 2em;bottom: 0;left: 50%;}#sk-5f21e981-2362-4935-a3c6-d376fb69f517 div.sk-serial {display: flex;flex-direction: column;align-items: center;background-color: white;}#sk-5f21e981-2362-4935-a3c6-d376fb69f517 div.sk-item {z-index: 1;}#sk-5f21e981-2362-4935-a3c6-d376fb69f517 div.sk-parallel {display: flex;align-items: stretch;justify-content: center;background-color: white;}#sk-5f21e981-2362-4935-a3c6-d376fb69f517 div.sk-parallel-item {display: flex;flex-direction: column;position: relative;background-color: white;}#sk-5f21e981-2362-4935-a3c6-d376fb69f517 div.sk-parallel-item:first-child::after {align-self: flex-end;width: 50%;}#sk-5f21e981-2362-4935-a3c6-d376fb69f517 div.sk-parallel-item:last-child::after {align-self: flex-start;width: 50%;}#sk-5f21e981-2362-4935-a3c6-d376fb69f517 div.sk-parallel-item:only-child::after {width: 0;}#sk-5f21e981-2362-4935-a3c6-d376fb69f517 div.sk-dashed-wrapped {border: 1px dashed gray;margin: 0.2em;box-sizing: border-box;padding-bottom: 0.1em;background-color: white;position: relative;}#sk-5f21e981-2362-4935-a3c6-d376fb69f517 div.sk-label label {font-family: monospace;font-weight: bold;background-color: white;display: inline-block;line-height: 1.2em;}#sk-5f21e981-2362-4935-a3c6-d376fb69f517 div.sk-label-container {position: relative;z-index: 2;text-align: center;}#sk-5f21e981-2362-4935-a3c6-d376fb69f517 div.sk-container {display: inline-block;position: relative;}</style><div id=\"sk-5f21e981-2362-4935-a3c6-d376fb69f517\" class\"sk-top-container\"><div class=\"sk-container\"><div class=\"sk-item sk-dashed-wrapped\"><div class=\"sk-label-container\"><div class=\"sk-label sk-toggleable\"><input class=\"sk-toggleable__control sk-hidden--visually\" id=\"4bffc54b-417b-4ab0-81e2-668e50b68bb0\" type=\"checkbox\" ><label class=\"sk-toggleable__label\" for=\"4bffc54b-417b-4ab0-81e2-668e50b68bb0\">Pipeline</label><div class=\"sk-toggleable__content\"><pre>Pipeline(steps=[('columntransformer',\n",
       "                 ColumnTransformer(transformers=[('standardscaler',\n",
       "                                                  StandardScaler(),\n",
       "                                                  <sklearn.compose._column_transformer.make_column_selector object at 0x0000018E6D7E0970>),\n",
       "                                                 ('onehotencoder',\n",
       "                                                  OneHotEncoder(),\n",
       "                                                  <sklearn.compose._column_transformer.make_column_selector object at 0x0000018E6D7E0880>)])),\n",
       "                ('linearregression', LinearRegression())])</pre></div></div></div><div class=\"sk-serial\"><div class=\"sk-item sk-dashed-wrapped\"><div class=\"sk-label-container\"><div class=\"sk-label sk-toggleable\"><input class=\"sk-toggleable__control sk-hidden--visually\" id=\"6804b824-ccac-4823-a95f-bc296e4e42a9\" type=\"checkbox\" ><label class=\"sk-toggleable__label\" for=\"6804b824-ccac-4823-a95f-bc296e4e42a9\">columntransformer: ColumnTransformer</label><div class=\"sk-toggleable__content\"><pre>ColumnTransformer(transformers=[('standardscaler', StandardScaler(),\n",
       "                                 <sklearn.compose._column_transformer.make_column_selector object at 0x0000018E6D7E0970>),\n",
       "                                ('onehotencoder', OneHotEncoder(),\n",
       "                                 <sklearn.compose._column_transformer.make_column_selector object at 0x0000018E6D7E0880>)])</pre></div></div></div><div class=\"sk-parallel\"><div class=\"sk-parallel-item\"><div class=\"sk-item\"><div class=\"sk-label-container\"><div class=\"sk-label sk-toggleable\"><input class=\"sk-toggleable__control sk-hidden--visually\" id=\"313385ae-53a3-4657-8711-bc666bb760c8\" type=\"checkbox\" ><label class=\"sk-toggleable__label\" for=\"313385ae-53a3-4657-8711-bc666bb760c8\">standardscaler</label><div class=\"sk-toggleable__content\"><pre><sklearn.compose._column_transformer.make_column_selector object at 0x0000018E6D7E0970></pre></div></div></div><div class=\"sk-serial\"><div class=\"sk-item\"><div class=\"sk-estimator sk-toggleable\"><input class=\"sk-toggleable__control sk-hidden--visually\" id=\"47c62dd5-a88f-4c0f-ae47-10b5a185c047\" type=\"checkbox\" ><label class=\"sk-toggleable__label\" for=\"47c62dd5-a88f-4c0f-ae47-10b5a185c047\">StandardScaler</label><div class=\"sk-toggleable__content\"><pre>StandardScaler()</pre></div></div></div></div></div></div><div class=\"sk-parallel-item\"><div class=\"sk-item\"><div class=\"sk-label-container\"><div class=\"sk-label sk-toggleable\"><input class=\"sk-toggleable__control sk-hidden--visually\" id=\"b815f06b-1145-411b-b740-24d23f79fc29\" type=\"checkbox\" ><label class=\"sk-toggleable__label\" for=\"b815f06b-1145-411b-b740-24d23f79fc29\">onehotencoder</label><div class=\"sk-toggleable__content\"><pre><sklearn.compose._column_transformer.make_column_selector object at 0x0000018E6D7E0880></pre></div></div></div><div class=\"sk-serial\"><div class=\"sk-item\"><div class=\"sk-estimator sk-toggleable\"><input class=\"sk-toggleable__control sk-hidden--visually\" id=\"7f47f57c-631b-4812-8662-0fad9630cdd9\" type=\"checkbox\" ><label class=\"sk-toggleable__label\" for=\"7f47f57c-631b-4812-8662-0fad9630cdd9\">OneHotEncoder</label><div class=\"sk-toggleable__content\"><pre>OneHotEncoder()</pre></div></div></div></div></div></div></div></div><div class=\"sk-item\"><div class=\"sk-estimator sk-toggleable\"><input class=\"sk-toggleable__control sk-hidden--visually\" id=\"1503cb69-775b-4ac2-8ef5-558dbc1545b5\" type=\"checkbox\" ><label class=\"sk-toggleable__label\" for=\"1503cb69-775b-4ac2-8ef5-558dbc1545b5\">LinearRegression</label><div class=\"sk-toggleable__content\"><pre>LinearRegression()</pre></div></div></div></div></div></div></div>"
      ],
      "text/plain": [
       "Pipeline(steps=[('columntransformer',\n",
       "                 ColumnTransformer(transformers=[('standardscaler',\n",
       "                                                  StandardScaler(),\n",
       "                                                  <sklearn.compose._column_transformer.make_column_selector object at 0x0000018E6D7E0970>),\n",
       "                                                 ('onehotencoder',\n",
       "                                                  OneHotEncoder(),\n",
       "                                                  <sklearn.compose._column_transformer.make_column_selector object at 0x0000018E6D7E0880>)])),\n",
       "                ('linearregression', LinearRegression())])"
      ]
     },
     "execution_count": 10,
     "metadata": {},
     "output_type": "execute_result"
    }
   ],
   "source": [
    "from sklearn.linear_model import LinearRegression\n",
    "\n",
    "lr_pipe = make_pipeline(preproc, LinearRegression())\n",
    "lr_pipe"
   ]
  },
  {
   "cell_type": "code",
   "execution_count": 11,
   "id": "ddd8708a-ae7e-4cc5-b6bf-560f56caf1d2",
   "metadata": {},
   "outputs": [],
   "source": [
    "from sklearn.model_selection import train_test_split\n",
    "\n",
    "X_train, X_test, y_train, y_test = train_test_split(\n",
    "    X, y, test_size=0.33, random_state=0)"
   ]
  },
  {
   "cell_type": "code",
   "execution_count": 12,
   "id": "03bd972b-ceca-4de6-8ae4-020ca13f5b8a",
   "metadata": {},
   "outputs": [],
   "source": [
    "from sklearn.model_selection import GridSearchCV\n",
    "\n",
    "params = {\n",
    "    'n_estimators' :[10, 50, 100, 250, 500],\n",
    "    'learning_rate': [0.001, 0.01, 0.1, 0.5, 1]    \n",
    "}\n",
    "cv = GridSearchCV(xgb_pipe, params, scoring='neg_mean_absolute_error', return_train_score=False)"
   ]
  },
  {
   "cell_type": "code",
   "execution_count": 13,
   "id": "ecbe4dca-1e2b-4e57-abc3-2654781238a0",
   "metadata": {},
   "outputs": [],
   "source": [
    "xgb_pipe.fit(X_train, y_train)\n",
    "pr = xgb_pipe.predict(X_test)"
   ]
  },
  {
   "cell_type": "code",
   "execution_count": 14,
   "id": "ba8e94d4-0e7a-4030-89d3-a09abdece346",
   "metadata": {},
   "outputs": [],
   "source": [
    "from sklearn.metrics import mean_squared_error, mean_absolute_percentage_error, mean_absolute_error"
   ]
  },
  {
   "cell_type": "code",
   "execution_count": 15,
   "id": "6b599867-3849-4a28-a56a-66c251174d6f",
   "metadata": {
    "collapsed": true,
    "jupyter": {
     "outputs_hidden": true,
     "source_hidden": true
    },
    "tags": []
   },
   "outputs": [
    {
     "data": {
      "text/plain": [
       "645641.5316700914"
      ]
     },
     "execution_count": 15,
     "metadata": {},
     "output_type": "execute_result"
    }
   ],
   "source": [
    "mean_squared_error(pr, y_test)"
   ]
  },
  {
   "cell_type": "code",
   "execution_count": 16,
   "id": "bf0d7b9d-3f1b-4539-a0c9-cba6104462ed",
   "metadata": {},
   "outputs": [
    {
     "data": {
      "text/plain": [
       "0.4059887252155697"
      ]
     },
     "execution_count": 16,
     "metadata": {},
     "output_type": "execute_result"
    }
   ],
   "source": [
    "mean_absolute_percentage_error(pr, y_test)"
   ]
  },
  {
   "cell_type": "code",
   "execution_count": 17,
   "id": "0544526e-726e-4e84-ac73-aa080df97e28",
   "metadata": {
    "tags": []
   },
   "outputs": [
    {
     "data": {
      "text/plain": [
       "189.25062205141728"
      ]
     },
     "execution_count": 17,
     "metadata": {},
     "output_type": "execute_result"
    }
   ],
   "source": [
    "mean_absolute_error(pr, y_test)"
   ]
  },
  {
   "cell_type": "code",
   "execution_count": 18,
   "id": "edb68e06-8dea-4471-a7b2-d2a0ed19bad0",
   "metadata": {
    "jupyter": {
     "source_hidden": true
    },
    "tags": []
   },
   "outputs": [],
   "source": [
    "lr_pipe.fit(X_train, y_train)\n",
    "pr = lr_pipe.predict(X_test)"
   ]
  },
  {
   "cell_type": "code",
   "execution_count": 19,
   "id": "2da561dd-f443-4298-97c6-3cd5126b5bec",
   "metadata": {
    "collapsed": true,
    "jupyter": {
     "outputs_hidden": true,
     "source_hidden": true
    },
    "tags": []
   },
   "outputs": [
    {
     "data": {
      "text/plain": [
       "771993.3405949288"
      ]
     },
     "execution_count": 19,
     "metadata": {},
     "output_type": "execute_result"
    }
   ],
   "source": [
    "mean_squared_error(pr, y_test)"
   ]
  },
  {
   "cell_type": "code",
   "execution_count": 20,
   "id": "e95713f3-c92f-4442-986c-0d8fd22a6f23",
   "metadata": {
    "collapsed": true,
    "jupyter": {
     "outputs_hidden": true,
     "source_hidden": true
    },
    "tags": []
   },
   "outputs": [
    {
     "data": {
      "text/plain": [
       "1908170833167950.5"
      ]
     },
     "execution_count": 20,
     "metadata": {},
     "output_type": "execute_result"
    }
   ],
   "source": [
    "mean_absolute_percentage_error(pr, y_test)"
   ]
  },
  {
   "cell_type": "code",
   "execution_count": 21,
   "id": "41e03cc5-9c38-410e-8c6e-8960cf416cb7",
   "metadata": {
    "collapsed": true,
    "jupyter": {
     "outputs_hidden": true,
     "source_hidden": true
    },
    "tags": []
   },
   "outputs": [
    {
     "data": {
      "text/plain": [
       "380.56034139874043"
      ]
     },
     "execution_count": 21,
     "metadata": {},
     "output_type": "execute_result"
    }
   ],
   "source": [
    "mean_absolute_error(pr, y_test)"
   ]
  }
 ],
 "metadata": {
  "kernelspec": {
   "display_name": "Python 3 (ipykernel)",
   "language": "python",
   "name": "python3"
  },
  "language_info": {
   "codemirror_mode": {
    "name": "ipython",
    "version": 3
   },
   "file_extension": ".py",
   "mimetype": "text/x-python",
   "name": "python",
   "nbconvert_exporter": "python",
   "pygments_lexer": "ipython3",
   "version": "3.9.6"
  }
 },
 "nbformat": 4,
 "nbformat_minor": 5
}
