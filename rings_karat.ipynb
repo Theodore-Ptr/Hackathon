{
  "nbformat": 4,
  "nbformat_minor": 0,
  "metadata": {
    "colab": {
      "name": "rings_karat.ipynb",
      "provenance": [],
      "collapsed_sections": []
    },
    "kernelspec": {
      "display_name": "Python 3",
      "name": "python3"
    },
    "language_info": {
      "name": "python"
    }
  },
  "cells": [
    {
      "cell_type": "markdown",
      "metadata": {
        "id": "LO--xtaD8gur"
      },
      "source": [
        "Например, на бирке Вы можете увидеть следующее: **1Бр Кр57 - 0,31 1/3А**. Разберем, что означают эти цифры и буквы на бирке:\n",
        "\n",
        "    1Бр - это 1 бриллиант круглой огранки;\n",
        "    Кр57 - это круглая огранка 57 граней;\n",
        "    0,31 - это вес в каратах: 0,31 карата высшей чистоты;\n",
        "    1/3 - первая цифра обозначает группу цвета, вторая - группу чистоты;\n",
        "    [А] - группа качества огранки.\n"
      ]
    },
    {
      "cell_type": "code",
      "metadata": {
        "id": "IMDJIB8k4rmG"
      },
      "source": [
        "import numpy as np\n",
        "import pandas as pd\n",
        "import matplotlib.pyplot as plt\n",
        "import seaborn as sns\n",
        "from sklearn.pipeline import make_pipeline, Pipeline, FeatureUnion\n",
        "from sklearn.compose import make_column_selector, make_column_transformer\n",
        "from sklearn.impute import SimpleImputer\n",
        "from sklearn.metrics import mean_squared_error, mean_absolute_error\n",
        "from sklearn.ensemble import ExtraTreesRegressor\n",
        "from sklearn.model_selection import GridSearchCV\n",
        "from sklearn.model_selection import train_test_split\n",
        "from sklearn.preprocessing import OrdinalEncoder\n",
        "from sklearn.preprocessing import OneHotEncoder\n",
        "from sklearn.preprocessing import StandardScaler\n",
        "from sklearn.base import BaseEstimator, TransformerMixin\n",
        "\n",
        "import plotly.graph_objects as go\n",
        "import plotly.express as px\n",
        "\n",
        "import warnings\n",
        "warnings.simplefilter('ignore')"
      ],
      "execution_count": null,
      "outputs": []
    },
    {
      "cell_type": "code",
      "metadata": {
        "id": "MymXaCym-G95"
      },
      "source": [
        "url = 'https://raw.githubusercontent.com/Theodore-Ptr/Hackathon/main/data/full_rings.csv'\n",
        "df = pd.read_csv(url, sep=\",\", index_col=0)\n",
        "df = df.drop_duplicates()\n",
        "df.drop(\"price_after_discount\", axis=1, inplace=True)"
      ],
      "execution_count": null,
      "outputs": []
    },
    {
      "cell_type": "code",
      "metadata": {
        "colab": {
          "base_uri": "https://localhost:8080/",
          "height": 417
        },
        "id": "ueDvy_rfRAOn",
        "outputId": "262653ee-b7b5-4fac-b9f7-5ee7bafbe46e"
      },
      "source": [
        "df"
      ],
      "execution_count": null,
      "outputs": [
        {
          "output_type": "execute_result",
          "data": {
            "text/html": [
              "<div>\n",
              "<style scoped>\n",
              "    .dataframe tbody tr th:only-of-type {\n",
              "        vertical-align: middle;\n",
              "    }\n",
              "\n",
              "    .dataframe tbody tr th {\n",
              "        vertical-align: top;\n",
              "    }\n",
              "\n",
              "    .dataframe thead th {\n",
              "        text-align: right;\n",
              "    }\n",
              "</style>\n",
              "<table border=\"1\" class=\"dataframe\">\n",
              "  <thead>\n",
              "    <tr style=\"text-align: right;\">\n",
              "      <th></th>\n",
              "      <th>matter</th>\n",
              "      <th>injection_params</th>\n",
              "      <th>weight</th>\n",
              "      <th>size</th>\n",
              "      <th>is_defect</th>\n",
              "      <th>platemark</th>\n",
              "      <th>type</th>\n",
              "      <th>price_before_takeoff</th>\n",
              "    </tr>\n",
              "  </thead>\n",
              "  <tbody>\n",
              "    <tr>\n",
              "      <th>0</th>\n",
              "      <td>gold</td>\n",
              "      <td>3 фианит 0,8 Круг</td>\n",
              "      <td>1.86</td>\n",
              "      <td>15.0</td>\n",
              "      <td>1</td>\n",
              "      <td>585</td>\n",
              "      <td>wedding</td>\n",
              "      <td>1062.86</td>\n",
              "    </tr>\n",
              "    <tr>\n",
              "      <th>1</th>\n",
              "      <td>gold</td>\n",
              "      <td>3 фианит 0,8 Круг</td>\n",
              "      <td>1.90</td>\n",
              "      <td>15.0</td>\n",
              "      <td>0</td>\n",
              "      <td>585</td>\n",
              "      <td>wedding</td>\n",
              "      <td>865.87</td>\n",
              "    </tr>\n",
              "    <tr>\n",
              "      <th>3</th>\n",
              "      <td>gold</td>\n",
              "      <td>3 фианит 0,8 Круг</td>\n",
              "      <td>1.72</td>\n",
              "      <td>15.0</td>\n",
              "      <td>0</td>\n",
              "      <td>585</td>\n",
              "      <td>wedding</td>\n",
              "      <td>783.84</td>\n",
              "    </tr>\n",
              "    <tr>\n",
              "      <th>7</th>\n",
              "      <td>gold</td>\n",
              "      <td>3 фианит 0,8 Круг</td>\n",
              "      <td>1.75</td>\n",
              "      <td>15.0</td>\n",
              "      <td>0</td>\n",
              "      <td>585</td>\n",
              "      <td>wedding</td>\n",
              "      <td>797.51</td>\n",
              "    </tr>\n",
              "    <tr>\n",
              "      <th>8</th>\n",
              "      <td>gold</td>\n",
              "      <td>3 фианит 0,8 Круг</td>\n",
              "      <td>1.78</td>\n",
              "      <td>15.0</td>\n",
              "      <td>0</td>\n",
              "      <td>585</td>\n",
              "      <td>wedding</td>\n",
              "      <td>1017.15</td>\n",
              "    </tr>\n",
              "    <tr>\n",
              "      <th>...</th>\n",
              "      <td>...</td>\n",
              "      <td>...</td>\n",
              "      <td>...</td>\n",
              "      <td>...</td>\n",
              "      <td>...</td>\n",
              "      <td>...</td>\n",
              "      <td>...</td>\n",
              "      <td>...</td>\n",
              "    </tr>\n",
              "    <tr>\n",
              "      <th>23425</th>\n",
              "      <td>gold</td>\n",
              "      <td>3 Фианит Кр 2,00 0,033;</td>\n",
              "      <td>3.00</td>\n",
              "      <td>17.5</td>\n",
              "      <td>0</td>\n",
              "      <td>585</td>\n",
              "      <td>decorative</td>\n",
              "      <td>1969.41</td>\n",
              "    </tr>\n",
              "    <tr>\n",
              "      <th>23426</th>\n",
              "      <td>gold</td>\n",
              "      <td>19 Фианит Кр 1,00 0,032;</td>\n",
              "      <td>2.35</td>\n",
              "      <td>18.5</td>\n",
              "      <td>0</td>\n",
              "      <td>585</td>\n",
              "      <td>decorative</td>\n",
              "      <td>1561.86</td>\n",
              "    </tr>\n",
              "    <tr>\n",
              "      <th>23427</th>\n",
              "      <td>gold</td>\n",
              "      <td>19 Фианит Кр 1,00 0,032;</td>\n",
              "      <td>2.41</td>\n",
              "      <td>19.0</td>\n",
              "      <td>0</td>\n",
              "      <td>585</td>\n",
              "      <td>decorative</td>\n",
              "      <td>1601.73</td>\n",
              "    </tr>\n",
              "    <tr>\n",
              "      <th>23428</th>\n",
              "      <td>gold</td>\n",
              "      <td>21 Фианит Кр 1,00 0,036;</td>\n",
              "      <td>2.09</td>\n",
              "      <td>17.0</td>\n",
              "      <td>0</td>\n",
              "      <td>585</td>\n",
              "      <td>decorative</td>\n",
              "      <td>1412.86</td>\n",
              "    </tr>\n",
              "    <tr>\n",
              "      <th>23429</th>\n",
              "      <td>gold</td>\n",
              "      <td>21 Фианит Кр 1,00 0,036;</td>\n",
              "      <td>2.23</td>\n",
              "      <td>18.0</td>\n",
              "      <td>0</td>\n",
              "      <td>585</td>\n",
              "      <td>decorative</td>\n",
              "      <td>1507.52</td>\n",
              "    </tr>\n",
              "  </tbody>\n",
              "</table>\n",
              "<p>19461 rows × 8 columns</p>\n",
              "</div>"
            ],
            "text/plain": [
              "      matter          injection_params  ...        type  price_before_takeoff\n",
              "0       gold         3 фианит 0,8 Круг  ...     wedding               1062.86\n",
              "1       gold         3 фианит 0,8 Круг  ...     wedding                865.87\n",
              "3       gold         3 фианит 0,8 Круг  ...     wedding                783.84\n",
              "7       gold         3 фианит 0,8 Круг  ...     wedding                797.51\n",
              "8       gold         3 фианит 0,8 Круг  ...     wedding               1017.15\n",
              "...      ...                       ...  ...         ...                   ...\n",
              "23425   gold   3 Фианит Кр 2,00 0,033;  ...  decorative               1969.41\n",
              "23426   gold  19 Фианит Кр 1,00 0,032;  ...  decorative               1561.86\n",
              "23427   gold  19 Фианит Кр 1,00 0,032;  ...  decorative               1601.73\n",
              "23428   gold  21 Фианит Кр 1,00 0,036;  ...  decorative               1412.86\n",
              "23429   gold  21 Фианит Кр 1,00 0,036;  ...  decorative               1507.52\n",
              "\n",
              "[19461 rows x 8 columns]"
            ]
          },
          "metadata": {
            "tags": []
          },
          "execution_count": 3
        }
      ]
    },
    {
      "cell_type": "code",
      "metadata": {
        "id": "nAFwLspcQvQ5"
      },
      "source": [
        "nums_features = make_column_selector(dtype_include=np.number)\n",
        "cats_features = make_column_selector(dtype_include=object)"
      ],
      "execution_count": null,
      "outputs": []
    },
    {
      "cell_type": "code",
      "metadata": {
        "id": "RVcDCuuTE4tZ"
      },
      "source": [
        "class FeatureSelector(BaseEstimator, TransformerMixin):\n",
        "    \"\"\"\n",
        "    The class provides basic functionality for retrieving\n",
        "    a subset of columns from the dataset.\n",
        "    \"\"\"\n",
        "    \n",
        "    def __init__(self, feature_names):\n",
        "        \"\"\"\n",
        "        Initialize class instance by setting\n",
        "        a list of columns to retrieve from the dataset.\n",
        "        \"\"\"\n",
        "        BaseEstimator.__init__(self)\n",
        "        TransformerMixin.__init__(self)\n",
        "        self.feature_names = feature_names\n",
        "        \n",
        "    def fit(self, X, y=None):\n",
        "        \"\"\"\n",
        "        Fit FeatureSelector to X, but really do nothing.\n",
        "        Return self.\n",
        "        \"\"\"\n",
        "        return self\n",
        "    \n",
        "    def transform(self, X, y=None):\n",
        "        \"\"\"\n",
        "        Transform X using feature selection. \n",
        "        Return column-subset of X.\n",
        "        \"\"\"\n",
        "        return X[self.feature_names]"
      ],
      "execution_count": null,
      "outputs": []
    },
    {
      "cell_type": "code",
      "metadata": {
        "id": "02LdqvWpMxyQ"
      },
      "source": [
        "class ParseInjection(BaseEstimator, TransformerMixin):\n",
        "    \n",
        "    def __init__(self):\n",
        "        BaseEstimator.__init__(self)\n",
        "        TransformerMixin.__init__(self)\n",
        "    \n",
        "    def fit(self, X, y=None):\n",
        "        return self\n",
        "    \n",
        "    def transform(self, X, y=None):\n",
        "        i = 0\n",
        "        for inj in X.injection_params:\n",
        "            if inj == \"None\":\n",
        "                i += 1\n",
        "                continue\n",
        "            stones = dict()\n",
        "            inj_strs = (inj.replace(', ', '|').replace('. ', '|')\n",
        "                        .replace(';', '|').split('|'))\n",
        "            for inj_substr in inj_strs:\n",
        "                str_split = inj_substr.split()\n",
        "                if len(str_split) < 3: \n",
        "                  continue\n",
        "                if str_split[0].isdigit() and (str_split[1].isalpha() or \n",
        "                                               str_split[1] in [\"Кер.кольцо\", \"Гор.хр\"]):\n",
        "                    stones.setdefault(str_split[1].lower(), 0)\n",
        "                    stones[str_split[1].lower()] += int(str_split[0])\n",
        "                elif any([True if \"БРКр\" in x else False for x in str_split]):\n",
        "                    for sub in str_split:\n",
        "                        if \"БРКр\" in sub:\n",
        "                            stones.setdefault(\"бриллиант\", 0)\n",
        "                            br_num = sub.split(\"БРКр\")[0]\n",
        "                            stones[\"бриллиант\"] += (int(br_num) if \"Родий\" not in sub \n",
        "                                                    else int(br_num.split(\"Родий\")[1]))\n",
        "                elif str_split[0][1:] in [\"Сапфир\", \"Изумруд\"]:\n",
        "                    stones.setdefault(str_split[0][1:].lower(), 0)\n",
        "                    stones[str_split[0][1:].lower()] += int(str_split[0][0])\n",
        "                elif str_split[0].isdigit() and str_split[2] in [\"Сапфир\", \"Изумруд\"]:\n",
        "                    stones.setdefault(str_split[2].lower(), 0)\n",
        "                    stones[str_split[2].lower()] += int(str_split[0])\n",
        "                elif len(str_split) > 2 and str_split[2] == \"Эмаль\":\n",
        "                    stones.setdefault(str_split[2].lower(), 0)\n",
        "                    stones[str_split[2].lower()] += int(str_split[0])\n",
        "            for name, num in stones.items():\n",
        "                name = name if name not in [\"бр\", \"брилл\"] else \"бриллиант\"\n",
        "                X.loc[X.index[i], name] = num\n",
        "            i += 1\n",
        "        return X.drop([\"injection_params\"], axis=1)"
      ],
      "execution_count": null,
      "outputs": []
    },
    {
      "cell_type": "code",
      "metadata": {
        "id": "gQ6HJtfbF2eZ"
      },
      "source": [
        "class NoiseCleaner(BaseEstimator, TransformerMixin):\n",
        "    def __init__(self, rate=5):\n",
        "        \"\"\"\n",
        "        cleans instances and columns that do not have significant impact\n",
        "        \"\"\"\n",
        "        BaseEstimator.__init__(self)\n",
        "        TransformerMixin.__init__(self)\n",
        "        self.rate= rate\n",
        "        \n",
        "    def fit(self, X, y=None):\n",
        "        \"\"\"\n",
        "        Fit NoiseCleaner to X, but really do nothing.\n",
        "        Return self.\n",
        "        \"\"\"\n",
        "        return self\n",
        "    \n",
        "    \n",
        "    def transform(self, X, y=None):\n",
        "        clean_up_mask = X.count() >  self.rate\n",
        "        for row, flag in zip(clean_up_mask.index, clean_up_mask):\n",
        "            if flag == False:\n",
        "                X.drop(row, axis = 1, inplace=True)\n",
        "        return X"
      ],
      "execution_count": null,
      "outputs": []
    },
    {
      "cell_type": "code",
      "metadata": {
        "id": "nwTXBAOwNPvW"
      },
      "source": [
        "class PlatemarkTransformer(BaseEstimator, TransformerMixin):\n",
        "    \"\"\"\n",
        "    The class provides functionality for converting matter\n",
        "    columns to year values. Extracts year from string.\n",
        "    \"\"\"\n",
        "    \n",
        "    def __init__(self, drop=False):\n",
        "        \"\"\"\n",
        "        Initializes class instance by setting convert options. \n",
        "        \n",
        "        Parameters\n",
        "        ----------\n",
        "        drop: bool, \n",
        "            if True, removes the original columns from the dataset.\n",
        "        \"\"\"\n",
        "        BaseEstimator.__init__(self)\n",
        "        TransformerMixin.__init__(self)\n",
        "        self.drop = drop\n",
        "    \n",
        "    def fit(self, X, y=None):\n",
        "        \"\"\"\n",
        "        Fit DateTransformer to X, but really do nothing.\n",
        "        Return self.\n",
        "        \"\"\"\n",
        "        return self\n",
        "    \n",
        "    def transform(self, X, y=None):\n",
        "        \"\"\"\n",
        "        Transfor X using the parameters set in the constructor.\n",
        "        Return transformed dataframe.\n",
        "        \"\"\"\n",
        "        X['matter'] = X['matter'].add(str(X['platemark']))\n",
        "        X = pd.get_dummies(X, columns=['matter'])\n",
        "        if self.drop:\n",
        "            X.drop('platemark', axis=1, inplace=True)\n",
        "        return X"
      ],
      "execution_count": null,
      "outputs": []
    },
    {
      "cell_type": "code",
      "metadata": {
        "id": "_EKGbnqT9sPy"
      },
      "source": [
        "X = df.drop([\"price_before_takeoff\"], axis=1)\n",
        "y = df.price_before_takeoff"
      ],
      "execution_count": null,
      "outputs": []
    },
    {
      "cell_type": "code",
      "metadata": {
        "id": "g2t8NHZnJpuI"
      },
      "source": [
        "pi = ParseInjection().fit(X)\n",
        "X = pi.transform(X)"
      ],
      "execution_count": null,
      "outputs": []
    },
    {
      "cell_type": "code",
      "metadata": {
        "id": "rDKOno-qHskE"
      },
      "source": [
        "cats = [\"type\"]\n",
        "platemark_col = [\"platemark\", \"matter\"]\n",
        "injection = X.columns[6:]\n",
        "nums = [\"weight\", \"size\"]\n",
        "defect = [\"is_defect\"]"
      ],
      "execution_count": null,
      "outputs": []
    },
    {
      "cell_type": "code",
      "metadata": {
        "id": "p3q2UBS1KD-k"
      },
      "source": [
        "cats_ohe = OneHotEncoder(sparse=False)\n",
        "cats_pipe = make_pipeline(FeatureSelector(cats), cats_ohe)"
      ],
      "execution_count": null,
      "outputs": []
    },
    {
      "cell_type": "code",
      "metadata": {
        "id": "Xh-bbI7lKWWd"
      },
      "source": [
        "injection_pipe = make_pipeline(FeatureSelector(injection), NoiseCleaner(), \n",
        "                               SimpleImputer(missing_values=np.nan, \n",
        "                                             strategy='constant', fill_value=0))"
      ],
      "execution_count": null,
      "outputs": []
    },
    {
      "cell_type": "code",
      "metadata": {
        "id": "MoRZZI_VL-PN"
      },
      "source": [
        "nums_scaler = StandardScaler()\n",
        "nums_pipe = make_pipeline(FeatureSelector(nums), nums_scaler)"
      ],
      "execution_count": null,
      "outputs": []
    },
    {
      "cell_type": "code",
      "metadata": {
        "id": "iICGwg1TMpb_"
      },
      "source": [
        "defect_pipe = make_pipeline(FeatureSelector(defect))"
      ],
      "execution_count": null,
      "outputs": []
    },
    {
      "cell_type": "code",
      "metadata": {
        "id": "Tood7qNZNVek"
      },
      "source": [
        "pt = PlatemarkTransformer(drop=True)\n",
        "platemark_pipe = make_pipeline(FeatureSelector(platemark_col), pt)"
      ],
      "execution_count": null,
      "outputs": []
    },
    {
      "cell_type": "code",
      "metadata": {
        "id": "_2SHWvumMxG4"
      },
      "source": [
        "full_pipe = FeatureUnion(\n",
        "    transformer_list=[\n",
        "      (\"cats\", cats_pipe),\n",
        "      (\"injection\", injection_pipe),\n",
        "      (\"nums\", nums_pipe),\n",
        "      (\"defect\", defect_pipe),\n",
        "      (\"platemark\", platemark_pipe)\n",
        "    ]\n",
        ")"
      ],
      "execution_count": null,
      "outputs": []
    },
    {
      "cell_type": "code",
      "metadata": {
        "id": "EuZL3OfpYXT0"
      },
      "source": [
        "X_train, X_test, y_train, y_test = train_test_split(X, y, random_state=42, \n",
        "                                                    shuffle=True, test_size=0.2)"
      ],
      "execution_count": null,
      "outputs": []
    },
    {
      "cell_type": "code",
      "metadata": {
        "colab": {
          "base_uri": "https://localhost:8080/"
        },
        "id": "R_TUfLDkZ0s1",
        "outputId": "0adc509c-802c-4f7e-c7f0-25f8e1d93ec1"
      },
      "source": [
        "full_pipe.fit(X_train, y_train)\n",
        "full_pipe.transform(X_train)[0]"
      ],
      "execution_count": null,
      "outputs": [
        {
          "output_type": "execute_result",
          "data": {
            "text/plain": [
              "array([ 0.        ,  1.        ,  0.        ,  0.        ,  1.        ,\n",
              "        0.        ,  0.        ,  0.        ,  0.        ,  0.        ,\n",
              "        0.        ,  0.        ,  0.        ,  0.        ,  0.        ,\n",
              "        0.        ,  0.        ,  0.        ,  0.        ,  0.        ,\n",
              "        0.        ,  0.        ,  0.        ,  0.        ,  0.        ,\n",
              "        0.        ,  0.        ,  0.        ,  0.        , -0.12207001,\n",
              "        1.16501349,  0.        ,  0.        ,  1.        ])"
            ]
          },
          "metadata": {
            "tags": []
          },
          "execution_count": 19
        }
      ]
    },
    {
      "cell_type": "code",
      "metadata": {
        "colab": {
          "base_uri": "https://localhost:8080/"
        },
        "id": "amfhHHr9YELm",
        "outputId": "bf6b41b1-abd0-480e-cba1-77710329cefa"
      },
      "source": [
        "extra_tree = ExtraTreesRegressor(random_state=42, n_jobs=-1, criterion=\"mae\")\n",
        "tree_pipe = make_pipeline(full_pipe, extra_tree)\n",
        "tree_pipe"
      ],
      "execution_count": null,
      "outputs": [
        {
          "output_type": "execute_result",
          "data": {
            "text/plain": [
              "Pipeline(memory=None,\n",
              "         steps=[('featureunion',\n",
              "                 FeatureUnion(n_jobs=None,\n",
              "                              transformer_list=[('cats',\n",
              "                                                 Pipeline(memory=None,\n",
              "                                                          steps=[('featureselector',\n",
              "                                                                  FeatureSelector(feature_names=['type'])),\n",
              "                                                                 ('onehotencoder',\n",
              "                                                                  OneHotEncoder(categories='auto',\n",
              "                                                                                drop=None,\n",
              "                                                                                dtype=<class 'numpy.float64'>,\n",
              "                                                                                handle_unknown='error',\n",
              "                                                                                sparse=False))],\n",
              "                                                          verbose=False)),\n",
              "                                                ('injection',\n",
              "                                                 Pipeline(me...\n",
              "                 ExtraTreesRegressor(bootstrap=False, ccp_alpha=0.0,\n",
              "                                     criterion='mae', max_depth=None,\n",
              "                                     max_features='auto', max_leaf_nodes=None,\n",
              "                                     max_samples=None,\n",
              "                                     min_impurity_decrease=0.0,\n",
              "                                     min_impurity_split=None,\n",
              "                                     min_samples_leaf=1, min_samples_split=2,\n",
              "                                     min_weight_fraction_leaf=0.0,\n",
              "                                     n_estimators=100, n_jobs=-1,\n",
              "                                     oob_score=False, random_state=42,\n",
              "                                     verbose=0, warm_start=False))],\n",
              "         verbose=False)"
            ]
          },
          "metadata": {
            "tags": []
          },
          "execution_count": 20
        }
      ]
    },
    {
      "cell_type": "code",
      "metadata": {
        "colab": {
          "background_save": true,
          "base_uri": "https://localhost:8080/"
        },
        "id": "6v9WDVjuY2gn",
        "outputId": "2fc84059-3807-45a6-99f4-e340050dff39"
      },
      "source": [
        "tree_pipe.fit(X_train, y_train)"
      ],
      "execution_count": null,
      "outputs": [
        {
          "output_type": "execute_result",
          "data": {
            "text/plain": [
              "Pipeline(memory=None,\n",
              "         steps=[('featureunion',\n",
              "                 FeatureUnion(n_jobs=None,\n",
              "                              transformer_list=[('cats',\n",
              "                                                 Pipeline(memory=None,\n",
              "                                                          steps=[('featureselector',\n",
              "                                                                  FeatureSelector(feature_names=['type'])),\n",
              "                                                                 ('onehotencoder',\n",
              "                                                                  OneHotEncoder(categories='auto',\n",
              "                                                                                drop=None,\n",
              "                                                                                dtype=<class 'numpy.float64'>,\n",
              "                                                                                handle_unknown='error',\n",
              "                                                                                sparse=False))],\n",
              "                                                          verbose=False)),\n",
              "                                                ('injection',\n",
              "                                                 Pipeline(me...\n",
              "                 ExtraTreesRegressor(bootstrap=False, ccp_alpha=0.0,\n",
              "                                     criterion='mae', max_depth=None,\n",
              "                                     max_features='auto', max_leaf_nodes=None,\n",
              "                                     max_samples=None,\n",
              "                                     min_impurity_decrease=0.0,\n",
              "                                     min_impurity_split=None,\n",
              "                                     min_samples_leaf=1, min_samples_split=2,\n",
              "                                     min_weight_fraction_leaf=0.0,\n",
              "                                     n_estimators=100, n_jobs=-1,\n",
              "                                     oob_score=False, random_state=42,\n",
              "                                     verbose=0, warm_start=False))],\n",
              "         verbose=False)"
            ]
          },
          "metadata": {
            "tags": []
          },
          "execution_count": 0
        }
      ]
    },
    {
      "cell_type": "markdown",
      "metadata": {
        "id": "nivqGsq_eqIz"
      },
      "source": [
        "#Visualization comes below:\n"
      ]
    },
    {
      "cell_type": "code",
      "metadata": {
        "colab": {
          "background_save": true
        },
        "id": "bDV3Jdhv1Fkl"
      },
      "source": [
        ""
      ],
      "execution_count": null,
      "outputs": []
    },
    {
      "cell_type": "code",
      "metadata": {
        "colab": {
          "background_save": true
        },
        "id": "rFNLGKiFdaDn"
      },
      "source": [
        ""
      ],
      "execution_count": null,
      "outputs": []
    },
    {
      "cell_type": "code",
      "metadata": {
        "colab": {
          "background_save": true
        },
        "id": "ilqzgQIn80Un"
      },
      "source": [
        ""
      ],
      "execution_count": null,
      "outputs": []
    },
    {
      "cell_type": "code",
      "metadata": {
        "colab": {
          "background_save": true
        },
        "id": "0Vaip2Ep8mK4"
      },
      "source": [
        ""
      ],
      "execution_count": null,
      "outputs": []
    },
    {
      "cell_type": "markdown",
      "metadata": {
        "id": "7QuajLghAm4R"
      },
      "source": [
        "### Correlogram"
      ]
    },
    {
      "cell_type": "code",
      "metadata": {
        "colab": {
          "background_save": true
        },
        "id": "Wssb4RNQe1NA"
      },
      "source": [
        "def show_numeric_correlogram(df):\n",
        "    numeric_features = df.select_dtypes('number').columns\n",
        "\n",
        "    mask = np.triu(np.ones_like(numeric_features, dtype=bool))\n",
        "\n",
        "    figure, ax = plt.subplots(figsize=(10, 10))\n",
        "    sns.heatmap(df[numeric_features].corr(),\n",
        "                vmin=-1, vmax=1, cmap='RdBu',\n",
        "                annot=True, center=0, mask = mask)\n",
        "    plt.title('Numeric values dataset correlogram', fontsize=20)\n",
        "    plt.show()"
      ],
      "execution_count": null,
      "outputs": []
    },
    {
      "cell_type": "code",
      "metadata": {
        "colab": {
          "background_save": true,
          "base_uri": "https://localhost:8080/",
          "height": 639
        },
        "id": "kTz95jwTe7tx",
        "outputId": "8d0a366c-f639-4d7b-adbf-1df35938c18e"
      },
      "source": [
        "show_numeric_correlogram(df)"
      ],
      "execution_count": null,
      "outputs": [
        {
          "output_type": "display_data",
          "data": {
            "image/png": "[encoded data removed]",
            "text/plain": [
              "<Figure size 720x720 with 2 Axes>"
            ]
          },
          "metadata": {
            "tags": []
          }
        }
      ]
    },
    {
      "cell_type": "markdown",
      "metadata": {
        "id": "lv4-MvNEA4Dx"
      },
      "source": [
        "### Price distribution by various features"
      ]
    },
    {
      "cell_type": "code",
      "metadata": {
        "id": "qydMFSplA7gO"
      },
      "source": [
        "fig = px.box(df, y=\"price_before_takeoff\", x = 'matter')\n",
        "fig.show()"
      ],
      "execution_count": null,
      "outputs": []
    },
    {
      "cell_type": "code",
      "metadata": {
        "id": "zZfsG3fxBhKW"
      },
      "source": [
        "no_inj_mask = df['injection_params'].eq('None')\n",
        "inj_mask = df['injection_params'].ne('None')"
      ],
      "execution_count": null,
      "outputs": []
    },
    {
      "cell_type": "code",
      "metadata": {
        "id": "lXH1AY7ZBhxT"
      },
      "source": [
        "fig = go.Figure()\n",
        "fig.add_trace(go.Box(x=df[inj_mask]['price_before_takeoff']))\n",
        "fig.add_trace(go.Box(x=df[no_inj_mask]['price_before_takeoff']))\n",
        "fig.show()"
      ],
      "execution_count": null,
      "outputs": []
    },
    {
      "cell_type": "code",
      "metadata": {
        "id": "vETUGoP7Bpe4"
      },
      "source": [
        "price_table_1 = df.groupby(['matter', 'platemark']).price_before_takeoff.agg(['mean', 'median', 'min', 'max'])\n",
        "price_table_1"
      ],
      "execution_count": null,
      "outputs": []
    },
    {
      "cell_type": "code",
      "metadata": {
        "id": "MXb2-FyABsNE"
      },
      "source": [
        "price_table_2 = df.groupby(['type', 'is_defect']).price_before_takeoff.agg(['mean', 'median', 'min', 'max'])\n",
        "price_table_2"
      ],
      "execution_count": null,
      "outputs": []
    },
    {
      "cell_type": "markdown",
      "metadata": {
        "id": "PnolnkzoJXGC"
      },
      "source": [
        "## Price by weight:"
      ]
    },
    {
      "cell_type": "code",
      "metadata": {
        "id": "XY1JvbqDFyIX"
      },
      "source": [
        "plt.subplots(figsize=(16, 9), dpi=80)\n",
        "to_plot_weight = df[(df['price_before_takeoff'] < 3000) & (df['weight'] <= 3.5)]\n",
        "sns.lineplot(x=to_plot_weight.weight, y=to_plot_weight.price_before_takeoff)\n",
        "plt.show()"
      ],
      "execution_count": null,
      "outputs": []
    },
    {
      "cell_type": "markdown",
      "metadata": {
        "id": "q0fH63V9Jd3O"
      },
      "source": [
        "Price by size of the ring"
      ]
    },
    {
      "cell_type": "code",
      "metadata": {
        "id": "Lk0ZNUggF7VG"
      },
      "source": [
        "plt.subplots(figsize=(16, 9), dpi=80)\n",
        "sns.lineplot(x=df['size'], y=df.price_before_takeoff)\n",
        "plt.show()"
      ],
      "execution_count": null,
      "outputs": []
    },
    {
      "cell_type": "markdown",
      "metadata": {
        "id": "0mZ4bZczL5oG"
      },
      "source": [
        "### Platemark distribution"
      ]
    },
    {
      "cell_type": "code",
      "metadata": {
        "id": "zGV4IDRFL4HW"
      },
      "source": [
        "fig = px.pie(df, values='platemark', names='platemark')\n",
        "fig.show()"
      ],
      "execution_count": null,
      "outputs": []
    }
  ]
}