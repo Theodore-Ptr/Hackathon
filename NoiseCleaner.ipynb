{
 "cells": [
  {
   "cell_type": "code",
   "execution_count": null,
   "id": "0a266084",
   "metadata": {},
   "outputs": [],
   "source": [
    "class NoiseCleaner:\n",
    "    def __init__(self, rate=5):\n",
    "        \"\"\"\n",
    "        cleans instances and columns that do not have significant impact\n",
    "        \"\"\"\n",
    "        super().__init__()\n",
    "        self.rate= rate\n",
    "        \n",
    "    def fit(self, X, y=None):\n",
    "        \"\"\"\n",
    "        Fit NoiseCleaner to X, but really do nothing.\n",
    "        Return self.\n",
    "        \"\"\"\n",
    "        return self\n",
    "    \n",
    "    \n",
    "    def transform(self, X, y=None):\n",
    "        clean_up_mask = X.count() >  self.rate\n",
    "        print(clean_up_mask)\n",
    "        for row, flag in zip(clean_up_mask.index, clean_up_mask):\n",
    "            if flag == False:\n",
    "                X.drop(row, axis = 1, inplace=True)\n",
    "        return X"
   ]
  }
 ],
 "metadata": {
  "kernelspec": {
   "display_name": "Python 3",
   "language": "python",
   "name": "python3"
  },
  "language_info": {
   "codemirror_mode": {
    "name": "ipython",
    "version": 3
   },
   "file_extension": ".py",
   "mimetype": "text/x-python",
   "name": "python",
   "nbconvert_exporter": "python",
   "pygments_lexer": "ipython3",
   "version": "3.8.8"
  }
 },
 "nbformat": 4,
 "nbformat_minor": 5
}
