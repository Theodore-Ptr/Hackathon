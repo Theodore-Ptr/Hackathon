{
 "cells": [
  {
   "cell_type": "code",
   "execution_count": 1,
   "metadata": {
    "id": "IMDJIB8k4rmG"
   },
   "outputs": [],
   "source": [
    "import numpy as np\n",
    "import pandas as pd\n",
    "import matplotlib.pyplot as plt\n",
    "import seaborn as sns\n",
    "from sklearn.pipeline import make_pipeline, Pipeline, FeatureUnion\n",
    "from sklearn.compose import make_column_selector, make_column_transformer\n",
    "from sklearn.impute import SimpleImputer\n",
    "from sklearn.metrics import mean_squared_error, mean_absolute_error\n",
    "from sklearn.ensemble import ExtraTreesRegressor\n",
    "from sklearn.model_selection import GridSearchCV\n",
    "from sklearn.model_selection import train_test_split\n",
    "from sklearn.preprocessing import OrdinalEncoder\n",
    "from sklearn.preprocessing import OneHotEncoder\n",
    "from sklearn.preprocessing import StandardScaler\n",
    "from sklearn.base import BaseEstimator, TransformerMixin\n",
    "\n",
    "import plotly.graph_objects as go\n",
    "import plotly.express as px\n",
    "\n",
    "import warnings\n",
    "warnings.simplefilter('ignore')"
   ]
  },
  {
   "cell_type": "code",
   "execution_count": 2,
   "metadata": {
    "id": "MymXaCym-G95"
   },
   "outputs": [],
   "source": [
    "url = 'https://raw.githubusercontent.com/Theodore-Ptr/Hackathon/main/data/full_rings.csv'\n",
    "df = pd.read_csv(url, sep=\",\", index_col=0)\n",
    "df = df.drop_duplicates(subset=['matter', 'injection_params', 'weight', 'size', 'is_defect', 'platemark', 'type'])\n",
    "df.drop(\"price_after_discount\", axis=1, inplace=True)"
   ]
  },
  {
   "cell_type": "code",
   "execution_count": 3,
   "metadata": {
    "colab": {
     "base_uri": "https://localhost:8080/",
     "height": 417
    },
    "id": "ueDvy_rfRAOn",
    "outputId": "a07acb81-ef0c-4cb9-8684-32257f705a3a"
   },
   "outputs": [
    {
     "data": {
      "text/html": [
       "<div>\n",
       "<style scoped>\n",
       "    .dataframe tbody tr th:only-of-type {\n",
       "        vertical-align: middle;\n",
       "    }\n",
       "\n",
       "    .dataframe tbody tr th {\n",
       "        vertical-align: top;\n",
       "    }\n",
       "\n",
       "    .dataframe thead th {\n",
       "        text-align: right;\n",
       "    }\n",
       "</style>\n",
       "<table border=\"1\" class=\"dataframe\">\n",
       "  <thead>\n",
       "    <tr style=\"text-align: right;\">\n",
       "      <th></th>\n",
       "      <th>matter</th>\n",
       "      <th>injection_params</th>\n",
       "      <th>weight</th>\n",
       "      <th>size</th>\n",
       "      <th>is_defect</th>\n",
       "      <th>platemark</th>\n",
       "      <th>type</th>\n",
       "      <th>price_before_takeoff</th>\n",
       "    </tr>\n",
       "  </thead>\n",
       "  <tbody>\n",
       "    <tr>\n",
       "      <th>0</th>\n",
       "      <td>gold</td>\n",
       "      <td>3 фианит 0,8 Круг</td>\n",
       "      <td>1.86</td>\n",
       "      <td>15.0</td>\n",
       "      <td>1</td>\n",
       "      <td>585</td>\n",
       "      <td>wedding</td>\n",
       "      <td>1062.86</td>\n",
       "    </tr>\n",
       "    <tr>\n",
       "      <th>1</th>\n",
       "      <td>gold</td>\n",
       "      <td>3 фианит 0,8 Круг</td>\n",
       "      <td>1.90</td>\n",
       "      <td>15.0</td>\n",
       "      <td>0</td>\n",
       "      <td>585</td>\n",
       "      <td>wedding</td>\n",
       "      <td>865.87</td>\n",
       "    </tr>\n",
       "    <tr>\n",
       "      <th>3</th>\n",
       "      <td>gold</td>\n",
       "      <td>3 фианит 0,8 Круг</td>\n",
       "      <td>1.72</td>\n",
       "      <td>15.0</td>\n",
       "      <td>0</td>\n",
       "      <td>585</td>\n",
       "      <td>wedding</td>\n",
       "      <td>783.84</td>\n",
       "    </tr>\n",
       "    <tr>\n",
       "      <th>7</th>\n",
       "      <td>gold</td>\n",
       "      <td>3 фианит 0,8 Круг</td>\n",
       "      <td>1.75</td>\n",
       "      <td>15.0</td>\n",
       "      <td>0</td>\n",
       "      <td>585</td>\n",
       "      <td>wedding</td>\n",
       "      <td>797.51</td>\n",
       "    </tr>\n",
       "    <tr>\n",
       "      <th>8</th>\n",
       "      <td>gold</td>\n",
       "      <td>3 фианит 0,8 Круг</td>\n",
       "      <td>1.78</td>\n",
       "      <td>15.0</td>\n",
       "      <td>0</td>\n",
       "      <td>585</td>\n",
       "      <td>wedding</td>\n",
       "      <td>1017.15</td>\n",
       "    </tr>\n",
       "    <tr>\n",
       "      <th>...</th>\n",
       "      <td>...</td>\n",
       "      <td>...</td>\n",
       "      <td>...</td>\n",
       "      <td>...</td>\n",
       "      <td>...</td>\n",
       "      <td>...</td>\n",
       "      <td>...</td>\n",
       "      <td>...</td>\n",
       "    </tr>\n",
       "    <tr>\n",
       "      <th>23425</th>\n",
       "      <td>gold</td>\n",
       "      <td>3 Фианит Кр 2,00 0,033;</td>\n",
       "      <td>3.00</td>\n",
       "      <td>17.5</td>\n",
       "      <td>0</td>\n",
       "      <td>585</td>\n",
       "      <td>decorative</td>\n",
       "      <td>1969.41</td>\n",
       "    </tr>\n",
       "    <tr>\n",
       "      <th>23426</th>\n",
       "      <td>gold</td>\n",
       "      <td>19 Фианит Кр 1,00 0,032;</td>\n",
       "      <td>2.35</td>\n",
       "      <td>18.5</td>\n",
       "      <td>0</td>\n",
       "      <td>585</td>\n",
       "      <td>decorative</td>\n",
       "      <td>1561.86</td>\n",
       "    </tr>\n",
       "    <tr>\n",
       "      <th>23427</th>\n",
       "      <td>gold</td>\n",
       "      <td>19 Фианит Кр 1,00 0,032;</td>\n",
       "      <td>2.41</td>\n",
       "      <td>19.0</td>\n",
       "      <td>0</td>\n",
       "      <td>585</td>\n",
       "      <td>decorative</td>\n",
       "      <td>1601.73</td>\n",
       "    </tr>\n",
       "    <tr>\n",
       "      <th>23428</th>\n",
       "      <td>gold</td>\n",
       "      <td>21 Фианит Кр 1,00 0,036;</td>\n",
       "      <td>2.09</td>\n",
       "      <td>17.0</td>\n",
       "      <td>0</td>\n",
       "      <td>585</td>\n",
       "      <td>decorative</td>\n",
       "      <td>1412.86</td>\n",
       "    </tr>\n",
       "    <tr>\n",
       "      <th>23429</th>\n",
       "      <td>gold</td>\n",
       "      <td>21 Фианит Кр 1,00 0,036;</td>\n",
       "      <td>2.23</td>\n",
       "      <td>18.0</td>\n",
       "      <td>0</td>\n",
       "      <td>585</td>\n",
       "      <td>decorative</td>\n",
       "      <td>1507.52</td>\n",
       "    </tr>\n",
       "  </tbody>\n",
       "</table>\n",
       "<p>16925 rows × 8 columns</p>\n",
       "</div>"
      ],
      "text/plain": [
       "      matter          injection_params  weight  size  is_defect  platemark  \\\n",
       "0       gold         3 фианит 0,8 Круг    1.86  15.0          1        585   \n",
       "1       gold         3 фианит 0,8 Круг    1.90  15.0          0        585   \n",
       "3       gold         3 фианит 0,8 Круг    1.72  15.0          0        585   \n",
       "7       gold         3 фианит 0,8 Круг    1.75  15.0          0        585   \n",
       "8       gold         3 фианит 0,8 Круг    1.78  15.0          0        585   \n",
       "...      ...                       ...     ...   ...        ...        ...   \n",
       "23425   gold   3 Фианит Кр 2,00 0,033;    3.00  17.5          0        585   \n",
       "23426   gold  19 Фианит Кр 1,00 0,032;    2.35  18.5          0        585   \n",
       "23427   gold  19 Фианит Кр 1,00 0,032;    2.41  19.0          0        585   \n",
       "23428   gold  21 Фианит Кр 1,00 0,036;    2.09  17.0          0        585   \n",
       "23429   gold  21 Фианит Кр 1,00 0,036;    2.23  18.0          0        585   \n",
       "\n",
       "             type  price_before_takeoff  \n",
       "0         wedding               1062.86  \n",
       "1         wedding                865.87  \n",
       "3         wedding                783.84  \n",
       "7         wedding                797.51  \n",
       "8         wedding               1017.15  \n",
       "...           ...                   ...  \n",
       "23425  decorative               1969.41  \n",
       "23426  decorative               1561.86  \n",
       "23427  decorative               1601.73  \n",
       "23428  decorative               1412.86  \n",
       "23429  decorative               1507.52  \n",
       "\n",
       "[16925 rows x 8 columns]"
      ]
     },
     "execution_count": 3,
     "metadata": {},
     "output_type": "execute_result"
    }
   ],
   "source": [
    "df"
   ]
  },
  {
   "cell_type": "code",
   "execution_count": 4,
   "metadata": {
    "id": "nAFwLspcQvQ5"
   },
   "outputs": [],
   "source": [
    "nums_features = make_column_selector(dtype_include=np.number)\n",
    "cats_features = make_column_selector(dtype_include=object)"
   ]
  },
  {
   "cell_type": "code",
   "execution_count": 5,
   "metadata": {
    "id": "RVcDCuuTE4tZ"
   },
   "outputs": [],
   "source": [
    "class FeatureSelector(BaseEstimator, TransformerMixin):\n",
    "    \"\"\"\n",
    "    The class provides basic functionality for retrieving\n",
    "    a subset of columns from the dataset.\n",
    "    \"\"\"\n",
    "    \n",
    "    def __init__(self, feature_names):\n",
    "        \"\"\"\n",
    "        Initialize class instance by setting\n",
    "        a list of columns to retrieve from the dataset.\n",
    "        \"\"\"\n",
    "        BaseEstimator.__init__(self)\n",
    "        TransformerMixin.__init__(self)\n",
    "        self.feature_names = feature_names\n",
    "        \n",
    "    def fit(self, X, y=None):\n",
    "        \"\"\"\n",
    "        Fit FeatureSelector to X, but really do nothing.\n",
    "        Return self.\n",
    "        \"\"\"\n",
    "        return self\n",
    "    \n",
    "    def transform(self, X, y=None):\n",
    "        \"\"\"\n",
    "        Transform X using feature selection. \n",
    "        Return column-subset of X.\n",
    "        \"\"\"\n",
    "        return X[self.feature_names]"
   ]
  },
  {
   "cell_type": "code",
   "execution_count": 6,
   "metadata": {
    "id": "02LdqvWpMxyQ"
   },
   "outputs": [],
   "source": [
    "class ParseInjection(BaseEstimator, TransformerMixin):\n",
    "    \n",
    "    def __init__(self):\n",
    "        BaseEstimator.__init__(self)\n",
    "        TransformerMixin.__init__(self)\n",
    "    \n",
    "    def fit(self, X, y=None):\n",
    "        return self\n",
    "    \n",
    "    def transform(self, X, y=None):\n",
    "        i = 0\n",
    "        for inj in X.injection_params:\n",
    "            if inj == \"None\":\n",
    "                i += 1\n",
    "                continue\n",
    "            stones = dict()\n",
    "            inj_strs = (inj.replace(', ', '|').replace('. ', '|')\n",
    "                        .replace(';', '|').split('|'))\n",
    "            for inj_substr in inj_strs:\n",
    "                str_split = inj_substr.split()\n",
    "                if len(str_split) < 3: \n",
    "                  continue\n",
    "                if str_split[0].isdigit() and (str_split[1].isalpha() or \n",
    "                                               str_split[1] in [\"Кер.кольцо\", \"Гор.хр\"]):\n",
    "                    stones.setdefault(str_split[1].lower(), 0)\n",
    "                    stones[str_split[1].lower()] += int(str_split[0])\n",
    "                elif any([True if \"БРКр\" in x else False for x in str_split]):\n",
    "                    for sub in str_split:\n",
    "                        if \"БРКр\" in sub:\n",
    "                            stones.setdefault(\"бриллиант\", 0)\n",
    "                            br_num = sub.split(\"БРКр\")[0]\n",
    "                            stones[\"бриллиант\"] += (int(br_num) if \"Родий\" not in sub \n",
    "                                                    else int(br_num.split(\"Родий\")[1]))\n",
    "                elif str_split[0][1:] in [\"Сапфир\", \"Изумруд\"]:\n",
    "                    stones.setdefault(str_split[0][1:].lower(), 0)\n",
    "                    stones[str_split[0][1:].lower()] += int(str_split[0][0])\n",
    "                elif str_split[0].isdigit() and str_split[2] in [\"Сапфир\", \"Изумруд\"]:\n",
    "                    stones.setdefault(str_split[2].lower(), 0)\n",
    "                    stones[str_split[2].lower()] += int(str_split[0])\n",
    "                elif len(str_split) > 2 and str_split[2] == \"Эмаль\":\n",
    "                    stones.setdefault(str_split[2].lower(), 0)\n",
    "                    stones[str_split[2].lower()] += int(str_split[0])\n",
    "            for name, num in stones.items():\n",
    "                name = name if name not in [\"бр\", \"брилл\"] else \"бриллиант\"\n",
    "                X.loc[X.index[i], name] = num\n",
    "            i += 1\n",
    "        return X.drop([\"injection_params\"], axis=1)"
   ]
  },
  {
   "cell_type": "code",
   "execution_count": 7,
   "metadata": {
    "id": "gQ6HJtfbF2eZ"
   },
   "outputs": [],
   "source": [
    "class NoiseCleaner(BaseEstimator, TransformerMixin):\n",
    "    def __init__(self, rate=5):\n",
    "        \"\"\"\n",
    "        cleans instances and columns that do not have significant impact\n",
    "        \"\"\"\n",
    "        BaseEstimator.__init__(self)\n",
    "        TransformerMixin.__init__(self)\n",
    "        self.rate= rate\n",
    "        \n",
    "    def fit(self, X, y=None):\n",
    "        \"\"\"\n",
    "        Fit NoiseCleaner to X, but really do nothing.\n",
    "        Return self.\n",
    "        \"\"\"\n",
    "        return self\n",
    "    \n",
    "    \n",
    "    def transform(self, X, y=None):\n",
    "        clean_up_mask = X.iloc[:, 6:].count() >  self.rate\n",
    "        for row, flag in zip(clean_up_mask.index, clean_up_mask):\n",
    "            if flag == False:\n",
    "                X.drop(row, axis = 1, inplace=True)\n",
    "        return X"
   ]
  },
  {
   "cell_type": "code",
   "execution_count": 8,
   "metadata": {
    "id": "nwTXBAOwNPvW"
   },
   "outputs": [],
   "source": [
    "class PlatemarkTransformer(BaseEstimator, TransformerMixin):\n",
    "    \"\"\"\n",
    "    The class provides functionality for converting matter\n",
    "    columns to year values. Extracts year from string.\n",
    "    \"\"\"\n",
    "    \n",
    "    def __init__(self, drop=False):\n",
    "        \"\"\"\n",
    "        Initializes class instance by setting convert options. \n",
    "        \n",
    "        Parameters\n",
    "        ----------\n",
    "        drop: bool, \n",
    "            if True, removes the original columns from the dataset.\n",
    "        \"\"\"\n",
    "        BaseEstimator.__init__(self)\n",
    "        TransformerMixin.__init__(self)\n",
    "        self.drop = drop\n",
    "    \n",
    "    def fit(self, X, y=None):\n",
    "        \"\"\"\n",
    "        Fit DateTransformer to X, but really do nothing.\n",
    "        Return self.\n",
    "        \"\"\"\n",
    "        return self\n",
    "    \n",
    "    def transform(self, X, y=None):\n",
    "        \"\"\"\n",
    "        Transfor X using the parameters set in the constructor.\n",
    "        Return transformed dataframe.\n",
    "        \"\"\"\n",
    "        X['matter'] = X['matter'].add(str(X['platemark']))\n",
    "        X = pd.get_dummies(X, columns=['matter'])\n",
    "        if self.drop:\n",
    "            X.drop('platemark', axis=1, inplace=True)\n",
    "        return X"
   ]
  },
  {
   "cell_type": "code",
   "execution_count": 9,
   "metadata": {
    "id": "_EKGbnqT9sPy"
   },
   "outputs": [],
   "source": [
    "X = df.drop([\"price_before_takeoff\"], axis=1)\n",
    "y = df.price_before_takeoff"
   ]
  },
  {
   "cell_type": "code",
   "execution_count": 10,
   "metadata": {
    "id": "g2t8NHZnJpuI"
   },
   "outputs": [],
   "source": [
    "pi = ParseInjection().fit(X)\n",
    "X = pi.transform(X)\n",
    "nc = NoiseCleaner().fit(X.iloc[:, 6:])\n",
    "X = nc.transform(X)"
   ]
  },
  {
   "cell_type": "code",
   "execution_count": 11,
   "metadata": {
    "colab": {
     "base_uri": "https://localhost:8080/"
    },
    "id": "rUhwVFZceHqq",
    "outputId": "8dd8ff06-f3d7-451a-936e-896af755122f"
   },
   "outputs": [
    {
     "data": {
      "text/plain": [
       "Index(['matter', 'weight', 'size', 'is_defect', 'platemark', 'type', 'фианит',\n",
       "       'бриллиант', 'кер.кольцо', 'эмаль', 'топаз', 'наношпинель', 'цирконий',\n",
       "       'оникс', 'жемчуг', 'кристалл', 'сапфир', 'гранат', 'гор.хр', 'цитрин',\n",
       "       'изумруд', 'корунд', 'аметист', 'ситал', 'хризолит', 'бриллианты',\n",
       "       'родолит', 'кварц', 'рубин', 'агат', 'перламутр'],\n",
       "      dtype='object')"
      ]
     },
     "execution_count": 11,
     "metadata": {},
     "output_type": "execute_result"
    }
   ],
   "source": [
    "X.columns"
   ]
  },
  {
   "cell_type": "code",
   "execution_count": 12,
   "metadata": {
    "id": "rDKOno-qHskE"
   },
   "outputs": [],
   "source": [
    "cats = [\"type\"]\n",
    "platemark_col = [\"platemark\", \"matter\"]\n",
    "injection = X.columns[6:]\n",
    "nums = [\"weight\", \"size\"]\n",
    "defect = [\"is_defect\"]"
   ]
  },
  {
   "cell_type": "code",
   "execution_count": 13,
   "metadata": {
    "id": "p3q2UBS1KD-k"
   },
   "outputs": [],
   "source": [
    "cats_ohe = OneHotEncoder(sparse=False)\n",
    "cats_pipe = make_pipeline(FeatureSelector(cats), cats_ohe)"
   ]
  },
  {
   "cell_type": "code",
   "execution_count": 14,
   "metadata": {
    "id": "Xh-bbI7lKWWd"
   },
   "outputs": [],
   "source": [
    "injection_pipe = make_pipeline(FeatureSelector(injection), \n",
    "                               SimpleImputer(missing_values=np.nan, \n",
    "                                             strategy='constant', fill_value=0))"
   ]
  },
  {
   "cell_type": "code",
   "execution_count": 15,
   "metadata": {
    "id": "MoRZZI_VL-PN"
   },
   "outputs": [],
   "source": [
    "nums_scaler = StandardScaler()\n",
    "nums_pipe = make_pipeline(FeatureSelector(nums), nums_scaler)"
   ]
  },
  {
   "cell_type": "code",
   "execution_count": 16,
   "metadata": {
    "id": "iICGwg1TMpb_"
   },
   "outputs": [],
   "source": [
    "defect_pipe = make_pipeline(FeatureSelector(defect))"
   ]
  },
  {
   "cell_type": "code",
   "execution_count": 17,
   "metadata": {
    "id": "Tood7qNZNVek"
   },
   "outputs": [],
   "source": [
    "pt = PlatemarkTransformer(drop=True)\n",
    "platemark_pipe = make_pipeline(FeatureSelector(platemark_col), pt)"
   ]
  },
  {
   "cell_type": "code",
   "execution_count": 18,
   "metadata": {
    "id": "_2SHWvumMxG4"
   },
   "outputs": [],
   "source": [
    "full_pipe = FeatureUnion(\n",
    "    transformer_list=[\n",
    "      (\"cats\", cats_pipe),\n",
    "      (\"injection\", injection_pipe),\n",
    "      (\"nums\", nums_pipe),\n",
    "      (\"defect\", defect_pipe),\n",
    "      (\"platemark\", platemark_pipe)\n",
    "    ]\n",
    ")"
   ]
  },
  {
   "cell_type": "code",
   "execution_count": 19,
   "metadata": {
    "id": "EuZL3OfpYXT0"
   },
   "outputs": [],
   "source": [
    "X_train, X_test, y_train, y_test = train_test_split(X, y, random_state=42, \n",
    "                                                    shuffle=True, test_size=0.2)"
   ]
  },
  {
   "cell_type": "code",
   "execution_count": 20,
   "metadata": {
    "colab": {
     "base_uri": "https://localhost:8080/"
    },
    "id": "R_TUfLDkZ0s1",
    "outputId": "03bbbc74-ce33-463c-ccf2-4ce53f8aac55"
   },
   "outputs": [
    {
     "data": {
      "text/plain": [
       "array([ 1.        ,  0.        ,  0.        ,  0.        , 57.        ,\n",
       "        0.        ,  0.        ,  0.        ,  0.        ,  0.        ,\n",
       "        0.        ,  0.        ,  0.        ,  0.        ,  0.        ,\n",
       "        0.        ,  0.        ,  0.        ,  0.        ,  0.        ,\n",
       "        0.        ,  0.        ,  0.        ,  0.        ,  0.        ,\n",
       "        0.        ,  0.        ,  0.        ,  0.        ,  0.57066667,\n",
       "       -0.42582345,  0.        ,  0.        ,  1.        ])"
      ]
     },
     "execution_count": 20,
     "metadata": {},
     "output_type": "execute_result"
    }
   ],
   "source": [
    "full_pipe.fit(X_train, y_train)\n",
    "full_pipe.transform(X_train)[0]"
   ]
  },
  {
   "cell_type": "code",
   "execution_count": 21,
   "metadata": {
    "colab": {
     "base_uri": "https://localhost:8080/"
    },
    "id": "amfhHHr9YELm",
    "outputId": "135d9ca4-2c7d-488f-a752-e29f69c985ed"
   },
   "outputs": [],
   "source": [
    "#extra_tree = ExtraTreesRegressor(random_state=42, n_jobs=-1, criterion=\"mae\")\n",
    "#tree_pipe = make_pipeline(full_pipe, extra_tree)\n",
    "#tree_pipe"
   ]
  },
  {
   "cell_type": "code",
   "execution_count": 22,
   "metadata": {
    "colab": {
     "base_uri": "https://localhost:8080/"
    },
    "id": "6v9WDVjuY2gn",
    "outputId": "f76d3c60-56de-413e-a2fe-5375a269967e"
   },
   "outputs": [],
   "source": [
    "#tree_pipe.fit(X_train, y_train)"
   ]
  },
  {
   "cell_type": "code",
   "execution_count": 23,
   "metadata": {
    "id": "cAFc8_DcieDq"
   },
   "outputs": [],
   "source": [
    "#from lightgbm import LGBMRegressor"
   ]
  },
  {
   "cell_type": "code",
   "execution_count": 24,
   "metadata": {
    "colab": {
     "base_uri": "https://localhost:8080/"
    },
    "id": "OY3YVHjyiiUh",
    "outputId": "c452a325-8931-463e-fa2e-55fd1ce97400",
    "scrolled": true
   },
   "outputs": [],
   "source": [
    "#lgbm_pipe = make_pipeline(full_pipe, LGBMRegressor())\n",
    "#lgbm_pipe"
   ]
  },
  {
   "cell_type": "code",
   "execution_count": 25,
   "metadata": {
    "id": "7ZzOvp0rjI_D"
   },
   "outputs": [],
   "source": [
    "#params = {\n",
    "#    \"lgbmregressor__max_depth\": [-1, 1, 5, 10, 15, 20],\n",
    "#    \"lgbmregressor__learning_rate\": np.arange(0.1, 1.1, 0.1),\n",
    "#   \"lgbmregressor__reg_lambda\": [1, 5, 10],\n",
    "#    \"lgbmregressor__n_estimators\": range(10, 151, 20)\n",
    "#}\n",
    "#lgbm_grid = GridSearchCV(\n",
    "#    estimator=lgbm_pipe,\n",
    "#    param_grid=params,\n",
    "#    cv=5,\n",
    "#    n_jobs=-1,\n",
    "#    scoring='neg_mean_absolute_error'\n",
    "#)"
   ]
  },
  {
   "cell_type": "code",
   "execution_count": 26,
   "metadata": {
    "id": "hF7yIZFgkKbX"
   },
   "outputs": [],
   "source": [
    "#lgbm_grid.fit(X_train, y_train)"
   ]
  },
  {
   "cell_type": "code",
   "execution_count": 27,
   "metadata": {
    "id": "YYgOXvOtkivi"
   },
   "outputs": [],
   "source": [
    "from sklearn.ensemble import RandomForestRegressor"
   ]
  },
  {
   "cell_type": "code",
   "execution_count": 28,
   "metadata": {},
   "outputs": [],
   "source": [
    "from sklearn.metrics import mean_absolute_percentage_error"
   ]
  },
  {
   "cell_type": "code",
   "execution_count": 29,
   "metadata": {},
   "outputs": [],
   "source": [
    "forest_pipe = make_pipeline(full_pipe, RandomForestRegressor())"
   ]
  },
  {
   "cell_type": "code",
   "execution_count": 30,
   "metadata": {},
   "outputs": [],
   "source": [
    "params = {\n",
    "    \"randomforestregressor__n_estimators\": [100, 200, 50, 300],\n",
    "    \"randomforestregressor__max_depth\": (1, 5, 10, 15),\n",
    "    'randomforestregressor__bootstrap': (True, False)\n",
    "}\n",
    "forrest_grid = GridSearchCV(\n",
    "    estimator=forest_pipe,\n",
    "    param_grid=params,\n",
    "    cv=5,\n",
    "    n_jobs=-1,\n",
    "    scoring='neg_mean_absolute_percentage_error'\n",
    ")"
   ]
  },
  {
   "cell_type": "code",
   "execution_count": 31,
   "metadata": {},
   "outputs": [
    {
     "data": {
      "text/plain": [
       "GridSearchCV(cv=5,\n",
       "             estimator=Pipeline(steps=[('featureunion',\n",
       "                                        FeatureUnion(transformer_list=[('cats',\n",
       "                                                                        Pipeline(steps=[('featureselector',\n",
       "                                                                                         FeatureSelector(feature_names=['type'])),\n",
       "                                                                                        ('onehotencoder',\n",
       "                                                                                         OneHotEncoder(sparse=False))])),\n",
       "                                                                       ('injection',\n",
       "                                                                        Pipeline(steps=[('featureselector',\n",
       "                                                                                         FeatureSelector(feature_names=Index(['фианит', 'бриллиант', 'кер.кольцо', 'эмаль'...\n",
       "                                                                                         FeatureSelector(feature_names=['platemark',\n",
       "                                                                                                                        'matter'])),\n",
       "                                                                                        ('platemarktransformer',\n",
       "                                                                                         PlatemarkTransformer(drop=True))]))])),\n",
       "                                       ('randomforestregressor',\n",
       "                                        RandomForestRegressor())]),\n",
       "             n_jobs=-1,\n",
       "             param_grid={'randomforestregressor__bootstrap': (True, False),\n",
       "                         'randomforestregressor__max_depth': (1, 5, 10, 15),\n",
       "                         'randomforestregressor__n_estimators': [100, 200, 50,\n",
       "                                                                 300]},\n",
       "             scoring='neg_mean_absolute_percentage_error')"
      ]
     },
     "execution_count": 31,
     "metadata": {},
     "output_type": "execute_result"
    }
   ],
   "source": [
    "forrest_grid.fit(X_train, y_train)"
   ]
  },
  {
   "cell_type": "markdown",
   "metadata": {
    "id": "nivqGsq_eqIz"
   },
   "source": [
    "#Visualization comes below:\n"
   ]
  },
  {
   "cell_type": "code",
   "execution_count": 32,
   "metadata": {
    "id": "bDV3Jdhv1Fkl"
   },
   "outputs": [
    {
     "data": {
      "text/plain": [
       "{'randomforestregressor__bootstrap': True,\n",
       " 'randomforestregressor__max_depth': 15,\n",
       " 'randomforestregressor__n_estimators': 50}"
      ]
     },
     "execution_count": 32,
     "metadata": {},
     "output_type": "execute_result"
    }
   ],
   "source": [
    "forrest_grid.best_params_"
   ]
  },
  {
   "cell_type": "code",
   "execution_count": 37,
   "metadata": {
    "id": "rFNLGKiFdaDn"
   },
   "outputs": [],
   "source": [
    "best_forrest_est = forrest_grid.best_estimator_"
   ]
  },
  {
   "cell_type": "code",
   "execution_count": 39,
   "metadata": {
    "id": "ilqzgQIn80Un"
   },
   "outputs": [],
   "source": [
    "y_pred = best_forrest_est.predict(X_test)"
   ]
  },
  {
   "cell_type": "markdown",
   "metadata": {},
   "source": [
    "# Best metrics by this time"
   ]
  },
  {
   "cell_type": "code",
   "execution_count": 41,
   "metadata": {
    "id": "0Vaip2Ep8mK4"
   },
   "outputs": [
    {
     "data": {
      "text/plain": [
       "0.31242351087148357"
      ]
     },
     "execution_count": 41,
     "metadata": {},
     "output_type": "execute_result"
    }
   ],
   "source": [
    "from sklearn.metrics import mean_absolute_percentage_error\n",
    "mean_absolute_percentage_error(y_pred, y_test)"
   ]
  },
  {
   "cell_type": "markdown",
   "metadata": {
    "id": "7QuajLghAm4R"
   },
   "source": [
    "### Correlogram"
   ]
  },
  {
   "cell_type": "code",
   "execution_count": null,
   "metadata": {
    "id": "Wssb4RNQe1NA"
   },
   "outputs": [],
   "source": [
    "def show_numeric_correlogram(df):\n",
    "    numeric_features = df.select_dtypes('number').columns\n",
    "\n",
    "    mask = np.triu(np.ones_like(numeric_features, dtype=bool))\n",
    "\n",
    "    figure, ax = plt.subplots(figsize=(10, 10))\n",
    "    sns.heatmap(df[numeric_features].corr(),\n",
    "                vmin=-1, vmax=1, cmap='RdBu',\n",
    "                annot=True, center=0, mask = mask)\n",
    "    plt.title('Numeric values dataset correlogram', fontsize=20)\n",
    "    plt.show()"
   ]
  },
  {
   "cell_type": "code",
   "execution_count": null,
   "metadata": {
    "colab": {
     "base_uri": "https://localhost:8080/",
     "height": 613
    },
    "id": "kTz95jwTe7tx",
    "outputId": "351b7051-1656-4314-e9fc-3877bafd2ab1"
   },
   "outputs": [],
   "source": [
    "show_numeric_correlogram(df)"
   ]
  },
  {
   "cell_type": "markdown",
   "metadata": {
    "id": "lv4-MvNEA4Dx"
   },
   "source": [
    "### Price distribution by various features"
   ]
  },
  {
   "cell_type": "code",
   "execution_count": null,
   "metadata": {
    "colab": {
     "base_uri": "https://localhost:8080/",
     "height": 542
    },
    "id": "qydMFSplA7gO",
    "outputId": "4fc4f6f1-6d04-41ea-9a6e-b9b9654e1bc7"
   },
   "outputs": [],
   "source": [
    "fig = px.box(df, y=\"price_before_takeoff\", x = 'matter')\n",
    "fig.show()"
   ]
  },
  {
   "cell_type": "code",
   "execution_count": null,
   "metadata": {
    "id": "zZfsG3fxBhKW"
   },
   "outputs": [],
   "source": [
    "no_inj_mask = df['injection_params'].eq('None')\n",
    "inj_mask = df['injection_params'].ne('None')"
   ]
  },
  {
   "cell_type": "code",
   "execution_count": null,
   "metadata": {
    "colab": {
     "base_uri": "https://localhost:8080/",
     "height": 542
    },
    "id": "lXH1AY7ZBhxT",
    "outputId": "16156aae-2d75-4772-c4d3-a465bf5af89f"
   },
   "outputs": [],
   "source": [
    "fig = go.Figure()\n",
    "fig.add_trace(go.Box(x=df[inj_mask]['price_before_takeoff']))\n",
    "fig.add_trace(go.Box(x=df[no_inj_mask]['price_before_takeoff']))\n",
    "fig.show()"
   ]
  },
  {
   "cell_type": "code",
   "execution_count": null,
   "metadata": {
    "colab": {
     "base_uri": "https://localhost:8080/",
     "height": 326
    },
    "id": "vETUGoP7Bpe4",
    "outputId": "29b6ad4d-3bf8-4da7-c818-a8d551540b67"
   },
   "outputs": [],
   "source": [
    "price_table_1 = df.groupby(['matter', 'platemark']).price_before_takeoff.agg(['mean', 'median', 'min', 'max'])\n",
    "price_table_1"
   ]
  },
  {
   "cell_type": "code",
   "execution_count": null,
   "metadata": {
    "colab": {
     "base_uri": "https://localhost:8080/",
     "height": 326
    },
    "id": "MXb2-FyABsNE",
    "outputId": "2daeb776-192c-4c13-f026-3845e9530de7"
   },
   "outputs": [],
   "source": [
    "price_table_2 = df.groupby(['type', 'is_defect']).price_before_takeoff.agg(['mean', 'median', 'min', 'max'])\n",
    "price_table_2"
   ]
  },
  {
   "cell_type": "markdown",
   "metadata": {
    "id": "PnolnkzoJXGC"
   },
   "source": [
    "## Price by weight:"
   ]
  },
  {
   "cell_type": "code",
   "execution_count": null,
   "metadata": {
    "colab": {
     "base_uri": "https://localhost:8080/",
     "height": 608
    },
    "id": "XY1JvbqDFyIX",
    "outputId": "4bb6e991-6566-4771-f020-20b6c62cea5b"
   },
   "outputs": [],
   "source": [
    "plt.subplots(figsize=(16, 9), dpi=80)\n",
    "to_plot_weight = df[(df['price_before_takeoff'] < 3000) & (df['weight'] <= 3.5)]\n",
    "sns.lineplot(x=to_plot_weight.weight, y=to_plot_weight.price_before_takeoff)\n",
    "plt.show()"
   ]
  },
  {
   "cell_type": "markdown",
   "metadata": {
    "id": "q0fH63V9Jd3O"
   },
   "source": [
    "Price by size of the ring"
   ]
  },
  {
   "cell_type": "code",
   "execution_count": null,
   "metadata": {
    "colab": {
     "base_uri": "https://localhost:8080/",
     "height": 608
    },
    "id": "Lk0ZNUggF7VG",
    "outputId": "13fe5290-3124-4d6d-c258-da9527267901"
   },
   "outputs": [],
   "source": [
    "plt.subplots(figsize=(16, 9), dpi=80)\n",
    "sns.lineplot(x=df['size'], y=df.price_before_takeoff)\n",
    "plt.show()"
   ]
  },
  {
   "cell_type": "markdown",
   "metadata": {
    "id": "0mZ4bZczL5oG"
   },
   "source": [
    "### Platemark distribution"
   ]
  },
  {
   "cell_type": "code",
   "execution_count": null,
   "metadata": {
    "colab": {
     "base_uri": "https://localhost:8080/",
     "height": 542
    },
    "id": "zGV4IDRFL4HW",
    "outputId": "7cd69ec1-a10d-48ac-82a2-00830176468d"
   },
   "outputs": [],
   "source": [
    "fig = px.pie(df, values='platemark', names='platemark')\n",
    "fig.show()"
   ]
  }
 ],
 "metadata": {
  "colab": {
   "collapsed_sections": [],
   "name": "rings_karat.ipynb",
   "provenance": []
  },
  "kernelspec": {
   "display_name": "Python 3",
   "language": "python",
   "name": "python3"
  },
  "language_info": {
   "codemirror_mode": {
    "name": "ipython",
    "version": 3
   },
   "file_extension": ".py",
   "mimetype": "text/x-python",
   "name": "python",
   "nbconvert_exporter": "python",
   "pygments_lexer": "ipython3",
   "version": "3.8.8"
  }
 },
 "nbformat": 4,
 "nbformat_minor": 1
}
