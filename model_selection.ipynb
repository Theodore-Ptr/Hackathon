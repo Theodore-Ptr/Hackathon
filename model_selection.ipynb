{
 "cells": [
  {
   "cell_type": "code",
   "execution_count": 1,
   "id": "2d0a1af4-b673-4732-be4f-b51a1dee7098",
   "metadata": {
    "execution": {
     "iopub.execute_input": "2021-08-15T02:55:27.755661Z",
     "iopub.status.busy": "2021-08-15T02:55:27.755661Z",
     "iopub.status.idle": "2021-08-15T02:55:28.807527Z",
     "shell.execute_reply": "2021-08-15T02:55:28.807527Z",
     "shell.execute_reply.started": "2021-08-15T02:55:27.755661Z"
    },
    "tags": []
   },
   "outputs": [],
   "source": [
    "import numpy as np\n",
    "import pandas as pd\n",
    "from sklearn.base import BaseEstimator, TransformerMixin\n",
    "from sklearn.preprocessing import OneHotEncoder, StandardScaler, MinMaxScaler\n",
    "from sklearn.impute import SimpleImputer\n",
    "from sklearn.pipeline import FeatureUnion, Pipeline\n",
    "from sklearn.model_selection import GridSearchCV, train_test_split\n",
    "from sklearn.metrics import mean_squared_error, mean_absolute_percentage_error, mean_absolute_error\n",
    "from sklearn.ensemble import RandomForestRegressor, BaggingRegressor, AdaBoostRegressor,\\\n",
    "ExtraTreesRegressor, StackingRegressor\n",
    "\n",
    "\n",
    "from xgboost import XGBRegressor\n",
    "\n",
    "from sklearn import set_config\n",
    "set_config(display='diagram')\n",
    "import warnings\n",
    "warnings.simplefilter('ignore')"
   ]
  },
  {
   "cell_type": "code",
   "execution_count": 2,
   "id": "e841213e-9ff6-4289-ab96-f37342c19251",
   "metadata": {
    "execution": {
     "iopub.execute_input": "2021-08-15T02:55:28.807527Z",
     "iopub.status.busy": "2021-08-15T02:55:28.807527Z",
     "iopub.status.idle": "2021-08-15T02:55:28.823532Z",
     "shell.execute_reply": "2021-08-15T02:55:28.823532Z",
     "shell.execute_reply.started": "2021-08-15T02:55:28.807527Z"
    },
    "tags": []
   },
   "outputs": [],
   "source": [
    "def get_metrics(y_tr, y_pr):\n",
    "    print(\"MAE:   %.3f\"%mean_absolute_error(y_tr, y_pr))\n",
    "    print(\"MSE:   %.3f\"%mean_squared_error(y_tr, y_pr))\n",
    "    print(\"MAPE:  %.3f\"%mean_absolute_percentage_error(y_tr, y_pr))"
   ]
  },
  {
   "cell_type": "markdown",
   "id": "c9c5592d-84f1-4dc4-a167-33f5bb5e8a7d",
   "metadata": {
    "tags": []
   },
   "source": [
    "### Custom classes for pipeline construction"
   ]
  },
  {
   "cell_type": "code",
   "execution_count": 3,
   "id": "84883b1c-90ec-483c-877b-fecff23eb0ca",
   "metadata": {
    "execution": {
     "iopub.execute_input": "2021-08-15T02:55:28.823532Z",
     "iopub.status.busy": "2021-08-15T02:55:28.823532Z",
     "iopub.status.idle": "2021-08-15T02:55:28.839537Z",
     "shell.execute_reply": "2021-08-15T02:55:28.839537Z",
     "shell.execute_reply.started": "2021-08-15T02:55:28.823532Z"
    },
    "tags": []
   },
   "outputs": [],
   "source": [
    "class FeatureSelector(BaseEstimator, TransformerMixin):\n",
    "    \"\"\"\n",
    "    The class provides basic functionality for retrieving\n",
    "    a subset of columns from the dataset.\n",
    "    \"\"\"\n",
    "    \n",
    "    def __init__(self, feature_names):\n",
    "        \"\"\"\n",
    "        Initialize class instance by setting\n",
    "        a list of columns to retrieve from the dataset.\n",
    "        \"\"\"\n",
    "        BaseEstimator.__init__(self)\n",
    "        TransformerMixin.__init__(self)\n",
    "        self.feature_names = feature_names\n",
    "        \n",
    "    def fit(self, X, y=None):\n",
    "        \"\"\"\n",
    "        Fit FeatureSelector to X, but really do nothing.\n",
    "        Return self.\n",
    "        \"\"\"\n",
    "        return self\n",
    "    \n",
    "    def transform(self, X, y=None):\n",
    "        \"\"\"\n",
    "        Transform X using feature selection. \n",
    "        Return column-subset of X.\n",
    "        \"\"\"\n",
    "        return X[self.feature_names]"
   ]
  },
  {
   "cell_type": "code",
   "execution_count": 4,
   "id": "35509116-eb08-4583-bf59-41aa18cc4fd2",
   "metadata": {
    "execution": {
     "iopub.execute_input": "2021-08-15T02:55:28.839537Z",
     "iopub.status.busy": "2021-08-15T02:55:28.839537Z",
     "iopub.status.idle": "2021-08-15T02:55:28.855542Z",
     "shell.execute_reply": "2021-08-15T02:55:28.855542Z",
     "shell.execute_reply.started": "2021-08-15T02:55:28.839537Z"
    },
    "tags": []
   },
   "outputs": [],
   "source": [
    "class PlatemarkTransformer(BaseEstimator, TransformerMixin):\n",
    "    \"\"\"\n",
    "    The class provides functionality for converting matter\n",
    "    columns to year values. Extracts year from string.\n",
    "    \"\"\"\n",
    "    \n",
    "    def __init__(self, drop=False):\n",
    "        \"\"\"\n",
    "        Initializes class instance by setting convert options. \n",
    "        \n",
    "        Parameters\n",
    "        ----------\n",
    "        drop: bool, \n",
    "            if True, removes the original columns from the dataset.\n",
    "        \"\"\"\n",
    "        BaseEstimator.__init__(self)\n",
    "        TransformerMixin.__init__(self)\n",
    "        self.drop = drop\n",
    "    \n",
    "    def fit(self, X, y=None):\n",
    "        \"\"\"\n",
    "        Fit DateTransformer to X, but really do nothing.\n",
    "        Return self.\n",
    "        \"\"\"\n",
    "        return self\n",
    "    \n",
    "    def transform(self, X, y=None):\n",
    "        \"\"\"\n",
    "        Transfor X using the parameters set in the constructor.\n",
    "        Return transformed dataframe.\n",
    "        \"\"\"\n",
    "        X['matter'] = X['matter'].add(X['platemark'])\n",
    "        X = pd.get_dummies(X, columns=['matter'])\n",
    "        if self.drop:\n",
    "            X.drop('platemark', axis=1, inplace=True)\n",
    "        return X"
   ]
  },
  {
   "cell_type": "code",
   "execution_count": 5,
   "id": "b8c92fa9-0a7b-496c-b4da-7fa786bffa43",
   "metadata": {
    "execution": {
     "iopub.execute_input": "2021-08-15T02:55:28.855542Z",
     "iopub.status.busy": "2021-08-15T02:55:28.855542Z",
     "iopub.status.idle": "2021-08-15T02:55:28.871547Z",
     "shell.execute_reply": "2021-08-15T02:55:28.871547Z",
     "shell.execute_reply.started": "2021-08-15T02:55:28.855542Z"
    },
    "tags": []
   },
   "outputs": [],
   "source": [
    "plate_pipeline = Pipeline(\n",
    "    steps=[\n",
    "        ('plate_selector', FeatureSelector(['matter', 'platemark'])),\n",
    "        ('plate_transformer', PlatemarkTransformer(drop=True))\n",
    "    ]\n",
    ")\n",
    "\n",
    "cat_ohe = OneHotEncoder(sparse=False)\n",
    "cat_pipeline = Pipeline(\n",
    "    steps=[\n",
    "        ('cat_selector', FeatureSelector(['matter', 'type'])),\n",
    "        ('cat_encoder', cat_ohe)\n",
    "    ]\n",
    ")\n",
    "\n",
    "num_scale_pipeline = Pipeline(\n",
    "    steps=[\n",
    "        ('num_selector', FeatureSelector(['weight', 'size'])),\n",
    "        ('standard_scaler', MinMaxScaler())\n",
    "    ]\n",
    ")\n",
    "\n",
    "num_pipeline = Pipeline(\n",
    "    steps=[\n",
    "        ('num_selector', FeatureSelector(['is_defect']))\n",
    "    ]\n",
    ")"
   ]
  },
  {
   "cell_type": "code",
   "execution_count": 6,
   "id": "d5e0927a-7510-4f1a-a9a2-aee3ad97a498",
   "metadata": {
    "execution": {
     "iopub.execute_input": "2021-08-15T02:55:28.871547Z",
     "iopub.status.busy": "2021-08-15T02:55:28.871547Z",
     "iopub.status.idle": "2021-08-15T02:55:28.919562Z",
     "shell.execute_reply": "2021-08-15T02:55:28.919562Z",
     "shell.execute_reply.started": "2021-08-15T02:55:28.871547Z"
    },
    "tags": []
   },
   "outputs": [
    {
     "data": {
      "text/html": [
       "<style>#sk-349a6e0c-198a-4620-8ea8-5fcc9482bd53 {color: black;background-color: white;}#sk-349a6e0c-198a-4620-8ea8-5fcc9482bd53 pre{padding: 0;}#sk-349a6e0c-198a-4620-8ea8-5fcc9482bd53 div.sk-toggleable {background-color: white;}#sk-349a6e0c-198a-4620-8ea8-5fcc9482bd53 label.sk-toggleable__label {cursor: pointer;display: block;width: 100%;margin-bottom: 0;padding: 0.2em 0.3em;box-sizing: border-box;text-align: center;}#sk-349a6e0c-198a-4620-8ea8-5fcc9482bd53 div.sk-toggleable__content {max-height: 0;max-width: 0;overflow: hidden;text-align: left;background-color: #f0f8ff;}#sk-349a6e0c-198a-4620-8ea8-5fcc9482bd53 div.sk-toggleable__content pre {margin: 0.2em;color: black;border-radius: 0.25em;background-color: #f0f8ff;}#sk-349a6e0c-198a-4620-8ea8-5fcc9482bd53 input.sk-toggleable__control:checked~div.sk-toggleable__content {max-height: 200px;max-width: 100%;overflow: auto;}#sk-349a6e0c-198a-4620-8ea8-5fcc9482bd53 div.sk-estimator input.sk-toggleable__control:checked~label.sk-toggleable__label {background-color: #d4ebff;}#sk-349a6e0c-198a-4620-8ea8-5fcc9482bd53 div.sk-label input.sk-toggleable__control:checked~label.sk-toggleable__label {background-color: #d4ebff;}#sk-349a6e0c-198a-4620-8ea8-5fcc9482bd53 input.sk-hidden--visually {border: 0;clip: rect(1px 1px 1px 1px);clip: rect(1px, 1px, 1px, 1px);height: 1px;margin: -1px;overflow: hidden;padding: 0;position: absolute;width: 1px;}#sk-349a6e0c-198a-4620-8ea8-5fcc9482bd53 div.sk-estimator {font-family: monospace;background-color: #f0f8ff;margin: 0.25em 0.25em;border: 1px dotted black;border-radius: 0.25em;box-sizing: border-box;}#sk-349a6e0c-198a-4620-8ea8-5fcc9482bd53 div.sk-estimator:hover {background-color: #d4ebff;}#sk-349a6e0c-198a-4620-8ea8-5fcc9482bd53 div.sk-parallel-item::after {content: \"\";width: 100%;border-bottom: 1px solid gray;flex-grow: 1;}#sk-349a6e0c-198a-4620-8ea8-5fcc9482bd53 div.sk-label:hover label.sk-toggleable__label {background-color: #d4ebff;}#sk-349a6e0c-198a-4620-8ea8-5fcc9482bd53 div.sk-serial::before {content: \"\";position: absolute;border-left: 1px solid gray;box-sizing: border-box;top: 2em;bottom: 0;left: 50%;}#sk-349a6e0c-198a-4620-8ea8-5fcc9482bd53 div.sk-serial {display: flex;flex-direction: column;align-items: center;background-color: white;}#sk-349a6e0c-198a-4620-8ea8-5fcc9482bd53 div.sk-item {z-index: 1;}#sk-349a6e0c-198a-4620-8ea8-5fcc9482bd53 div.sk-parallel {display: flex;align-items: stretch;justify-content: center;background-color: white;}#sk-349a6e0c-198a-4620-8ea8-5fcc9482bd53 div.sk-parallel-item {display: flex;flex-direction: column;position: relative;background-color: white;}#sk-349a6e0c-198a-4620-8ea8-5fcc9482bd53 div.sk-parallel-item:first-child::after {align-self: flex-end;width: 50%;}#sk-349a6e0c-198a-4620-8ea8-5fcc9482bd53 div.sk-parallel-item:last-child::after {align-self: flex-start;width: 50%;}#sk-349a6e0c-198a-4620-8ea8-5fcc9482bd53 div.sk-parallel-item:only-child::after {width: 0;}#sk-349a6e0c-198a-4620-8ea8-5fcc9482bd53 div.sk-dashed-wrapped {border: 1px dashed gray;margin: 0.2em;box-sizing: border-box;padding-bottom: 0.1em;background-color: white;position: relative;}#sk-349a6e0c-198a-4620-8ea8-5fcc9482bd53 div.sk-label label {font-family: monospace;font-weight: bold;background-color: white;display: inline-block;line-height: 1.2em;}#sk-349a6e0c-198a-4620-8ea8-5fcc9482bd53 div.sk-label-container {position: relative;z-index: 2;text-align: center;}#sk-349a6e0c-198a-4620-8ea8-5fcc9482bd53 div.sk-container {display: inline-block;position: relative;}</style><div id=\"sk-349a6e0c-198a-4620-8ea8-5fcc9482bd53\" class\"sk-top-container\"><div class=\"sk-container\"><div class=\"sk-item sk-dashed-wrapped\"><div class=\"sk-label-container\"><div class=\"sk-label sk-toggleable\"><input class=\"sk-toggleable__control sk-hidden--visually\" id=\"3fa1d9be-635a-450b-b2b0-bb807cd94dce\" type=\"checkbox\" ><label class=\"sk-toggleable__label\" for=\"3fa1d9be-635a-450b-b2b0-bb807cd94dce\">FeatureUnion</label><div class=\"sk-toggleable__content\"><pre>FeatureUnion(transformer_list=[('plate',\n",
       "                                Pipeline(steps=[('plate_selector',\n",
       "                                                 FeatureSelector(feature_names=['matter',\n",
       "                                                                                'platemark'])),\n",
       "                                                ('plate_transformer',\n",
       "                                                 PlatemarkTransformer(drop=True))])),\n",
       "                               ('cat',\n",
       "                                Pipeline(steps=[('cat_selector',\n",
       "                                                 FeatureSelector(feature_names=['matter',\n",
       "                                                                                'type'])),\n",
       "                                                ('cat_encoder',\n",
       "                                                 OneHotEncoder(sparse=False))])),\n",
       "                               ('num_scale',\n",
       "                                Pipeline(steps=[('num_selector',\n",
       "                                                 FeatureSelector(feature_names=['weight',\n",
       "                                                                                'size'])),\n",
       "                                                ('standard_scaler',\n",
       "                                                 MinMaxScaler())])),\n",
       "                               ('num',\n",
       "                                Pipeline(steps=[('num_selector',\n",
       "                                                 FeatureSelector(feature_names=['is_defect']))]))])</pre></div></div></div><div class=\"sk-parallel\"><div class=\"sk-parallel-item\"><div class=\"sk-item\"><div class=\"sk-label-container\"><div class=\"sk-label sk-toggleable\"><label>plate</label></div></div><div class=\"sk-serial\"><div class=\"sk-item\"><div class=\"sk-serial\"><div class=\"sk-item\"><div class=\"sk-estimator sk-toggleable\"><input class=\"sk-toggleable__control sk-hidden--visually\" id=\"27bd9efa-fdf3-4682-9b0f-1c262d4f280e\" type=\"checkbox\" ><label class=\"sk-toggleable__label\" for=\"27bd9efa-fdf3-4682-9b0f-1c262d4f280e\">FeatureSelector</label><div class=\"sk-toggleable__content\"><pre>FeatureSelector(feature_names=['matter', 'platemark'])</pre></div></div></div><div class=\"sk-item\"><div class=\"sk-estimator sk-toggleable\"><input class=\"sk-toggleable__control sk-hidden--visually\" id=\"049d067b-0c16-4074-acef-eb8056f03e1b\" type=\"checkbox\" ><label class=\"sk-toggleable__label\" for=\"049d067b-0c16-4074-acef-eb8056f03e1b\">PlatemarkTransformer</label><div class=\"sk-toggleable__content\"><pre>PlatemarkTransformer(drop=True)</pre></div></div></div></div></div></div></div></div><div class=\"sk-parallel-item\"><div class=\"sk-item\"><div class=\"sk-label-container\"><div class=\"sk-label sk-toggleable\"><label>cat</label></div></div><div class=\"sk-serial\"><div class=\"sk-item\"><div class=\"sk-serial\"><div class=\"sk-item\"><div class=\"sk-estimator sk-toggleable\"><input class=\"sk-toggleable__control sk-hidden--visually\" id=\"f5264c41-20a1-4876-9e4f-d77cea4a7e33\" type=\"checkbox\" ><label class=\"sk-toggleable__label\" for=\"f5264c41-20a1-4876-9e4f-d77cea4a7e33\">FeatureSelector</label><div class=\"sk-toggleable__content\"><pre>FeatureSelector(feature_names=['matter', 'type'])</pre></div></div></div><div class=\"sk-item\"><div class=\"sk-estimator sk-toggleable\"><input class=\"sk-toggleable__control sk-hidden--visually\" id=\"42e9c348-0833-458d-a304-430dfe90e3d0\" type=\"checkbox\" ><label class=\"sk-toggleable__label\" for=\"42e9c348-0833-458d-a304-430dfe90e3d0\">OneHotEncoder</label><div class=\"sk-toggleable__content\"><pre>OneHotEncoder(sparse=False)</pre></div></div></div></div></div></div></div></div><div class=\"sk-parallel-item\"><div class=\"sk-item\"><div class=\"sk-label-container\"><div class=\"sk-label sk-toggleable\"><label>num_scale</label></div></div><div class=\"sk-serial\"><div class=\"sk-item\"><div class=\"sk-serial\"><div class=\"sk-item\"><div class=\"sk-estimator sk-toggleable\"><input class=\"sk-toggleable__control sk-hidden--visually\" id=\"fbf80285-2cd2-4aaf-82ca-9543a5f57ce7\" type=\"checkbox\" ><label class=\"sk-toggleable__label\" for=\"fbf80285-2cd2-4aaf-82ca-9543a5f57ce7\">FeatureSelector</label><div class=\"sk-toggleable__content\"><pre>FeatureSelector(feature_names=['weight', 'size'])</pre></div></div></div><div class=\"sk-item\"><div class=\"sk-estimator sk-toggleable\"><input class=\"sk-toggleable__control sk-hidden--visually\" id=\"d5405222-00ca-47d6-9db0-7e27e7a7ee42\" type=\"checkbox\" ><label class=\"sk-toggleable__label\" for=\"d5405222-00ca-47d6-9db0-7e27e7a7ee42\">MinMaxScaler</label><div class=\"sk-toggleable__content\"><pre>MinMaxScaler()</pre></div></div></div></div></div></div></div></div><div class=\"sk-parallel-item\"><div class=\"sk-item\"><div class=\"sk-label-container\"><div class=\"sk-label sk-toggleable\"><label>num</label></div></div><div class=\"sk-serial\"><div class=\"sk-item\"><div class=\"sk-serial\"><div class=\"sk-item\"><div class=\"sk-estimator sk-toggleable\"><input class=\"sk-toggleable__control sk-hidden--visually\" id=\"9d267aea-1a74-46d0-b3e5-59036383985b\" type=\"checkbox\" ><label class=\"sk-toggleable__label\" for=\"9d267aea-1a74-46d0-b3e5-59036383985b\">FeatureSelector</label><div class=\"sk-toggleable__content\"><pre>FeatureSelector(feature_names=['is_defect'])</pre></div></div></div></div></div></div></div></div></div></div></div></div>"
      ],
      "text/plain": [
       "FeatureUnion(transformer_list=[('plate',\n",
       "                                Pipeline(steps=[('plate_selector',\n",
       "                                                 FeatureSelector(feature_names=['matter',\n",
       "                                                                                'platemark'])),\n",
       "                                                ('plate_transformer',\n",
       "                                                 PlatemarkTransformer(drop=True))])),\n",
       "                               ('cat',\n",
       "                                Pipeline(steps=[('cat_selector',\n",
       "                                                 FeatureSelector(feature_names=['matter',\n",
       "                                                                                'type'])),\n",
       "                                                ('cat_encoder',\n",
       "                                                 OneHotEncoder(sparse=False))])),\n",
       "                               ('num_scale',\n",
       "                                Pipeline(steps=[('num_selector',\n",
       "                                                 FeatureSelector(feature_names=['weight',\n",
       "                                                                                'size'])),\n",
       "                                                ('standard_scaler',\n",
       "                                                 MinMaxScaler())])),\n",
       "                               ('num',\n",
       "                                Pipeline(steps=[('num_selector',\n",
       "                                                 FeatureSelector(feature_names=['is_defect']))]))])"
      ]
     },
     "execution_count": 6,
     "metadata": {},
     "output_type": "execute_result"
    }
   ],
   "source": [
    "full_pipeline = FeatureUnion(transformer_list=[\n",
    "    ('plate', plate_pipeline),\n",
    "    ('cat', cat_pipeline),\n",
    "    ('num_scale', num_scale_pipeline),\n",
    "    ('num', num_pipeline)\n",
    "])\n",
    "full_pipeline"
   ]
  },
  {
   "cell_type": "code",
   "execution_count": 7,
   "id": "f26ee64f-bdf9-4ab6-b974-2218979b3de9",
   "metadata": {
    "execution": {
     "iopub.execute_input": "2021-08-15T02:55:28.919562Z",
     "iopub.status.busy": "2021-08-15T02:55:28.919562Z",
     "iopub.status.idle": "2021-08-15T02:55:28.947570Z",
     "shell.execute_reply": "2021-08-15T02:55:28.947570Z",
     "shell.execute_reply.started": "2021-08-15T02:55:28.919562Z"
    },
    "tags": []
   },
   "outputs": [],
   "source": [
    "df = pd.read_csv('rings.csv')\n",
    "\n",
    "features = ['matter', 'injection_params', 'weight', 'size',\n",
    "       'is_defect', 'platemark', 'type']\n",
    "\n",
    "X, y = df[features], df['price_before_takeoff']"
   ]
  },
  {
   "cell_type": "code",
   "execution_count": 8,
   "id": "684667fc-be96-48f2-8fa8-057f95bc2a96",
   "metadata": {
    "execution": {
     "iopub.execute_input": "2021-08-15T02:55:28.947570Z",
     "iopub.status.busy": "2021-08-15T02:55:28.947570Z",
     "iopub.status.idle": "2021-08-15T02:55:28.963575Z",
     "shell.execute_reply": "2021-08-15T02:55:28.963575Z",
     "shell.execute_reply.started": "2021-08-15T02:55:28.947570Z"
    }
   },
   "outputs": [],
   "source": [
    "X_train, X_test, y_train, y_test = train_test_split(X, y, test_size=0.2, random_state=42)"
   ]
  },
  {
   "cell_type": "markdown",
   "id": "b7c20867-1272-4067-b8a3-9b1366c06085",
   "metadata": {
    "tags": []
   },
   "source": [
    "## ExtraTreesRegressor"
   ]
  },
  {
   "cell_type": "code",
   "execution_count": 9,
   "id": "7814d26e-01b7-4acd-bbe5-1d4699605d37",
   "metadata": {
    "execution": {
     "iopub.execute_input": "2021-08-15T02:55:28.963575Z",
     "iopub.status.busy": "2021-08-15T02:55:28.963575Z",
     "iopub.status.idle": "2021-08-15T02:55:40.852693Z",
     "shell.execute_reply": "2021-08-15T02:55:40.852693Z",
     "shell.execute_reply.started": "2021-08-15T02:55:28.963575Z"
    },
    "tags": []
   },
   "outputs": [
    {
     "name": "stdout",
     "output_type": "stream",
     "text": [
      "MAE:   131.543\n",
      "MSE:   338071.733\n",
      "MAPE:  0.163\n"
     ]
    }
   ],
   "source": [
    "pipET = Pipeline(\n",
    "    steps=[\n",
    "        ('preparation', full_pipeline),\n",
    "        ('ExtraTree', ExtraTreesRegressor(random_state=42, criterion='mae', n_jobs=-1))\n",
    "    ]\n",
    ")\n",
    "pipET.fit(X_train, y_train)\n",
    "y_true, y_pred = y_test, pipET.predict(X_test)\n",
    "get_metrics(y_true, y_pred)"
   ]
  },
  {
   "cell_type": "raw",
   "id": "1a79395d-f54e-480b-9dad-3093b503e998",
   "metadata": {
    "jupyter": {
     "source_hidden": true
    },
    "tags": []
   },
   "source": [
    "MAE:   141.401\n",
    "MSE:   368033.346\n",
    "MAPE:  0.169"
   ]
  },
  {
   "cell_type": "markdown",
   "id": "a7d7115f-5456-453d-83cd-562e84713415",
   "metadata": {
    "tags": []
   },
   "source": [
    "## RandomForest"
   ]
  },
  {
   "cell_type": "code",
   "execution_count": 10,
   "id": "f51469d7-fb6d-451d-aa82-5544b71a16a9",
   "metadata": {
    "execution": {
     "iopub.execute_input": "2021-08-15T02:55:40.854695Z",
     "iopub.status.busy": "2021-08-15T02:55:40.853694Z",
     "iopub.status.idle": "2021-08-15T02:55:41.122310Z",
     "shell.execute_reply": "2021-08-15T02:55:41.122310Z",
     "shell.execute_reply.started": "2021-08-15T02:55:40.854695Z"
    },
    "tags": []
   },
   "outputs": [
    {
     "name": "stdout",
     "output_type": "stream",
     "text": [
      "MAE:   139.202\n",
      "MSE:   326967.171\n",
      "MAPE:  0.182\n"
     ]
    }
   ],
   "source": [
    "pipRF = Pipeline(\n",
    "    steps=[\n",
    "        ('preparation', full_pipeline),\n",
    "        ('RFR', RandomForestRegressor(random_state=42, n_jobs=-1))\n",
    "    ]\n",
    ")\n",
    "pipRF.fit(X_train, y_train)\n",
    "y_true, y_pred = y_test, pipRF.predict(X_test)\n",
    "get_metrics(y_true, y_pred)"
   ]
  },
  {
   "cell_type": "raw",
   "id": "87850e72-1858-4b3a-bdbc-8f4d3bbcee45",
   "metadata": {
    "jupyter": {
     "source_hidden": true
    },
    "tags": []
   },
   "source": [
    "MAE:   148.108\n",
    "MSE:   391014.411\n",
    "MAPE:  0.188"
   ]
  },
  {
   "cell_type": "raw",
   "id": "6b738ba5-c837-4816-bf77-c80c0146737b",
   "metadata": {
    "jupyter": {
     "source_hidden": true
    },
    "tags": []
   },
   "source": [
    "params = {\n",
    "    'n_estimators': np.arange(10, 200, 50),\n",
    "    'criterion': ('mse', 'mae'),\n",
    "    'max_depth': np.arange(1, 16, 5)\n",
    "}\n",
    "\n",
    "pip = Pipeline(\n",
    "    steps=[\n",
    "        ('preparation', full_pipeline),\n",
    "        ('gc', GridSearchCV(RandomForestRegressor(random_state=42), params, n_jobs=-1,\n",
    "                                scoring='accuracy', cv=5, refit=True, verbose=2))\n",
    "    ]\n",
    ")\n",
    "pip.fit(X_train, y_train)\n",
    "y_true, y_pred = y_test, pip.predict(X_test)\n",
    "print('Best params found:\\n', pip['gc'].best_params_)\n",
    "get_metrics(y_true, y_pred)"
   ]
  },
  {
   "cell_type": "raw",
   "id": "cbdb163f-beef-4c13-9e96-f60b1ef9712c",
   "metadata": {
    "jupyter": {
     "source_hidden": true
    },
    "tags": []
   },
   "source": [
    "Best params found:\n",
    " {'criterion': 'mse', 'max_depth': 1, 'n_estimators': 10}\n",
    "MAE:   345.615\n",
    "MSE:   582424.397\n",
    "MAPE:  0.481"
   ]
  },
  {
   "cell_type": "markdown",
   "id": "76f1f410-7fb4-4ce1-ac83-f4465e96a3cf",
   "metadata": {
    "jp-MarkdownHeadingCollapsed": true,
    "tags": []
   },
   "source": [
    "## Results"
   ]
  },
  {
   "cell_type": "raw",
   "id": "fcc7211a-d5c0-4ecf-92b5-bd26af564d1c",
   "metadata": {
    "execution": {
     "iopub.execute_input": "2021-08-15T02:43:16.916079Z",
     "iopub.status.busy": "2021-08-15T02:43:16.916079Z",
     "iopub.status.idle": "2021-08-15T02:45:10.154491Z",
     "shell.execute_reply": "2021-08-15T02:45:10.154491Z",
     "shell.execute_reply.started": "2021-08-15T02:43:16.916079Z"
    },
    "tags": []
   },
   "source": [
    "import time\n",
    "import matplotlib.pyplot as plt\n",
    "from sklearn.model_selection import cross_validate, cross_val_predict\n",
    "\n",
    "\n",
    "def plot_regression_results(ax, y_true, y_pred, title, scores, elapsed_time):\n",
    "    \"\"\"Scatter plot of the predicted vs true targets.\"\"\"\n",
    "    ax.plot([y_true.min(), y_true.max()],\n",
    "            [y_true.min(), y_true.max()],\n",
    "            '--r', linewidth=2)\n",
    "    ax.scatter(y_true, y_pred, alpha=0.2)\n",
    "\n",
    "    ax.spines['top'].set_visible(False)\n",
    "    ax.spines['right'].set_visible(False)\n",
    "    ax.get_xaxis().tick_bottom()\n",
    "    ax.get_yaxis().tick_left()\n",
    "    ax.spines['left'].set_position(('outward', 10))\n",
    "    ax.spines['bottom'].set_position(('outward', 10))\n",
    "    ax.set_xlim([y_true.min(), y_true.max()])\n",
    "    ax.set_ylim([y_true.min(), y_true.max()])\n",
    "    ax.set_xlabel('Measured')\n",
    "    ax.set_ylabel('Predicted')\n",
    "    extra = plt.Rectangle((0, 0), 0, 0, fc=\"w\", fill=False,\n",
    "                          edgecolor='none', linewidth=0)\n",
    "    ax.legend([extra], [scores], loc='upper left')\n",
    "    title = title + '\\n Evaluation in {:.2f} seconds'.format(elapsed_time)\n",
    "    ax.set_title(title)\n",
    "\n",
    "estimators = [\n",
    "    ('extra_trees', pipET),\n",
    "    ('RFR', pipRF)\n",
    "]\n",
    "\n",
    "fig, axs = plt.subplots(1, 2, figsize=(10, 5))\n",
    "axs = np.ravel(axs)\n",
    "\n",
    "for ax, (name, est) in zip(axs, estimators):\n",
    "    start_time = time.perf_counter()\n",
    "    score = cross_validate(est, X, y,\n",
    "                           scoring=['mean_absolute_percentage_error'],\n",
    "                           n_jobs=-1, verbose=0)\n",
    "    elapsed_time = time.perf_counter() - start_time\n",
    "\n",
    "    y_pred = cross_val_predict(est, X, y, n_jobs=-1, verbose=0)\n",
    "\n",
    "    plot_regression_results(\n",
    "        ax, y, y_pred,\n",
    "        name,\n",
    "        (r'$MAE={:.2f} \\pm {:.2f}$')\n",
    "        .format(-np.mean(score['test_neg_mean_absolute_error']),\n",
    "                np.std(score['test_neg_mean_absolute_error'])),\n",
    "        elapsed_time)\n",
    "\n",
    "plt.tight_layout()\n",
    "plt.subplots_adjust(top=0.9)\n",
    "plt.show()"
   ]
  },
  {
   "cell_type": "markdown",
   "id": "c07eedad-00cd-47a6-9d6b-c6d761aa5163",
   "metadata": {
    "jp-MarkdownHeadingCollapsed": true,
    "tags": []
   },
   "source": [
    "## XGBoost"
   ]
  },
  {
   "cell_type": "raw",
   "id": "6dcf5533-a23a-4b37-9166-73ddc24f5b6c",
   "metadata": {
    "execution": {
     "iopub.execute_input": "2021-08-15T02:24:32.066575Z",
     "iopub.status.busy": "2021-08-15T02:24:32.066575Z",
     "iopub.status.idle": "2021-08-15T02:24:32.610070Z",
     "shell.execute_reply": "2021-08-15T02:24:32.610070Z",
     "shell.execute_reply.started": "2021-08-15T02:24:32.066575Z"
    },
    "tags": []
   },
   "source": [
    "pip = Pipeline(\n",
    "    steps=[\n",
    "        ('preparation', full_pipeline),\n",
    "        ('XGBReg', XGBRegressor(random_state=42, eta=0.01, max_depth=3, reg_lambda=0, tree_method='gpu_hist'))\n",
    "    ]\n",
    ")\n",
    "pip.fit(X_train, y_train)\n",
    "y_true, y_pred = y_test, pip.predict(X_test)\n",
    "# print('Best params found:\\n', pip['gc'].best_params_)\n",
    "get_metrics(y_true, y_pred)"
   ]
  },
  {
   "cell_type": "raw",
   "id": "3e51bdd7-5205-46ef-9570-abdcbef47c9c",
   "metadata": {
    "execution": {
     "iopub.execute_input": "2021-08-15T00:20:22.711610Z",
     "iopub.status.busy": "2021-08-15T00:20:22.711610Z",
     "iopub.status.idle": "2021-08-15T00:20:22.726624Z",
     "shell.execute_reply": "2021-08-15T00:20:22.726624Z",
     "shell.execute_reply.started": "2021-08-15T00:20:22.711610Z"
    },
    "tags": []
   },
   "source": [
    "params = {\n",
    "    'eta': np.linspace(0.01, 0.3, 6),\n",
    "    'max_depth': np.arange(3, 11),\n",
    "    'reg_lambda': np.linspace(0, 2, 6)\n",
    "}\n",
    "\n",
    "pip = Pipeline(\n",
    "    steps=[\n",
    "        ('preparation', full_pipeline),\n",
    "        ('gc', GridSearchCV(XGBRegressor(random_state=42, tree_method='gpu_hist'), params, n_jobs=-1,\n",
    "                                scoring='accuracy', cv=5, refit=True, verbose=2))\n",
    "    ]\n",
    ")\n",
    "pip"
   ]
  },
  {
   "cell_type": "raw",
   "id": "c6ea6418-5b76-4163-8a3a-45616bd90f83",
   "metadata": {
    "tags": []
   },
   "source": [
    "Best params found:\n",
    " {'eta': 0.01, 'lambda': 0.25, 'max_depth': 3}"
   ]
  },
  {
   "cell_type": "markdown",
   "id": "c21351ca-0407-4c55-8e57-5979b1e2bc0d",
   "metadata": {
    "execution": {
     "iopub.execute_input": "2021-08-15T02:06:09.740999Z",
     "iopub.status.busy": "2021-08-15T02:06:09.739997Z",
     "iopub.status.idle": "2021-08-15T02:06:09.753009Z",
     "shell.execute_reply": "2021-08-15T02:06:09.753009Z",
     "shell.execute_reply.started": "2021-08-15T02:06:09.740999Z"
    },
    "jp-MarkdownHeadingCollapsed": true,
    "tags": []
   },
   "source": [
    "## BaggingRegressor"
   ]
  },
  {
   "cell_type": "raw",
   "id": "695170ec-fee0-4816-8b4e-60695aa940a3",
   "metadata": {
    "execution": {
     "iopub.execute_input": "2021-08-15T02:24:32.882567Z",
     "iopub.status.busy": "2021-08-15T02:24:32.882567Z",
     "iopub.status.idle": "2021-08-15T02:24:34.599954Z",
     "shell.execute_reply": "2021-08-15T02:24:34.599954Z",
     "shell.execute_reply.started": "2021-08-15T02:24:32.882567Z"
    }
   },
   "source": [
    "pip = Pipeline(\n",
    "    steps=[\n",
    "        ('preparation', full_pipeline),\n",
    "        ('bagging', BaggingRegressor(random_state=42, n_jobs=-1))\n",
    "    ]\n",
    ")\n",
    "pip.fit(X_train, y_train)\n",
    "y_true, y_pred = y_test, pip.predict(X_test)\n",
    "get_metrics(y_true, y_pred)"
   ]
  },
  {
   "cell_type": "raw",
   "id": "7e6a40be-3f20-4b6f-bf53-d3231ac71cd2",
   "metadata": {},
   "source": [
    "MAE:   151.933\n",
    "MSE:   413940.111\n",
    "MAPE:  0.195"
   ]
  },
  {
   "cell_type": "markdown",
   "id": "a368a407-a0ae-4c16-b89d-0d1d12878c08",
   "metadata": {
    "jp-MarkdownHeadingCollapsed": true,
    "tags": []
   },
   "source": [
    "## AdaBoostRegressor"
   ]
  },
  {
   "cell_type": "raw",
   "id": "894e8fc9-b332-44ca-9247-a10f669628a6",
   "metadata": {
    "execution": {
     "iopub.execute_input": "2021-08-15T02:24:34.600955Z",
     "iopub.status.busy": "2021-08-15T02:24:34.600955Z",
     "iopub.status.idle": "2021-08-15T02:24:34.823436Z",
     "shell.execute_reply": "2021-08-15T02:24:34.823436Z",
     "shell.execute_reply.started": "2021-08-15T02:24:34.600955Z"
    },
    "tags": []
   },
   "source": [
    "pip = Pipeline(\n",
    "    steps=[\n",
    "        ('preparation', full_pipeline),\n",
    "        ('Ada', AdaBoostRegressor(random_state=42))\n",
    "    ]\n",
    ")\n",
    "pip.fit(X_train, y_train)\n",
    "y_true, y_pred = y_test, pip.predict(X_test)\n",
    "get_metrics(y_true, y_pred)"
   ]
  },
  {
   "cell_type": "raw",
   "id": "91d73a2f-d33c-4b2e-b6ca-d33840b195ec",
   "metadata": {},
   "source": [
    "MAE:   633.356\n",
    "MSE:   1196024.337\n",
    "MAPE:  2.962"
   ]
  },
  {
   "cell_type": "markdown",
   "id": "4ce9c15b-4c7d-48b3-8445-f5fbec5087dd",
   "metadata": {
    "jp-MarkdownHeadingCollapsed": true,
    "tags": []
   },
   "source": [
    "## StackingRegressor"
   ]
  },
  {
   "cell_type": "raw",
   "id": "ebd79db6-a7b4-4c42-8f50-3d1a082003ad",
   "metadata": {
    "execution": {
     "iopub.execute_input": "2021-08-15T02:19:13.170072Z",
     "iopub.status.busy": "2021-08-15T02:19:13.170072Z",
     "iopub.status.idle": "2021-08-15T02:19:52.510721Z",
     "shell.execute_reply": "2021-08-15T02:19:52.510721Z",
     "shell.execute_reply.started": "2021-08-15T02:19:13.170072Z"
    },
    "tags": []
   },
   "source": [
    "estimators = [\n",
    "        ('extra_trees', ExtraTreesRegressor(random_state=42, criterion='mae', n_jobs=-1)),\n",
    "        ('bagging', BaggingRegressor(random_state=42, n_jobs=-1)),\n",
    "        ('RFR', RandomForestRegressor(random_state=42, n_jobs=-1))\n",
    "]\n",
    "pip = Pipeline(\n",
    "    steps=[\n",
    "        ('preparation', full_pipeline),\n",
    "        ('Stacked', StackingRegressor(estimators))\n",
    "    ]\n",
    ")\n",
    "pip.fit(X_train, y_train)\n",
    "y_true, y_pred = y_test, pip.predict(X_test)\n",
    "get_metrics(y_true, y_pred)"
   ]
  },
  {
   "cell_type": "raw",
   "id": "d930a4d8-41e3-46cb-a3e8-b7f430a32191",
   "metadata": {},
   "source": [
    "MAE:   249.985\n",
    "MSE:   367798.593\n",
    "MAPE:  0.895"
   ]
  }
 ],
 "metadata": {
  "kernelspec": {
   "display_name": "Python 3 (ipykernel)",
   "language": "python",
   "name": "python3"
  },
  "language_info": {
   "codemirror_mode": {
    "name": "ipython",
    "version": 3
   },
   "file_extension": ".py",
   "mimetype": "text/x-python",
   "name": "python",
   "nbconvert_exporter": "python",
   "pygments_lexer": "ipython3",
   "version": "3.9.6"
  }
 },
 "nbformat": 4,
 "nbformat_minor": 5
}
