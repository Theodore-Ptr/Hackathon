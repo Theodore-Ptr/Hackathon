{
 "cells": [
  {
   "cell_type": "code",
   "execution_count": 1,
   "id": "2d0a1af4-b673-4732-be4f-b51a1dee7098",
   "metadata": {
    "tags": []
   },
   "outputs": [],
   "source": [
    "import numpy as np\n",
    "import pandas as pd\n",
    "from sklearn.base import BaseEstimator, TransformerMixin\n",
    "from sklearn.preprocessing import OneHotEncoder, StandardScaler, MinMaxScaler\n",
    "from sklearn.impute import SimpleImputer\n",
    "from sklearn.pipeline import FeatureUnion, Pipeline\n",
    "from sklearn.model_selection import GridSearchCV, train_test_split\n",
    "from sklearn.metrics import mean_squared_error, mean_absolute_percentage_error, mean_absolute_error\n",
    "from sklearn.ensemble import RandomForestRegressor, BaggingRegressor, AdaBoostRegressor,\\\n",
    "ExtraTreesRegressor, StackingRegressor\n",
    "\n",
    "\n",
    "from xgboost import XGBRegressor\n",
    "\n",
    "from sklearn import set_config\n",
    "set_config(display='diagram')\n",
    "import warnings\n",
    "warnings.simplefilter('ignore')"
   ]
  },
  {
   "cell_type": "code",
   "execution_count": 2,
   "id": "e841213e-9ff6-4289-ab96-f37342c19251",
   "metadata": {
    "tags": []
   },
   "outputs": [],
   "source": [
    "def get_metrics(y_tr, y_pr):\n",
    "    print(\"MAE:   %.3f\"%mean_absolute_error(y_tr, y_pr))\n",
    "    print(\"MSE:   %.3f\"%mean_squared_error(y_tr, y_pr))\n",
    "    print(\"MAPE:  %.3f\"%mean_absolute_percentage_error(y_tr, y_pr))"
   ]
  },
  {
   "cell_type": "markdown",
   "id": "c9c5592d-84f1-4dc4-a167-33f5bb5e8a7d",
   "metadata": {
    "tags": []
   },
   "source": [
    "### Custom classes for pipeline construction"
   ]
  },
  {
   "cell_type": "code",
   "execution_count": 40,
   "id": "84883b1c-90ec-483c-877b-fecff23eb0ca",
   "metadata": {
    "tags": []
   },
   "outputs": [],
   "source": [
    "class FeatureSelector(BaseEstimator, TransformerMixin):\n",
    "    \"\"\"\n",
    "    The class provides basic functionality for retrieving\n",
    "    a subset of columns from the dataset.\n",
    "    \"\"\"\n",
    "    \n",
    "    def __init__(self, feature_names):\n",
    "        \"\"\"\n",
    "        Initialize class instance by setting\n",
    "        a list of columns to retrieve from the dataset.\n",
    "        \"\"\"\n",
    "        BaseEstimator.__init__(self)\n",
    "        TransformerMixin.__init__(self)\n",
    "        self.feature_names = feature_names\n",
    "        \n",
    "    def fit(self, X, y=None):\n",
    "        \"\"\"\n",
    "        Fit FeatureSelector to X, but really do nothing.\n",
    "        Return self.\n",
    "        \"\"\"\n",
    "        return self\n",
    "    \n",
    "    def transform(self, X, y=None):\n",
    "        \"\"\"\n",
    "        Transform X using feature selection. \n",
    "        Return column-subset of X.\n",
    "        \"\"\"\n",
    "        return X[self.feature_names]"
   ]
  },
  {
   "cell_type": "code",
   "execution_count": 41,
   "id": "35509116-eb08-4583-bf59-41aa18cc4fd2",
   "metadata": {
    "tags": []
   },
   "outputs": [],
   "source": [
    "class PlatemarkTransformer(BaseEstimator, TransformerMixin):\n",
    "    \"\"\"\n",
    "    The class provides functionality for converting matter\n",
    "    columns to year values. Extracts year from string.\n",
    "    \"\"\"\n",
    "    \n",
    "    def __init__(self, drop=False):\n",
    "        \"\"\"\n",
    "        Initializes class instance by setting convert options. \n",
    "        \n",
    "        Parameters\n",
    "        ----------\n",
    "        drop: bool, \n",
    "            if True, removes the original columns from the dataset.\n",
    "        \"\"\"\n",
    "        BaseEstimator.__init__(self)\n",
    "        TransformerMixin.__init__(self)\n",
    "        self.drop = drop\n",
    "    \n",
    "    def fit(self, X, y=None):\n",
    "        \"\"\"\n",
    "        Fit DateTransformer to X, but really do nothing.\n",
    "        Return self.\n",
    "        \"\"\"\n",
    "        return self\n",
    "    \n",
    "    def transform(self, X, y=None):\n",
    "        \"\"\"\n",
    "        Transfor X using the parameters set in the constructor.\n",
    "        Return transformed dataframe.\n",
    "        \"\"\"\n",
    "        X['matter'] = X['matter'].add(X['platemark'])\n",
    "        X = pd.get_dummies(X, columns=['matter'])\n",
    "        if self.drop:\n",
    "            X.drop('platemark', axis=1, inplace=True)\n",
    "        return X"
   ]
  },
  {
   "cell_type": "code",
   "execution_count": 62,
   "id": "ff73a406-766e-44d7-9ccf-cdd3437b879d",
   "metadata": {},
   "outputs": [],
   "source": [
    "class ParseInjection(BaseEstimator, TransformerMixin):\n",
    "    \n",
    "    def __init__(self):\n",
    "        BaseEstimator.__init__(self)\n",
    "        TransformerMixin.__init__(self)\n",
    "    \n",
    "    def fit(self, X, y=None):\n",
    "        return self\n",
    "    \n",
    "    def transform(self, X, y=None):\n",
    "        i = 0\n",
    "        for inj in X.injection_params:\n",
    "            if inj == \"None\":\n",
    "                i += 1\n",
    "                continue\n",
    "            stones = dict()\n",
    "            inj_strs = (inj.replace(', ', '|').replace('. ', '|')\n",
    "                        .replace(';', '|').split('|'))\n",
    "            for inj_substr in inj_strs:\n",
    "                str_split = inj_substr.split()\n",
    "                if str_split[0].isdigit() and (str_split[1].isalpha() or \n",
    "                                               str_split[1] in [\"Кер.кольцо\", \"Гор.хр\"]):\n",
    "                    stones.setdefault(str_split[1].lower(), 0)\n",
    "                    stones[str_split[1].lower()] += int(str_split[0])\n",
    "                elif any([True if \"БРКр\" in x else False for x in str_split]):\n",
    "                    for sub in str_split:\n",
    "                        if \"БРКр\" in sub:\n",
    "                            stones.setdefault(\"бриллиант\", 0)\n",
    "                            br_num = sub.split(\"БРКр\")[0]\n",
    "                            stones[\"бриллиант\"] += (int(br_num) if \"Родий\" not in sub \n",
    "                                                    else int(br_num.split(\"Родий\")[1]))\n",
    "                elif str_split[0][1:] in [\"Сапфир\", \"Изумруд\"]:\n",
    "                    stones.setdefault(str_split[0][1:].lower(), 0)\n",
    "                    stones[str_split[0][1:].lower()] += int(str_split[0][0])\n",
    "                elif str_split[0].isdigit() and str_split[2] in [\"Сапфир\", \"Изумруд\"]:\n",
    "                    stones.setdefault(str_split[2].lower(), 0)\n",
    "                    stones[str_split[2].lower()] += int(str_split[0])\n",
    "                elif len(str_split) > 2 and str_split[2] == \"Эмаль\":\n",
    "                    stones.setdefault(str_split[2].lower(), 0)\n",
    "                    stones[str_split[2].lower()] += int(str_split[0])\n",
    "            for name, num in stones.items():\n",
    "                name = name if name not in [\"бр\", \"брилл\"] else \"бриллиант\"\n",
    "                X.loc[X.index[i], name] = num\n",
    "            i += 1\n",
    "        return X.drop([\"injection_params\", \"куб\"], axis=1)"
   ]
  },
  {
   "cell_type": "code",
   "execution_count": 75,
   "id": "b8c92fa9-0a7b-496c-b4da-7fa786bffa43",
   "metadata": {
    "tags": []
   },
   "outputs": [],
   "source": [
    "plate_pipeline = Pipeline(\n",
    "    steps=[\n",
    "        ('plate_selector', FeatureSelector(['matter', 'platemark'])),\n",
    "        ('plate_transformer', PlatemarkTransformer(drop=True))\n",
    "    ]\n",
    ")\n",
    "\n",
    "cat_ohe = OneHotEncoder(sparse=False)\n",
    "cat_pipeline = Pipeline(\n",
    "    steps=[\n",
    "        ('cat_selector', FeatureSelector(['matter', 'type'])),\n",
    "        ('cat_encoder', cat_ohe)\n",
    "    ]\n",
    ")\n",
    "\n",
    "num_scale_pipeline = Pipeline(\n",
    "    steps=[\n",
    "        ('num_selector', FeatureSelector(['weight', 'size'])),\n",
    "        ('standard_scaler', MinMaxScaler())\n",
    "    ]\n",
    ")\n",
    "\n",
    "num_pipeline = Pipeline(\n",
    "    steps=[\n",
    "        ('num_selector', FeatureSelector(['is_defect']))\n",
    "    ]\n",
    ")\n",
    " \n",
    "injection_pipeline = Pipeline(\n",
    "    steps=[\n",
    "        (\"injection_selector\", FeatureSelector(X.columns[6:])),\n",
    "        (\"injection_imp\", SimpleImputer(missing_values=np.nan, strategy='constant', fill_value=0))\n",
    "    ]\n",
    ")"
   ]
  },
  {
   "cell_type": "code",
   "execution_count": 78,
   "id": "d5e0927a-7510-4f1a-a9a2-aee3ad97a498",
   "metadata": {
    "tags": []
   },
   "outputs": [
    {
     "data": {
      "text/html": [
       "<style>#sk-c8572d76-c849-48a9-a8d9-7079e68dbec8 {color: black;background-color: white;}#sk-c8572d76-c849-48a9-a8d9-7079e68dbec8 pre{padding: 0;}#sk-c8572d76-c849-48a9-a8d9-7079e68dbec8 div.sk-toggleable {background-color: white;}#sk-c8572d76-c849-48a9-a8d9-7079e68dbec8 label.sk-toggleable__label {cursor: pointer;display: block;width: 100%;margin-bottom: 0;padding: 0.2em 0.3em;box-sizing: border-box;text-align: center;}#sk-c8572d76-c849-48a9-a8d9-7079e68dbec8 div.sk-toggleable__content {max-height: 0;max-width: 0;overflow: hidden;text-align: left;background-color: #f0f8ff;}#sk-c8572d76-c849-48a9-a8d9-7079e68dbec8 div.sk-toggleable__content pre {margin: 0.2em;color: black;border-radius: 0.25em;background-color: #f0f8ff;}#sk-c8572d76-c849-48a9-a8d9-7079e68dbec8 input.sk-toggleable__control:checked~div.sk-toggleable__content {max-height: 200px;max-width: 100%;overflow: auto;}#sk-c8572d76-c849-48a9-a8d9-7079e68dbec8 div.sk-estimator input.sk-toggleable__control:checked~label.sk-toggleable__label {background-color: #d4ebff;}#sk-c8572d76-c849-48a9-a8d9-7079e68dbec8 div.sk-label input.sk-toggleable__control:checked~label.sk-toggleable__label {background-color: #d4ebff;}#sk-c8572d76-c849-48a9-a8d9-7079e68dbec8 input.sk-hidden--visually {border: 0;clip: rect(1px 1px 1px 1px);clip: rect(1px, 1px, 1px, 1px);height: 1px;margin: -1px;overflow: hidden;padding: 0;position: absolute;width: 1px;}#sk-c8572d76-c849-48a9-a8d9-7079e68dbec8 div.sk-estimator {font-family: monospace;background-color: #f0f8ff;margin: 0.25em 0.25em;border: 1px dotted black;border-radius: 0.25em;box-sizing: border-box;}#sk-c8572d76-c849-48a9-a8d9-7079e68dbec8 div.sk-estimator:hover {background-color: #d4ebff;}#sk-c8572d76-c849-48a9-a8d9-7079e68dbec8 div.sk-parallel-item::after {content: \"\";width: 100%;border-bottom: 1px solid gray;flex-grow: 1;}#sk-c8572d76-c849-48a9-a8d9-7079e68dbec8 div.sk-label:hover label.sk-toggleable__label {background-color: #d4ebff;}#sk-c8572d76-c849-48a9-a8d9-7079e68dbec8 div.sk-serial::before {content: \"\";position: absolute;border-left: 1px solid gray;box-sizing: border-box;top: 2em;bottom: 0;left: 50%;}#sk-c8572d76-c849-48a9-a8d9-7079e68dbec8 div.sk-serial {display: flex;flex-direction: column;align-items: center;background-color: white;}#sk-c8572d76-c849-48a9-a8d9-7079e68dbec8 div.sk-item {z-index: 1;}#sk-c8572d76-c849-48a9-a8d9-7079e68dbec8 div.sk-parallel {display: flex;align-items: stretch;justify-content: center;background-color: white;}#sk-c8572d76-c849-48a9-a8d9-7079e68dbec8 div.sk-parallel-item {display: flex;flex-direction: column;position: relative;background-color: white;}#sk-c8572d76-c849-48a9-a8d9-7079e68dbec8 div.sk-parallel-item:first-child::after {align-self: flex-end;width: 50%;}#sk-c8572d76-c849-48a9-a8d9-7079e68dbec8 div.sk-parallel-item:last-child::after {align-self: flex-start;width: 50%;}#sk-c8572d76-c849-48a9-a8d9-7079e68dbec8 div.sk-parallel-item:only-child::after {width: 0;}#sk-c8572d76-c849-48a9-a8d9-7079e68dbec8 div.sk-dashed-wrapped {border: 1px dashed gray;margin: 0.2em;box-sizing: border-box;padding-bottom: 0.1em;background-color: white;position: relative;}#sk-c8572d76-c849-48a9-a8d9-7079e68dbec8 div.sk-label label {font-family: monospace;font-weight: bold;background-color: white;display: inline-block;line-height: 1.2em;}#sk-c8572d76-c849-48a9-a8d9-7079e68dbec8 div.sk-label-container {position: relative;z-index: 2;text-align: center;}#sk-c8572d76-c849-48a9-a8d9-7079e68dbec8 div.sk-container {display: inline-block;position: relative;}</style><div id=\"sk-c8572d76-c849-48a9-a8d9-7079e68dbec8\" class\"sk-top-container\"><div class=\"sk-container\"><div class=\"sk-item sk-dashed-wrapped\"><div class=\"sk-label-container\"><div class=\"sk-label sk-toggleable\"><input class=\"sk-toggleable__control sk-hidden--visually\" id=\"5912c3ae-7537-470f-8ff5-c603db0d0e31\" type=\"checkbox\" ><label class=\"sk-toggleable__label\" for=\"5912c3ae-7537-470f-8ff5-c603db0d0e31\">FeatureUnion</label><div class=\"sk-toggleable__content\"><pre>FeatureUnion(transformer_list=[('plate',\n",
       "                                Pipeline(steps=[('plate_selector',\n",
       "                                                 FeatureSelector(feature_names=['matter',\n",
       "                                                                                'platemark'])),\n",
       "                                                ('plate_transformer',\n",
       "                                                 PlatemarkTransformer(drop=True))])),\n",
       "                               ('cat',\n",
       "                                Pipeline(steps=[('cat_selector',\n",
       "                                                 FeatureSelector(feature_names=['matter',\n",
       "                                                                                'type'])),\n",
       "                                                ('cat_encoder',\n",
       "                                                 OneHotEncoder(sparse=False))])),\n",
       "                               ('num_scale',\n",
       "                                Pipeline(steps=...\n",
       "                               ('injection',\n",
       "                                Pipeline(steps=[('injection_selector',\n",
       "                                                 FeatureSelector(feature_names=Index(['фианит', 'бриллиант', 'кер.кольцо', 'cvd', 'эмаль', 'топаз',\n",
       "       'наношпинель', 'цирконий', 'оникс', 'сапфир', 'изумруд', 'жемчуг',\n",
       "       'кристалл', 'гранат', 'гор.хр', 'цитрин', 'корунд', 'аметист'],\n",
       "      dtype='object'))),\n",
       "                                                ('injection_imp',\n",
       "                                                 SimpleImputer(fill_value=0,\n",
       "                                                               strategy='constant'))]))])</pre></div></div></div><div class=\"sk-parallel\"><div class=\"sk-parallel-item\"><div class=\"sk-item\"><div class=\"sk-label-container\"><div class=\"sk-label sk-toggleable\"><label>plate</label></div></div><div class=\"sk-serial\"><div class=\"sk-item\"><div class=\"sk-serial\"><div class=\"sk-item\"><div class=\"sk-estimator sk-toggleable\"><input class=\"sk-toggleable__control sk-hidden--visually\" id=\"7e8c8e56-dbf7-4ed5-8928-6139698ffa7b\" type=\"checkbox\" ><label class=\"sk-toggleable__label\" for=\"7e8c8e56-dbf7-4ed5-8928-6139698ffa7b\">FeatureSelector</label><div class=\"sk-toggleable__content\"><pre>FeatureSelector(feature_names=['matter', 'platemark'])</pre></div></div></div><div class=\"sk-item\"><div class=\"sk-estimator sk-toggleable\"><input class=\"sk-toggleable__control sk-hidden--visually\" id=\"18edb8fe-9d04-405b-b2f9-ab9fbb6ae9c7\" type=\"checkbox\" ><label class=\"sk-toggleable__label\" for=\"18edb8fe-9d04-405b-b2f9-ab9fbb6ae9c7\">PlatemarkTransformer</label><div class=\"sk-toggleable__content\"><pre>PlatemarkTransformer(drop=True)</pre></div></div></div></div></div></div></div></div><div class=\"sk-parallel-item\"><div class=\"sk-item\"><div class=\"sk-label-container\"><div class=\"sk-label sk-toggleable\"><label>cat</label></div></div><div class=\"sk-serial\"><div class=\"sk-item\"><div class=\"sk-serial\"><div class=\"sk-item\"><div class=\"sk-estimator sk-toggleable\"><input class=\"sk-toggleable__control sk-hidden--visually\" id=\"bad5e466-5248-49ac-a057-e0f7f3398412\" type=\"checkbox\" ><label class=\"sk-toggleable__label\" for=\"bad5e466-5248-49ac-a057-e0f7f3398412\">FeatureSelector</label><div class=\"sk-toggleable__content\"><pre>FeatureSelector(feature_names=['matter', 'type'])</pre></div></div></div><div class=\"sk-item\"><div class=\"sk-estimator sk-toggleable\"><input class=\"sk-toggleable__control sk-hidden--visually\" id=\"3479bb6d-ed7b-48dd-85cc-24d14de50883\" type=\"checkbox\" ><label class=\"sk-toggleable__label\" for=\"3479bb6d-ed7b-48dd-85cc-24d14de50883\">OneHotEncoder</label><div class=\"sk-toggleable__content\"><pre>OneHotEncoder(sparse=False)</pre></div></div></div></div></div></div></div></div><div class=\"sk-parallel-item\"><div class=\"sk-item\"><div class=\"sk-label-container\"><div class=\"sk-label sk-toggleable\"><label>num_scale</label></div></div><div class=\"sk-serial\"><div class=\"sk-item\"><div class=\"sk-serial\"><div class=\"sk-item\"><div class=\"sk-estimator sk-toggleable\"><input class=\"sk-toggleable__control sk-hidden--visually\" id=\"b87a918c-dbd1-4649-a13a-331136db6efa\" type=\"checkbox\" ><label class=\"sk-toggleable__label\" for=\"b87a918c-dbd1-4649-a13a-331136db6efa\">FeatureSelector</label><div class=\"sk-toggleable__content\"><pre>FeatureSelector(feature_names=['weight', 'size'])</pre></div></div></div><div class=\"sk-item\"><div class=\"sk-estimator sk-toggleable\"><input class=\"sk-toggleable__control sk-hidden--visually\" id=\"9a39705c-1534-495f-8f49-2cd8079bd50d\" type=\"checkbox\" ><label class=\"sk-toggleable__label\" for=\"9a39705c-1534-495f-8f49-2cd8079bd50d\">MinMaxScaler</label><div class=\"sk-toggleable__content\"><pre>MinMaxScaler()</pre></div></div></div></div></div></div></div></div><div class=\"sk-parallel-item\"><div class=\"sk-item\"><div class=\"sk-label-container\"><div class=\"sk-label sk-toggleable\"><label>num</label></div></div><div class=\"sk-serial\"><div class=\"sk-item\"><div class=\"sk-serial\"><div class=\"sk-item\"><div class=\"sk-estimator sk-toggleable\"><input class=\"sk-toggleable__control sk-hidden--visually\" id=\"378d54b8-f05a-44b0-88db-118b78b46505\" type=\"checkbox\" ><label class=\"sk-toggleable__label\" for=\"378d54b8-f05a-44b0-88db-118b78b46505\">FeatureSelector</label><div class=\"sk-toggleable__content\"><pre>FeatureSelector(feature_names=['is_defect'])</pre></div></div></div></div></div></div></div></div><div class=\"sk-parallel-item\"><div class=\"sk-item\"><div class=\"sk-label-container\"><div class=\"sk-label sk-toggleable\"><label>injection</label></div></div><div class=\"sk-serial\"><div class=\"sk-item\"><div class=\"sk-serial\"><div class=\"sk-item\"><div class=\"sk-estimator sk-toggleable\"><input class=\"sk-toggleable__control sk-hidden--visually\" id=\"18549696-c9a2-4e7f-8711-aec30625447a\" type=\"checkbox\" ><label class=\"sk-toggleable__label\" for=\"18549696-c9a2-4e7f-8711-aec30625447a\">FeatureSelector</label><div class=\"sk-toggleable__content\"><pre>FeatureSelector(feature_names=Index(['фианит', 'бриллиант', 'кер.кольцо', 'cvd', 'эмаль', 'топаз',\n",
       "       'наношпинель', 'цирконий', 'оникс', 'сапфир', 'изумруд', 'жемчуг',\n",
       "       'кристалл', 'гранат', 'гор.хр', 'цитрин', 'корунд', 'аметист'],\n",
       "      dtype='object'))</pre></div></div></div><div class=\"sk-item\"><div class=\"sk-estimator sk-toggleable\"><input class=\"sk-toggleable__control sk-hidden--visually\" id=\"8ab2ea03-682e-4af9-9d69-fa7e5d73f671\" type=\"checkbox\" ><label class=\"sk-toggleable__label\" for=\"8ab2ea03-682e-4af9-9d69-fa7e5d73f671\">SimpleImputer</label><div class=\"sk-toggleable__content\"><pre>SimpleImputer(fill_value=0, strategy='constant')</pre></div></div></div></div></div></div></div></div></div></div></div></div>"
      ],
      "text/plain": [
       "FeatureUnion(transformer_list=[('plate',\n",
       "                                Pipeline(steps=[('plate_selector',\n",
       "                                                 FeatureSelector(feature_names=['matter',\n",
       "                                                                                'platemark'])),\n",
       "                                                ('plate_transformer',\n",
       "                                                 PlatemarkTransformer(drop=True))])),\n",
       "                               ('cat',\n",
       "                                Pipeline(steps=[('cat_selector',\n",
       "                                                 FeatureSelector(feature_names=['matter',\n",
       "                                                                                'type'])),\n",
       "                                                ('cat_encoder',\n",
       "                                                 OneHotEncoder(sparse=False))])),\n",
       "                               ('num_scale',\n",
       "                                Pipeline(steps=...\n",
       "                               ('injection',\n",
       "                                Pipeline(steps=[('injection_selector',\n",
       "                                                 FeatureSelector(feature_names=Index(['фианит', 'бриллиант', 'кер.кольцо', 'cvd', 'эмаль', 'топаз',\n",
       "       'наношпинель', 'цирконий', 'оникс', 'сапфир', 'изумруд', 'жемчуг',\n",
       "       'кристалл', 'гранат', 'гор.хр', 'цитрин', 'корунд', 'аметист'],\n",
       "      dtype='object'))),\n",
       "                                                ('injection_imp',\n",
       "                                                 SimpleImputer(fill_value=0,\n",
       "                                                               strategy='constant'))]))])"
      ]
     },
     "execution_count": 78,
     "metadata": {},
     "output_type": "execute_result"
    }
   ],
   "source": [
    "full_pipeline = FeatureUnion(transformer_list=[\n",
    "    ('plate', plate_pipeline),\n",
    "    ('cat', cat_pipeline),\n",
    "    ('num_scale', num_scale_pipeline),\n",
    "    ('num', num_pipeline),\n",
    "    (\"injection\", injection_pipeline)\n",
    "])\n",
    "full_pipeline"
   ]
  },
  {
   "cell_type": "code",
   "execution_count": 80,
   "id": "f26ee64f-bdf9-4ab6-b974-2218979b3de9",
   "metadata": {
    "tags": []
   },
   "outputs": [],
   "source": [
    "df = pd.read_csv('rings.csv', index_col=0)"
   ]
  },
  {
   "cell_type": "code",
   "execution_count": 81,
   "id": "04b15f51-1dbc-48ce-adee-fec25d134dd9",
   "metadata": {},
   "outputs": [
    {
     "data": {
      "text/html": [
       "<div>\n",
       "<style scoped>\n",
       "    .dataframe tbody tr th:only-of-type {\n",
       "        vertical-align: middle;\n",
       "    }\n",
       "\n",
       "    .dataframe tbody tr th {\n",
       "        vertical-align: top;\n",
       "    }\n",
       "\n",
       "    .dataframe thead th {\n",
       "        text-align: right;\n",
       "    }\n",
       "</style>\n",
       "<table border=\"1\" class=\"dataframe\">\n",
       "  <thead>\n",
       "    <tr style=\"text-align: right;\">\n",
       "      <th></th>\n",
       "      <th>id</th>\n",
       "      <th>matter</th>\n",
       "      <th>injection_params</th>\n",
       "      <th>weight</th>\n",
       "      <th>size</th>\n",
       "      <th>is_defect</th>\n",
       "      <th>platemark</th>\n",
       "      <th>type</th>\n",
       "      <th>price_before_takeoff</th>\n",
       "      <th>price_after_discount</th>\n",
       "    </tr>\n",
       "  </thead>\n",
       "  <tbody>\n",
       "    <tr>\n",
       "      <th>0</th>\n",
       "      <td>Т132013977</td>\n",
       "      <td>gold</td>\n",
       "      <td>3 фианит 0,8 Круг</td>\n",
       "      <td>1.86</td>\n",
       "      <td>15.0</td>\n",
       "      <td>1</td>\n",
       "      <td>585</td>\n",
       "      <td>wedding</td>\n",
       "      <td>1062.86</td>\n",
       "      <td>340.12</td>\n",
       "    </tr>\n",
       "    <tr>\n",
       "      <th>1</th>\n",
       "      <td>Т132013977</td>\n",
       "      <td>gold</td>\n",
       "      <td>3 фианит 0,8 Круг</td>\n",
       "      <td>1.90</td>\n",
       "      <td>15.0</td>\n",
       "      <td>0</td>\n",
       "      <td>585</td>\n",
       "      <td>wedding</td>\n",
       "      <td>865.87</td>\n",
       "      <td>389.64</td>\n",
       "    </tr>\n",
       "    <tr>\n",
       "      <th>2</th>\n",
       "      <td>Т132013977</td>\n",
       "      <td>gold</td>\n",
       "      <td>3 фианит 0,8 Круг</td>\n",
       "      <td>1.90</td>\n",
       "      <td>15.0</td>\n",
       "      <td>0</td>\n",
       "      <td>585</td>\n",
       "      <td>wedding</td>\n",
       "      <td>865.87</td>\n",
       "      <td>389.64</td>\n",
       "    </tr>\n",
       "    <tr>\n",
       "      <th>3</th>\n",
       "      <td>Т132013977</td>\n",
       "      <td>gold</td>\n",
       "      <td>3 фианит 0,8 Круг</td>\n",
       "      <td>1.72</td>\n",
       "      <td>15.0</td>\n",
       "      <td>0</td>\n",
       "      <td>585</td>\n",
       "      <td>wedding</td>\n",
       "      <td>783.84</td>\n",
       "      <td>352.73</td>\n",
       "    </tr>\n",
       "    <tr>\n",
       "      <th>4</th>\n",
       "      <td>Т132013977</td>\n",
       "      <td>gold</td>\n",
       "      <td>3 фианит 0,8 Круг</td>\n",
       "      <td>1.72</td>\n",
       "      <td>15.0</td>\n",
       "      <td>0</td>\n",
       "      <td>585</td>\n",
       "      <td>wedding</td>\n",
       "      <td>783.84</td>\n",
       "      <td>352.73</td>\n",
       "    </tr>\n",
       "    <tr>\n",
       "      <th>...</th>\n",
       "      <td>...</td>\n",
       "      <td>...</td>\n",
       "      <td>...</td>\n",
       "      <td>...</td>\n",
       "      <td>...</td>\n",
       "      <td>...</td>\n",
       "      <td>...</td>\n",
       "      <td>...</td>\n",
       "      <td>...</td>\n",
       "      <td>...</td>\n",
       "    </tr>\n",
       "    <tr>\n",
       "      <th>9143</th>\n",
       "      <td>Z1-8827</td>\n",
       "      <td>silver</td>\n",
       "      <td>None</td>\n",
       "      <td>1.09</td>\n",
       "      <td>17.5</td>\n",
       "      <td>0</td>\n",
       "      <td>925</td>\n",
       "      <td>engagement</td>\n",
       "      <td>64.29</td>\n",
       "      <td>38.57</td>\n",
       "    </tr>\n",
       "    <tr>\n",
       "      <th>9144</th>\n",
       "      <td>Z1-8827</td>\n",
       "      <td>silver</td>\n",
       "      <td>None</td>\n",
       "      <td>1.16</td>\n",
       "      <td>17.0</td>\n",
       "      <td>0</td>\n",
       "      <td>925</td>\n",
       "      <td>engagement</td>\n",
       "      <td>68.46</td>\n",
       "      <td>41.08</td>\n",
       "    </tr>\n",
       "    <tr>\n",
       "      <th>9145</th>\n",
       "      <td>89010096</td>\n",
       "      <td>silver</td>\n",
       "      <td>1 Фианит SWAROVSKI Круг 6</td>\n",
       "      <td>1.51</td>\n",
       "      <td>16.5</td>\n",
       "      <td>0</td>\n",
       "      <td>925</td>\n",
       "      <td>decorative</td>\n",
       "      <td>82.85</td>\n",
       "      <td>49.71</td>\n",
       "    </tr>\n",
       "    <tr>\n",
       "      <th>9146</th>\n",
       "      <td>89010096</td>\n",
       "      <td>silver</td>\n",
       "      <td>1 Фианит SWAROVSKI Круг 6</td>\n",
       "      <td>1.54</td>\n",
       "      <td>16.0</td>\n",
       "      <td>0</td>\n",
       "      <td>925</td>\n",
       "      <td>decorative</td>\n",
       "      <td>84.53</td>\n",
       "      <td>50.72</td>\n",
       "    </tr>\n",
       "    <tr>\n",
       "      <th>9147</th>\n",
       "      <td>89010096</td>\n",
       "      <td>silver</td>\n",
       "      <td>1 Фианит SWAROVSKI Круг 6</td>\n",
       "      <td>1.55</td>\n",
       "      <td>16.5</td>\n",
       "      <td>0</td>\n",
       "      <td>925</td>\n",
       "      <td>decorative</td>\n",
       "      <td>85.06</td>\n",
       "      <td>51.04</td>\n",
       "    </tr>\n",
       "  </tbody>\n",
       "</table>\n",
       "<p>9148 rows × 10 columns</p>\n",
       "</div>"
      ],
      "text/plain": [
       "              id  matter           injection_params  weight  size  is_defect  \\\n",
       "0     Т132013977    gold          3 фианит 0,8 Круг    1.86  15.0          1   \n",
       "1     Т132013977    gold          3 фианит 0,8 Круг    1.90  15.0          0   \n",
       "2     Т132013977    gold          3 фианит 0,8 Круг    1.90  15.0          0   \n",
       "3     Т132013977    gold          3 фианит 0,8 Круг    1.72  15.0          0   \n",
       "4     Т132013977    gold          3 фианит 0,8 Круг    1.72  15.0          0   \n",
       "...          ...     ...                        ...     ...   ...        ...   \n",
       "9143     Z1-8827  silver                       None    1.09  17.5          0   \n",
       "9144     Z1-8827  silver                       None    1.16  17.0          0   \n",
       "9145    89010096  silver  1 Фианит SWAROVSKI Круг 6    1.51  16.5          0   \n",
       "9146    89010096  silver  1 Фианит SWAROVSKI Круг 6    1.54  16.0          0   \n",
       "9147    89010096  silver  1 Фианит SWAROVSKI Круг 6    1.55  16.5          0   \n",
       "\n",
       "     platemark        type  price_before_takeoff price_after_discount  \n",
       "0          585     wedding               1062.86               340.12  \n",
       "1          585     wedding                865.87               389.64  \n",
       "2          585     wedding                865.87               389.64  \n",
       "3          585     wedding                783.84               352.73  \n",
       "4          585     wedding                783.84               352.73  \n",
       "...        ...         ...                   ...                  ...  \n",
       "9143       925  engagement                 64.29                38.57  \n",
       "9144       925  engagement                 68.46                41.08  \n",
       "9145       925  decorative                 82.85                49.71  \n",
       "9146       925  decorative                 84.53                50.72  \n",
       "9147       925  decorative                 85.06                51.04  \n",
       "\n",
       "[9148 rows x 10 columns]"
      ]
     },
     "execution_count": 81,
     "metadata": {},
     "output_type": "execute_result"
    }
   ],
   "source": [
    "df"
   ]
  },
  {
   "cell_type": "code",
   "execution_count": 82,
   "id": "fe41452d-a77d-40f4-a287-bd8d470a43f2",
   "metadata": {},
   "outputs": [],
   "source": [
    "features = ['matter', 'injection_params', 'weight', 'size',\n",
    "       'is_defect', 'platemark', 'type']\n",
    "\n",
    "X, y = df[features], df['price_before_takeoff']"
   ]
  },
  {
   "cell_type": "code",
   "execution_count": 83,
   "id": "c354e2c0-b67d-4045-8e98-464098a06482",
   "metadata": {},
   "outputs": [],
   "source": [
    "pi = ParseInjection().fit(X)"
   ]
  },
  {
   "cell_type": "code",
   "execution_count": 84,
   "id": "1de1e517-9c24-4945-993f-06aa6e7081ae",
   "metadata": {},
   "outputs": [],
   "source": [
    "X = pi.transform(X)"
   ]
  },
  {
   "cell_type": "code",
   "execution_count": 85,
   "id": "6dea1327-c537-4460-b891-3844b5fa4bd2",
   "metadata": {},
   "outputs": [
    {
     "data": {
      "text/plain": [
       "Index(['фианит', 'бриллиант', 'кер.кольцо', 'cvd', 'эмаль', 'топаз',\n",
       "       'наношпинель', 'цирконий', 'оникс', 'сапфир', 'изумруд', 'жемчуг',\n",
       "       'кристалл', 'гранат', 'гор.хр', 'цитрин', 'корунд', 'аметист'],\n",
       "      dtype='object')"
      ]
     },
     "execution_count": 85,
     "metadata": {},
     "output_type": "execute_result"
    }
   ],
   "source": [
    "X.columns[6:]"
   ]
  },
  {
   "cell_type": "code",
   "execution_count": 86,
   "id": "684667fc-be96-48f2-8fa8-057f95bc2a96",
   "metadata": {
    "tags": []
   },
   "outputs": [],
   "source": [
    "X_train, X_test, y_train, y_test = train_test_split(X, y, test_size=0.2, random_state=42)"
   ]
  },
  {
   "cell_type": "markdown",
   "id": "b7c20867-1272-4067-b8a3-9b1366c06085",
   "metadata": {
    "tags": []
   },
   "source": [
    "## ExtraTreesRegressor"
   ]
  },
  {
   "cell_type": "code",
   "execution_count": 113,
   "id": "0a836fd1-c5b3-4e08-8771-2a1456ca6831",
   "metadata": {},
   "outputs": [
    {
     "data": {
      "text/plain": [
       "24"
      ]
     },
     "execution_count": 113,
     "metadata": {},
     "output_type": "execute_result"
    }
   ],
   "source": [
    "X.columns.size"
   ]
  },
  {
   "cell_type": "code",
   "execution_count": 135,
   "id": "e003413f-36f3-4d18-9890-e3286cc54f8b",
   "metadata": {},
   "outputs": [],
   "source": [
    "params = {\n",
    "    \"max_depth\": range(1, 14, 4),\n",
    "    'n_estimators': range(50, 126, 25),\n",
    "    'max_features': range(1, 25, 4),\n",
    "    'min_samples_leaf': range(1, 17, 5),\n",
    "    'min_samples_split': range(1, 27, 5),\n",
    "}\n",
    "\n",
    "extra_grid = GridSearchCV(\n",
    "    estimator=ExtraTreesRegressor(random_state=42),\n",
    "    param_grid=params,\n",
    "    n_jobs=-1,\n",
    "    scoring=(\"neg_mean_squared_error\"),\n",
    "    refit=True,\n",
    ")"
   ]
  },
  {
   "cell_type": "code",
   "execution_count": 136,
   "id": "7814d26e-01b7-4acd-bbe5-1d4699605d37",
   "metadata": {
    "tags": []
   },
   "outputs": [
    {
     "data": {
      "text/html": [
       "<style>#sk-4beef1f6-014a-456d-bf81-ee74fcbfc069 {color: black;background-color: white;}#sk-4beef1f6-014a-456d-bf81-ee74fcbfc069 pre{padding: 0;}#sk-4beef1f6-014a-456d-bf81-ee74fcbfc069 div.sk-toggleable {background-color: white;}#sk-4beef1f6-014a-456d-bf81-ee74fcbfc069 label.sk-toggleable__label {cursor: pointer;display: block;width: 100%;margin-bottom: 0;padding: 0.2em 0.3em;box-sizing: border-box;text-align: center;}#sk-4beef1f6-014a-456d-bf81-ee74fcbfc069 div.sk-toggleable__content {max-height: 0;max-width: 0;overflow: hidden;text-align: left;background-color: #f0f8ff;}#sk-4beef1f6-014a-456d-bf81-ee74fcbfc069 div.sk-toggleable__content pre {margin: 0.2em;color: black;border-radius: 0.25em;background-color: #f0f8ff;}#sk-4beef1f6-014a-456d-bf81-ee74fcbfc069 input.sk-toggleable__control:checked~div.sk-toggleable__content {max-height: 200px;max-width: 100%;overflow: auto;}#sk-4beef1f6-014a-456d-bf81-ee74fcbfc069 div.sk-estimator input.sk-toggleable__control:checked~label.sk-toggleable__label {background-color: #d4ebff;}#sk-4beef1f6-014a-456d-bf81-ee74fcbfc069 div.sk-label input.sk-toggleable__control:checked~label.sk-toggleable__label {background-color: #d4ebff;}#sk-4beef1f6-014a-456d-bf81-ee74fcbfc069 input.sk-hidden--visually {border: 0;clip: rect(1px 1px 1px 1px);clip: rect(1px, 1px, 1px, 1px);height: 1px;margin: -1px;overflow: hidden;padding: 0;position: absolute;width: 1px;}#sk-4beef1f6-014a-456d-bf81-ee74fcbfc069 div.sk-estimator {font-family: monospace;background-color: #f0f8ff;margin: 0.25em 0.25em;border: 1px dotted black;border-radius: 0.25em;box-sizing: border-box;}#sk-4beef1f6-014a-456d-bf81-ee74fcbfc069 div.sk-estimator:hover {background-color: #d4ebff;}#sk-4beef1f6-014a-456d-bf81-ee74fcbfc069 div.sk-parallel-item::after {content: \"\";width: 100%;border-bottom: 1px solid gray;flex-grow: 1;}#sk-4beef1f6-014a-456d-bf81-ee74fcbfc069 div.sk-label:hover label.sk-toggleable__label {background-color: #d4ebff;}#sk-4beef1f6-014a-456d-bf81-ee74fcbfc069 div.sk-serial::before {content: \"\";position: absolute;border-left: 1px solid gray;box-sizing: border-box;top: 2em;bottom: 0;left: 50%;}#sk-4beef1f6-014a-456d-bf81-ee74fcbfc069 div.sk-serial {display: flex;flex-direction: column;align-items: center;background-color: white;}#sk-4beef1f6-014a-456d-bf81-ee74fcbfc069 div.sk-item {z-index: 1;}#sk-4beef1f6-014a-456d-bf81-ee74fcbfc069 div.sk-parallel {display: flex;align-items: stretch;justify-content: center;background-color: white;}#sk-4beef1f6-014a-456d-bf81-ee74fcbfc069 div.sk-parallel-item {display: flex;flex-direction: column;position: relative;background-color: white;}#sk-4beef1f6-014a-456d-bf81-ee74fcbfc069 div.sk-parallel-item:first-child::after {align-self: flex-end;width: 50%;}#sk-4beef1f6-014a-456d-bf81-ee74fcbfc069 div.sk-parallel-item:last-child::after {align-self: flex-start;width: 50%;}#sk-4beef1f6-014a-456d-bf81-ee74fcbfc069 div.sk-parallel-item:only-child::after {width: 0;}#sk-4beef1f6-014a-456d-bf81-ee74fcbfc069 div.sk-dashed-wrapped {border: 1px dashed gray;margin: 0.2em;box-sizing: border-box;padding-bottom: 0.1em;background-color: white;position: relative;}#sk-4beef1f6-014a-456d-bf81-ee74fcbfc069 div.sk-label label {font-family: monospace;font-weight: bold;background-color: white;display: inline-block;line-height: 1.2em;}#sk-4beef1f6-014a-456d-bf81-ee74fcbfc069 div.sk-label-container {position: relative;z-index: 2;text-align: center;}#sk-4beef1f6-014a-456d-bf81-ee74fcbfc069 div.sk-container {display: inline-block;position: relative;}</style><div id=\"sk-4beef1f6-014a-456d-bf81-ee74fcbfc069\" class\"sk-top-container\"><div class=\"sk-container\"><div class=\"sk-item sk-dashed-wrapped\"><div class=\"sk-label-container\"><div class=\"sk-label sk-toggleable\"><input class=\"sk-toggleable__control sk-hidden--visually\" id=\"a72b7c39-2a05-4a91-a04c-f76120eb7f6d\" type=\"checkbox\" ><label class=\"sk-toggleable__label\" for=\"a72b7c39-2a05-4a91-a04c-f76120eb7f6d\">Pipeline</label><div class=\"sk-toggleable__content\"><pre>Pipeline(steps=[('preparation',\n",
       "                 FeatureUnion(transformer_list=[('plate',\n",
       "                                                 Pipeline(steps=[('plate_selector',\n",
       "                                                                  FeatureSelector(feature_names=['matter',\n",
       "                                                                                                 'platemark'])),\n",
       "                                                                 ('plate_transformer',\n",
       "                                                                  PlatemarkTransformer(drop=True))])),\n",
       "                                                ('cat',\n",
       "                                                 Pipeline(steps=[('cat_selector',\n",
       "                                                                  FeatureSelector(feature_names=['matter',\n",
       "                                                                                                 'type'])),\n",
       "                                                                 ('cat_encoder',\n",
       "                                                                  OneHotEncoder(sparse=False))]...\n",
       "                                                                 ('injection_imp',\n",
       "                                                                  SimpleImputer(fill_value=0,\n",
       "                                                                                strategy='constant'))]))])),\n",
       "                ('ExtraTree',\n",
       "                 GridSearchCV(estimator=ExtraTreesRegressor(random_state=42),\n",
       "                              n_jobs=-1,\n",
       "                              param_grid={'max_depth': range(1, 14, 4),\n",
       "                                          'max_features': range(1, 25, 4),\n",
       "                                          'min_samples_leaf': range(1, 17, 5),\n",
       "                                          'min_samples_split': range(1, 27, 5),\n",
       "                                          'n_estimators': range(50, 126, 25)},\n",
       "                              scoring='neg_mean_squared_error'))])</pre></div></div></div><div class=\"sk-serial\"><div class=\"sk-item sk-dashed-wrapped\"><div class=\"sk-label-container\"><div class=\"sk-label sk-toggleable\"><input class=\"sk-toggleable__control sk-hidden--visually\" id=\"fc7f636f-5b31-47ca-ad02-b85540b3cb37\" type=\"checkbox\" ><label class=\"sk-toggleable__label\" for=\"fc7f636f-5b31-47ca-ad02-b85540b3cb37\">preparation: FeatureUnion</label><div class=\"sk-toggleable__content\"><pre>FeatureUnion(transformer_list=[('plate',\n",
       "                                Pipeline(steps=[('plate_selector',\n",
       "                                                 FeatureSelector(feature_names=['matter',\n",
       "                                                                                'platemark'])),\n",
       "                                                ('plate_transformer',\n",
       "                                                 PlatemarkTransformer(drop=True))])),\n",
       "                               ('cat',\n",
       "                                Pipeline(steps=[('cat_selector',\n",
       "                                                 FeatureSelector(feature_names=['matter',\n",
       "                                                                                'type'])),\n",
       "                                                ('cat_encoder',\n",
       "                                                 OneHotEncoder(sparse=False))])),\n",
       "                               ('num_scale',\n",
       "                                Pipeline(steps=...\n",
       "                               ('injection',\n",
       "                                Pipeline(steps=[('injection_selector',\n",
       "                                                 FeatureSelector(feature_names=Index(['фианит', 'бриллиант', 'кер.кольцо', 'cvd', 'эмаль', 'топаз',\n",
       "       'наношпинель', 'цирконий', 'оникс', 'сапфир', 'изумруд', 'жемчуг',\n",
       "       'кристалл', 'гранат', 'гор.хр', 'цитрин', 'корунд', 'аметист'],\n",
       "      dtype='object'))),\n",
       "                                                ('injection_imp',\n",
       "                                                 SimpleImputer(fill_value=0,\n",
       "                                                               strategy='constant'))]))])</pre></div></div></div><div class=\"sk-parallel\"><div class=\"sk-parallel-item\"><div class=\"sk-item\"><div class=\"sk-label-container\"><div class=\"sk-label sk-toggleable\"><label>plate</label></div></div><div class=\"sk-serial\"><div class=\"sk-item\"><div class=\"sk-serial\"><div class=\"sk-item\"><div class=\"sk-estimator sk-toggleable\"><input class=\"sk-toggleable__control sk-hidden--visually\" id=\"95ec6a38-70fd-4171-ae1c-d385b5d41ab7\" type=\"checkbox\" ><label class=\"sk-toggleable__label\" for=\"95ec6a38-70fd-4171-ae1c-d385b5d41ab7\">FeatureSelector</label><div class=\"sk-toggleable__content\"><pre>FeatureSelector(feature_names=['matter', 'platemark'])</pre></div></div></div><div class=\"sk-item\"><div class=\"sk-estimator sk-toggleable\"><input class=\"sk-toggleable__control sk-hidden--visually\" id=\"307d580a-fa46-4d17-b8e5-ccbb2a11709d\" type=\"checkbox\" ><label class=\"sk-toggleable__label\" for=\"307d580a-fa46-4d17-b8e5-ccbb2a11709d\">PlatemarkTransformer</label><div class=\"sk-toggleable__content\"><pre>PlatemarkTransformer(drop=True)</pre></div></div></div></div></div></div></div></div><div class=\"sk-parallel-item\"><div class=\"sk-item\"><div class=\"sk-label-container\"><div class=\"sk-label sk-toggleable\"><label>cat</label></div></div><div class=\"sk-serial\"><div class=\"sk-item\"><div class=\"sk-serial\"><div class=\"sk-item\"><div class=\"sk-estimator sk-toggleable\"><input class=\"sk-toggleable__control sk-hidden--visually\" id=\"f9dd3114-2800-4951-8bda-6664d1552007\" type=\"checkbox\" ><label class=\"sk-toggleable__label\" for=\"f9dd3114-2800-4951-8bda-6664d1552007\">FeatureSelector</label><div class=\"sk-toggleable__content\"><pre>FeatureSelector(feature_names=['matter', 'type'])</pre></div></div></div><div class=\"sk-item\"><div class=\"sk-estimator sk-toggleable\"><input class=\"sk-toggleable__control sk-hidden--visually\" id=\"12c50427-b325-4173-a6fe-688c4bf6ba4a\" type=\"checkbox\" ><label class=\"sk-toggleable__label\" for=\"12c50427-b325-4173-a6fe-688c4bf6ba4a\">OneHotEncoder</label><div class=\"sk-toggleable__content\"><pre>OneHotEncoder(sparse=False)</pre></div></div></div></div></div></div></div></div><div class=\"sk-parallel-item\"><div class=\"sk-item\"><div class=\"sk-label-container\"><div class=\"sk-label sk-toggleable\"><label>num_scale</label></div></div><div class=\"sk-serial\"><div class=\"sk-item\"><div class=\"sk-serial\"><div class=\"sk-item\"><div class=\"sk-estimator sk-toggleable\"><input class=\"sk-toggleable__control sk-hidden--visually\" id=\"b4621964-86bb-4860-b6c9-19c483ad7446\" type=\"checkbox\" ><label class=\"sk-toggleable__label\" for=\"b4621964-86bb-4860-b6c9-19c483ad7446\">FeatureSelector</label><div class=\"sk-toggleable__content\"><pre>FeatureSelector(feature_names=['weight', 'size'])</pre></div></div></div><div class=\"sk-item\"><div class=\"sk-estimator sk-toggleable\"><input class=\"sk-toggleable__control sk-hidden--visually\" id=\"fbe813ca-543e-42f3-982d-d917c40bcc6b\" type=\"checkbox\" ><label class=\"sk-toggleable__label\" for=\"fbe813ca-543e-42f3-982d-d917c40bcc6b\">MinMaxScaler</label><div class=\"sk-toggleable__content\"><pre>MinMaxScaler()</pre></div></div></div></div></div></div></div></div><div class=\"sk-parallel-item\"><div class=\"sk-item\"><div class=\"sk-label-container\"><div class=\"sk-label sk-toggleable\"><label>num</label></div></div><div class=\"sk-serial\"><div class=\"sk-item\"><div class=\"sk-serial\"><div class=\"sk-item\"><div class=\"sk-estimator sk-toggleable\"><input class=\"sk-toggleable__control sk-hidden--visually\" id=\"9e251305-493f-45b0-85d3-dba372638cd7\" type=\"checkbox\" ><label class=\"sk-toggleable__label\" for=\"9e251305-493f-45b0-85d3-dba372638cd7\">FeatureSelector</label><div class=\"sk-toggleable__content\"><pre>FeatureSelector(feature_names=['is_defect'])</pre></div></div></div></div></div></div></div></div><div class=\"sk-parallel-item\"><div class=\"sk-item\"><div class=\"sk-label-container\"><div class=\"sk-label sk-toggleable\"><label>injection</label></div></div><div class=\"sk-serial\"><div class=\"sk-item\"><div class=\"sk-serial\"><div class=\"sk-item\"><div class=\"sk-estimator sk-toggleable\"><input class=\"sk-toggleable__control sk-hidden--visually\" id=\"13d8e2d9-b2e1-46f5-b823-437f4f0792c2\" type=\"checkbox\" ><label class=\"sk-toggleable__label\" for=\"13d8e2d9-b2e1-46f5-b823-437f4f0792c2\">FeatureSelector</label><div class=\"sk-toggleable__content\"><pre>FeatureSelector(feature_names=Index(['фианит', 'бриллиант', 'кер.кольцо', 'cvd', 'эмаль', 'топаз',\n",
       "       'наношпинель', 'цирконий', 'оникс', 'сапфир', 'изумруд', 'жемчуг',\n",
       "       'кристалл', 'гранат', 'гор.хр', 'цитрин', 'корунд', 'аметист'],\n",
       "      dtype='object'))</pre></div></div></div><div class=\"sk-item\"><div class=\"sk-estimator sk-toggleable\"><input class=\"sk-toggleable__control sk-hidden--visually\" id=\"c8d252e5-ccc2-4031-9ec1-f156e0a69d78\" type=\"checkbox\" ><label class=\"sk-toggleable__label\" for=\"c8d252e5-ccc2-4031-9ec1-f156e0a69d78\">SimpleImputer</label><div class=\"sk-toggleable__content\"><pre>SimpleImputer(fill_value=0, strategy='constant')</pre></div></div></div></div></div></div></div></div></div></div><div class=\"sk-item sk-dashed-wrapped\"><div class=\"sk-label-container\"><div class=\"sk-label sk-toggleable\"><input class=\"sk-toggleable__control sk-hidden--visually\" id=\"267c8ed1-044b-4292-a8c9-2b31e950a2a0\" type=\"checkbox\" ><label class=\"sk-toggleable__label\" for=\"267c8ed1-044b-4292-a8c9-2b31e950a2a0\">ExtraTree: GridSearchCV</label><div class=\"sk-toggleable__content\"><pre>GridSearchCV(estimator=ExtraTreesRegressor(random_state=42), n_jobs=-1,\n",
       "             param_grid={'max_depth': range(1, 14, 4),\n",
       "                         'max_features': range(1, 25, 4),\n",
       "                         'min_samples_leaf': range(1, 17, 5),\n",
       "                         'min_samples_split': range(1, 27, 5),\n",
       "                         'n_estimators': range(50, 126, 25)},\n",
       "             scoring='neg_mean_squared_error')</pre></div></div></div><div class=\"sk-parallel\"><div class=\"sk-parallel-item\"><div class=\"sk-item\"><div class=\"sk-serial\"><div class=\"sk-item\"><div class=\"sk-estimator sk-toggleable\"><input class=\"sk-toggleable__control sk-hidden--visually\" id=\"7b719f4e-25f5-4eb3-a821-1462fadd5ce6\" type=\"checkbox\" ><label class=\"sk-toggleable__label\" for=\"7b719f4e-25f5-4eb3-a821-1462fadd5ce6\">ExtraTreesRegressor</label><div class=\"sk-toggleable__content\"><pre>ExtraTreesRegressor(random_state=42)</pre></div></div></div></div></div></div></div></div></div></div></div></div>"
      ],
      "text/plain": [
       "Pipeline(steps=[('preparation',\n",
       "                 FeatureUnion(transformer_list=[('plate',\n",
       "                                                 Pipeline(steps=[('plate_selector',\n",
       "                                                                  FeatureSelector(feature_names=['matter',\n",
       "                                                                                                 'platemark'])),\n",
       "                                                                 ('plate_transformer',\n",
       "                                                                  PlatemarkTransformer(drop=True))])),\n",
       "                                                ('cat',\n",
       "                                                 Pipeline(steps=[('cat_selector',\n",
       "                                                                  FeatureSelector(feature_names=['matter',\n",
       "                                                                                                 'type'])),\n",
       "                                                                 ('cat_encoder',\n",
       "                                                                  OneHotEncoder(sparse=False))]...\n",
       "                                                                 ('injection_imp',\n",
       "                                                                  SimpleImputer(fill_value=0,\n",
       "                                                                                strategy='constant'))]))])),\n",
       "                ('ExtraTree',\n",
       "                 GridSearchCV(estimator=ExtraTreesRegressor(random_state=42),\n",
       "                              n_jobs=-1,\n",
       "                              param_grid={'max_depth': range(1, 14, 4),\n",
       "                                          'max_features': range(1, 25, 4),\n",
       "                                          'min_samples_leaf': range(1, 17, 5),\n",
       "                                          'min_samples_split': range(1, 27, 5),\n",
       "                                          'n_estimators': range(50, 126, 25)},\n",
       "                              scoring='neg_mean_squared_error'))])"
      ]
     },
     "execution_count": 136,
     "metadata": {},
     "output_type": "execute_result"
    }
   ],
   "source": [
    "pipET = Pipeline(\n",
    "    steps=[\n",
    "        ('preparation', full_pipeline),\n",
    "        ('ExtraTree', extra_grid)\n",
    "    ]\n",
    ")\n",
    "pipET.fit(X_train, y_train)"
   ]
  },
  {
   "cell_type": "code",
   "execution_count": 137,
   "id": "e34138b5-c7f2-4d7f-867d-9be944e203dc",
   "metadata": {},
   "outputs": [
    {
     "data": {
      "text/plain": [
       "{'max_depth': 13,\n",
       " 'max_features': 17,\n",
       " 'min_samples_leaf': 1,\n",
       " 'min_samples_split': 6,\n",
       " 'n_estimators': 50}"
      ]
     },
     "execution_count": 137,
     "metadata": {},
     "output_type": "execute_result"
    }
   ],
   "source": [
    "extra_grid.best_params_"
   ]
  },
  {
   "cell_type": "code",
   "execution_count": 138,
   "id": "c824e032-5146-49c1-9ce4-c096bf1c07a5",
   "metadata": {},
   "outputs": [
    {
     "name": "stdout",
     "output_type": "stream",
     "text": [
      "MAE:   136.148\n",
      "MSE:   249054.478\n",
      "MAPE:  0.204\n"
     ]
    }
   ],
   "source": [
    "get_metrics(y_test, pipET.predict(X_test))"
   ]
  },
  {
   "cell_type": "markdown",
   "id": "53c9a3b4-dc4d-43ff-8fa9-69f2094aa6e8",
   "metadata": {},
   "source": [
    "n_est: 100\n",
    "MAE:   95.152\n",
    "MSE:   185614.020\n",
    "MAPE:  0.128\n",
    "\n",
    "max_features: 21\n",
    "MAE:   96.271\n",
    "MSE:   204223.732\n",
    "MAPE:  0.129\n",
    "\n",
    "min_samples_leaf: 20\n",
    "MAE:   154.250\n",
    "MSE:   314368.952\n",
    "MAPE:  0.239\n",
    "\n",
    "min_samples_split: 15\n",
    "MAE:   105.070\n",
    "MSE:   207418.744\n",
    "MAPE:  0.142"
   ]
  },
  {
   "cell_type": "code",
   "execution_count": 88,
   "id": "c0b2784e-d62c-4db8-b03b-ec09074e44c9",
   "metadata": {},
   "outputs": [
    {
     "data": {
      "text/html": [
       "<div>\n",
       "<style scoped>\n",
       "    .dataframe tbody tr th:only-of-type {\n",
       "        vertical-align: middle;\n",
       "    }\n",
       "\n",
       "    .dataframe tbody tr th {\n",
       "        vertical-align: top;\n",
       "    }\n",
       "\n",
       "    .dataframe thead th {\n",
       "        text-align: right;\n",
       "    }\n",
       "</style>\n",
       "<table border=\"1\" class=\"dataframe\">\n",
       "  <thead>\n",
       "    <tr style=\"text-align: right;\">\n",
       "      <th></th>\n",
       "      <th>matter</th>\n",
       "      <th>weight</th>\n",
       "      <th>size</th>\n",
       "      <th>is_defect</th>\n",
       "      <th>platemark</th>\n",
       "      <th>type</th>\n",
       "      <th>фианит</th>\n",
       "      <th>бриллиант</th>\n",
       "      <th>кер.кольцо</th>\n",
       "      <th>cvd</th>\n",
       "      <th>...</th>\n",
       "      <th>оникс</th>\n",
       "      <th>сапфир</th>\n",
       "      <th>изумруд</th>\n",
       "      <th>жемчуг</th>\n",
       "      <th>кристалл</th>\n",
       "      <th>гранат</th>\n",
       "      <th>гор.хр</th>\n",
       "      <th>цитрин</th>\n",
       "      <th>корунд</th>\n",
       "      <th>аметист</th>\n",
       "    </tr>\n",
       "  </thead>\n",
       "  <tbody>\n",
       "    <tr>\n",
       "      <th>8482</th>\n",
       "      <td>silver</td>\n",
       "      <td>1.69</td>\n",
       "      <td>18.5</td>\n",
       "      <td>0</td>\n",
       "      <td>925</td>\n",
       "      <td>decorative</td>\n",
       "      <td>NaN</td>\n",
       "      <td>NaN</td>\n",
       "      <td>NaN</td>\n",
       "      <td>NaN</td>\n",
       "      <td>...</td>\n",
       "      <td>NaN</td>\n",
       "      <td>NaN</td>\n",
       "      <td>NaN</td>\n",
       "      <td>NaN</td>\n",
       "      <td>NaN</td>\n",
       "      <td>NaN</td>\n",
       "      <td>NaN</td>\n",
       "      <td>NaN</td>\n",
       "      <td>NaN</td>\n",
       "      <td>NaN</td>\n",
       "    </tr>\n",
       "    <tr>\n",
       "      <th>5225</th>\n",
       "      <td>gold</td>\n",
       "      <td>2.44</td>\n",
       "      <td>22.5</td>\n",
       "      <td>0</td>\n",
       "      <td>585</td>\n",
       "      <td>wedding</td>\n",
       "      <td>NaN</td>\n",
       "      <td>NaN</td>\n",
       "      <td>NaN</td>\n",
       "      <td>NaN</td>\n",
       "      <td>...</td>\n",
       "      <td>NaN</td>\n",
       "      <td>NaN</td>\n",
       "      <td>NaN</td>\n",
       "      <td>NaN</td>\n",
       "      <td>NaN</td>\n",
       "      <td>NaN</td>\n",
       "      <td>NaN</td>\n",
       "      <td>NaN</td>\n",
       "      <td>NaN</td>\n",
       "      <td>NaN</td>\n",
       "    </tr>\n",
       "    <tr>\n",
       "      <th>3328</th>\n",
       "      <td>gold</td>\n",
       "      <td>2.29</td>\n",
       "      <td>21.0</td>\n",
       "      <td>0</td>\n",
       "      <td>585</td>\n",
       "      <td>wedding</td>\n",
       "      <td>NaN</td>\n",
       "      <td>NaN</td>\n",
       "      <td>NaN</td>\n",
       "      <td>NaN</td>\n",
       "      <td>...</td>\n",
       "      <td>NaN</td>\n",
       "      <td>NaN</td>\n",
       "      <td>NaN</td>\n",
       "      <td>NaN</td>\n",
       "      <td>NaN</td>\n",
       "      <td>NaN</td>\n",
       "      <td>NaN</td>\n",
       "      <td>NaN</td>\n",
       "      <td>NaN</td>\n",
       "      <td>NaN</td>\n",
       "    </tr>\n",
       "    <tr>\n",
       "      <th>8428</th>\n",
       "      <td>gold</td>\n",
       "      <td>1.30</td>\n",
       "      <td>17.5</td>\n",
       "      <td>0</td>\n",
       "      <td>585</td>\n",
       "      <td>engagement</td>\n",
       "      <td>NaN</td>\n",
       "      <td>1.0</td>\n",
       "      <td>NaN</td>\n",
       "      <td>NaN</td>\n",
       "      <td>...</td>\n",
       "      <td>NaN</td>\n",
       "      <td>NaN</td>\n",
       "      <td>NaN</td>\n",
       "      <td>NaN</td>\n",
       "      <td>NaN</td>\n",
       "      <td>NaN</td>\n",
       "      <td>NaN</td>\n",
       "      <td>NaN</td>\n",
       "      <td>NaN</td>\n",
       "      <td>NaN</td>\n",
       "    </tr>\n",
       "    <tr>\n",
       "      <th>4031</th>\n",
       "      <td>silver</td>\n",
       "      <td>6.47</td>\n",
       "      <td>16.0</td>\n",
       "      <td>0</td>\n",
       "      <td>925</td>\n",
       "      <td>decorative</td>\n",
       "      <td>NaN</td>\n",
       "      <td>NaN</td>\n",
       "      <td>NaN</td>\n",
       "      <td>NaN</td>\n",
       "      <td>...</td>\n",
       "      <td>NaN</td>\n",
       "      <td>NaN</td>\n",
       "      <td>NaN</td>\n",
       "      <td>NaN</td>\n",
       "      <td>NaN</td>\n",
       "      <td>NaN</td>\n",
       "      <td>NaN</td>\n",
       "      <td>NaN</td>\n",
       "      <td>NaN</td>\n",
       "      <td>NaN</td>\n",
       "    </tr>\n",
       "    <tr>\n",
       "      <th>...</th>\n",
       "      <td>...</td>\n",
       "      <td>...</td>\n",
       "      <td>...</td>\n",
       "      <td>...</td>\n",
       "      <td>...</td>\n",
       "      <td>...</td>\n",
       "      <td>...</td>\n",
       "      <td>...</td>\n",
       "      <td>...</td>\n",
       "      <td>...</td>\n",
       "      <td>...</td>\n",
       "      <td>...</td>\n",
       "      <td>...</td>\n",
       "      <td>...</td>\n",
       "      <td>...</td>\n",
       "      <td>...</td>\n",
       "      <td>...</td>\n",
       "      <td>...</td>\n",
       "      <td>...</td>\n",
       "      <td>...</td>\n",
       "      <td>...</td>\n",
       "    </tr>\n",
       "    <tr>\n",
       "      <th>5734</th>\n",
       "      <td>gold</td>\n",
       "      <td>2.51</td>\n",
       "      <td>19.0</td>\n",
       "      <td>0</td>\n",
       "      <td>585</td>\n",
       "      <td>wedding</td>\n",
       "      <td>NaN</td>\n",
       "      <td>NaN</td>\n",
       "      <td>NaN</td>\n",
       "      <td>NaN</td>\n",
       "      <td>...</td>\n",
       "      <td>NaN</td>\n",
       "      <td>NaN</td>\n",
       "      <td>NaN</td>\n",
       "      <td>NaN</td>\n",
       "      <td>NaN</td>\n",
       "      <td>NaN</td>\n",
       "      <td>NaN</td>\n",
       "      <td>NaN</td>\n",
       "      <td>NaN</td>\n",
       "      <td>NaN</td>\n",
       "    </tr>\n",
       "    <tr>\n",
       "      <th>5191</th>\n",
       "      <td>gold</td>\n",
       "      <td>2.10</td>\n",
       "      <td>19.5</td>\n",
       "      <td>0</td>\n",
       "      <td>585</td>\n",
       "      <td>wedding</td>\n",
       "      <td>NaN</td>\n",
       "      <td>NaN</td>\n",
       "      <td>NaN</td>\n",
       "      <td>NaN</td>\n",
       "      <td>...</td>\n",
       "      <td>NaN</td>\n",
       "      <td>NaN</td>\n",
       "      <td>NaN</td>\n",
       "      <td>NaN</td>\n",
       "      <td>NaN</td>\n",
       "      <td>NaN</td>\n",
       "      <td>NaN</td>\n",
       "      <td>NaN</td>\n",
       "      <td>NaN</td>\n",
       "      <td>NaN</td>\n",
       "    </tr>\n",
       "    <tr>\n",
       "      <th>5390</th>\n",
       "      <td>gold</td>\n",
       "      <td>2.65</td>\n",
       "      <td>20.0</td>\n",
       "      <td>0</td>\n",
       "      <td>585</td>\n",
       "      <td>wedding</td>\n",
       "      <td>NaN</td>\n",
       "      <td>NaN</td>\n",
       "      <td>NaN</td>\n",
       "      <td>NaN</td>\n",
       "      <td>...</td>\n",
       "      <td>NaN</td>\n",
       "      <td>NaN</td>\n",
       "      <td>NaN</td>\n",
       "      <td>NaN</td>\n",
       "      <td>NaN</td>\n",
       "      <td>NaN</td>\n",
       "      <td>NaN</td>\n",
       "      <td>NaN</td>\n",
       "      <td>NaN</td>\n",
       "      <td>NaN</td>\n",
       "    </tr>\n",
       "    <tr>\n",
       "      <th>860</th>\n",
       "      <td>gold</td>\n",
       "      <td>2.46</td>\n",
       "      <td>17.0</td>\n",
       "      <td>0</td>\n",
       "      <td>375</td>\n",
       "      <td>wedding</td>\n",
       "      <td>NaN</td>\n",
       "      <td>NaN</td>\n",
       "      <td>NaN</td>\n",
       "      <td>NaN</td>\n",
       "      <td>...</td>\n",
       "      <td>NaN</td>\n",
       "      <td>NaN</td>\n",
       "      <td>NaN</td>\n",
       "      <td>NaN</td>\n",
       "      <td>NaN</td>\n",
       "      <td>NaN</td>\n",
       "      <td>NaN</td>\n",
       "      <td>NaN</td>\n",
       "      <td>NaN</td>\n",
       "      <td>NaN</td>\n",
       "    </tr>\n",
       "    <tr>\n",
       "      <th>7270</th>\n",
       "      <td>silver</td>\n",
       "      <td>1.39</td>\n",
       "      <td>16.0</td>\n",
       "      <td>0</td>\n",
       "      <td>925</td>\n",
       "      <td>engagement</td>\n",
       "      <td>NaN</td>\n",
       "      <td>NaN</td>\n",
       "      <td>NaN</td>\n",
       "      <td>NaN</td>\n",
       "      <td>...</td>\n",
       "      <td>NaN</td>\n",
       "      <td>NaN</td>\n",
       "      <td>NaN</td>\n",
       "      <td>NaN</td>\n",
       "      <td>NaN</td>\n",
       "      <td>NaN</td>\n",
       "      <td>NaN</td>\n",
       "      <td>NaN</td>\n",
       "      <td>NaN</td>\n",
       "      <td>NaN</td>\n",
       "    </tr>\n",
       "  </tbody>\n",
       "</table>\n",
       "<p>7318 rows × 24 columns</p>\n",
       "</div>"
      ],
      "text/plain": [
       "      matter  weight  size  is_defect platemark        type  фианит  \\\n",
       "8482  silver    1.69  18.5          0       925  decorative     NaN   \n",
       "5225    gold    2.44  22.5          0       585     wedding     NaN   \n",
       "3328    gold    2.29  21.0          0       585     wedding     NaN   \n",
       "8428    gold    1.30  17.5          0       585  engagement     NaN   \n",
       "4031  silver    6.47  16.0          0       925  decorative     NaN   \n",
       "...      ...     ...   ...        ...       ...         ...     ...   \n",
       "5734    gold    2.51  19.0          0       585     wedding     NaN   \n",
       "5191    gold    2.10  19.5          0       585     wedding     NaN   \n",
       "5390    gold    2.65  20.0          0       585     wedding     NaN   \n",
       "860     gold    2.46  17.0          0       375     wedding     NaN   \n",
       "7270  silver    1.39  16.0          0       925  engagement     NaN   \n",
       "\n",
       "      бриллиант  кер.кольцо  cvd  ...  оникс  сапфир  изумруд  жемчуг  \\\n",
       "8482        NaN         NaN  NaN  ...    NaN     NaN      NaN     NaN   \n",
       "5225        NaN         NaN  NaN  ...    NaN     NaN      NaN     NaN   \n",
       "3328        NaN         NaN  NaN  ...    NaN     NaN      NaN     NaN   \n",
       "8428        1.0         NaN  NaN  ...    NaN     NaN      NaN     NaN   \n",
       "4031        NaN         NaN  NaN  ...    NaN     NaN      NaN     NaN   \n",
       "...         ...         ...  ...  ...    ...     ...      ...     ...   \n",
       "5734        NaN         NaN  NaN  ...    NaN     NaN      NaN     NaN   \n",
       "5191        NaN         NaN  NaN  ...    NaN     NaN      NaN     NaN   \n",
       "5390        NaN         NaN  NaN  ...    NaN     NaN      NaN     NaN   \n",
       "860         NaN         NaN  NaN  ...    NaN     NaN      NaN     NaN   \n",
       "7270        NaN         NaN  NaN  ...    NaN     NaN      NaN     NaN   \n",
       "\n",
       "      кристалл  гранат  гор.хр  цитрин  корунд  аметист  \n",
       "8482       NaN     NaN     NaN     NaN     NaN      NaN  \n",
       "5225       NaN     NaN     NaN     NaN     NaN      NaN  \n",
       "3328       NaN     NaN     NaN     NaN     NaN      NaN  \n",
       "8428       NaN     NaN     NaN     NaN     NaN      NaN  \n",
       "4031       NaN     NaN     NaN     NaN     NaN      NaN  \n",
       "...        ...     ...     ...     ...     ...      ...  \n",
       "5734       NaN     NaN     NaN     NaN     NaN      NaN  \n",
       "5191       NaN     NaN     NaN     NaN     NaN      NaN  \n",
       "5390       NaN     NaN     NaN     NaN     NaN      NaN  \n",
       "860        NaN     NaN     NaN     NaN     NaN      NaN  \n",
       "7270       NaN     NaN     NaN     NaN     NaN      NaN  \n",
       "\n",
       "[7318 rows x 24 columns]"
      ]
     },
     "execution_count": 88,
     "metadata": {},
     "output_type": "execute_result"
    }
   ],
   "source": [
    "X_train"
   ]
  },
  {
   "cell_type": "code",
   "execution_count": 90,
   "id": "9795e355-3d92-451d-aaba-adddd2ef9e57",
   "metadata": {},
   "outputs": [],
   "source": [
    "predict = pipET.predict(X_test)"
   ]
  },
  {
   "cell_type": "code",
   "execution_count": 93,
   "id": "bb30fd6d-01e2-4391-9f7f-f72337851265",
   "metadata": {},
   "outputs": [
    {
     "data": {
      "text/plain": [
       "0.1235029474627417"
      ]
     },
     "execution_count": 93,
     "metadata": {},
     "output_type": "execute_result"
    }
   ],
   "source": [
    "mean_absolute_percentage_error(y_test, predict)"
   ]
  },
  {
   "cell_type": "code",
   "execution_count": 94,
   "id": "826d3b3b-6b24-4d64-b1f2-e9f71d115d1a",
   "metadata": {},
   "outputs": [
    {
     "name": "stdout",
     "output_type": "stream",
     "text": [
      "MAE:   89.912\n",
      "MSE:   169044.868\n",
      "MAPE:  0.124\n"
     ]
    }
   ],
   "source": [
    "get_metrics(y_test, predict)"
   ]
  },
  {
   "cell_type": "raw",
   "id": "1a79395d-f54e-480b-9dad-3093b503e998",
   "metadata": {
    "tags": []
   },
   "source": [
    "MAE:   141.401\n",
    "MSE:   368033.346\n",
    "MAPE:  0.169"
   ]
  },
  {
   "cell_type": "code",
   "execution_count": 139,
   "id": "46ccffb0-078d-4ca5-ac43-db7e99e0d2c9",
   "metadata": {},
   "outputs": [
    {
     "name": "stdout",
     "output_type": "stream",
     "text": [
      "MAE:   89.912\n",
      "MSE:   169044.868\n",
      "MAPE:  0.124\n"
     ]
    }
   ],
   "source": [
    "pipET = Pipeline(\n",
    "    steps=[\n",
    "        ('preparation', full_pipeline),\n",
    "        ('ExtraTree', ExtraTreesRegressor(random_state=42, criterion='mae', n_jobs=-1))\n",
    "    ]\n",
    ")\n",
    "pipET.fit(X_train, y_train)\n",
    "y_true, y_pred = y_test, pipET.predict(X_test)\n",
    "get_metrics(y_true, y_pred)"
   ]
  },
  {
   "cell_type": "markdown",
   "id": "a7d7115f-5456-453d-83cd-562e84713415",
   "metadata": {
    "tags": []
   },
   "source": [
    "## RandomForest"
   ]
  },
  {
   "cell_type": "code",
   "execution_count": 95,
   "id": "f51469d7-fb6d-451d-aa82-5544b71a16a9",
   "metadata": {
    "tags": []
   },
   "outputs": [
    {
     "name": "stdout",
     "output_type": "stream",
     "text": [
      "MAE:   98.076\n",
      "MSE:   167436.033\n",
      "MAPE:  0.143\n"
     ]
    }
   ],
   "source": [
    "pipRF = Pipeline(\n",
    "    steps=[\n",
    "        ('preparation', full_pipeline),\n",
    "        ('RFR', RandomForestRegressor(random_state=42, n_jobs=-1))\n",
    "    ]\n",
    ")\n",
    "pipRF.fit(X_train, y_train)\n",
    "y_true, y_pred = y_test, pipRF.predict(X_test)\n",
    "get_metrics(y_true, y_pred)"
   ]
  },
  {
   "cell_type": "code",
   "execution_count": 96,
   "id": "0519b77e-8f95-460a-8819-c2957a6d2b03",
   "metadata": {
    "tags": []
   },
   "outputs": [
    {
     "name": "stdout",
     "output_type": "stream",
     "text": [
      "Fitting 5 folds for each of 24 candidates, totalling 120 fits\n",
      "Best params found:\n",
      " {'criterion': 'mse', 'max_depth': 1, 'n_estimators': 10}\n",
      "MAE:   397.112\n",
      "MSE:   610167.235\n",
      "MAPE:  1.286\n"
     ]
    }
   ],
   "source": [
    "params = {\n",
    "    'n_estimators': np.arange(10, 200, 50),\n",
    "    'criterion': ('mse', 'mae'),\n",
    "    'max_depth': np.arange(1, 16, 5)\n",
    "}\n",
    "\n",
    "pip = Pipeline(\n",
    "    steps=[\n",
    "        ('preparation', full_pipeline),\n",
    "        ('gc', GridSearchCV(RandomForestRegressor(random_state=42), params, n_jobs=-1,\n",
    "                                scoring='accuracy', cv=5, refit=True, verbose=2))\n",
    "    ]\n",
    ")\n",
    "pip.fit(X_train, y_train)\n",
    "y_true, y_pred = y_test, pip.predict(X_test)\n",
    "print('Best params found:\\n', pip['gc'].best_params_)\n",
    "get_metrics(y_true, y_pred)"
   ]
  },
  {
   "cell_type": "markdown",
   "id": "52e922f9-7575-453e-881e-936c5af48ff0",
   "metadata": {
    "tags": []
   },
   "source": [
    "Best params found:\n",
    " {'criterion': 'mse', 'max_depth': 1, 'n_estimators': 10}\n",
    "MAE:   345.615\n",
    "MSE:   582424.397\n",
    "MAPE:  0.481"
   ]
  },
  {
   "cell_type": "markdown",
   "id": "76f1f410-7fb4-4ce1-ac83-f4465e96a3cf",
   "metadata": {
    "tags": []
   },
   "source": [
    "## Results"
   ]
  },
  {
   "cell_type": "raw",
   "id": "fcc7211a-d5c0-4ecf-92b5-bd26af564d1c",
   "metadata": {
    "execution": {
     "iopub.execute_input": "2021-08-15T02:43:16.916079Z",
     "iopub.status.busy": "2021-08-15T02:43:16.916079Z",
     "iopub.status.idle": "2021-08-15T02:45:10.154491Z",
     "shell.execute_reply": "2021-08-15T02:45:10.154491Z",
     "shell.execute_reply.started": "2021-08-15T02:43:16.916079Z"
    },
    "tags": []
   },
   "source": [
    "import time\n",
    "import matplotlib.pyplot as plt\n",
    "from sklearn.model_selection import cross_validate, cross_val_predict\n",
    "\n",
    "\n",
    "def plot_regression_results(ax, y_true, y_pred, title, scores, elapsed_time):\n",
    "    \"\"\"Scatter plot of the predicted vs true targets.\"\"\"\n",
    "    ax.plot([y_true.min(), y_true.max()],\n",
    "            [y_true.min(), y_true.max()],\n",
    "            '--r', linewidth=2)\n",
    "    ax.scatter(y_true, y_pred, alpha=0.2)\n",
    "\n",
    "    ax.spines['top'].set_visible(False)\n",
    "    ax.spines['right'].set_visible(False)\n",
    "    ax.get_xaxis().tick_bottom()\n",
    "    ax.get_yaxis().tick_left()\n",
    "    ax.spines['left'].set_position(('outward', 10))\n",
    "    ax.spines['bottom'].set_position(('outward', 10))\n",
    "    ax.set_xlim([y_true.min(), y_true.max()])\n",
    "    ax.set_ylim([y_true.min(), y_true.max()])\n",
    "    ax.set_xlabel('Measured')\n",
    "    ax.set_ylabel('Predicted')\n",
    "    extra = plt.Rectangle((0, 0), 0, 0, fc=\"w\", fill=False,\n",
    "                          edgecolor='none', linewidth=0)\n",
    "    ax.legend([extra], [scores], loc='upper left')\n",
    "    title = title + '\\n Evaluation in {:.2f} seconds'.format(elapsed_time)\n",
    "    ax.set_title(title)\n",
    "\n",
    "estimators = [\n",
    "    ('extra_trees', pipET),\n",
    "    ('RFR', pipRF)\n",
    "]\n",
    "\n",
    "fig, axs = plt.subplots(1, 2, figsize=(10, 5))\n",
    "axs = np.ravel(axs)\n",
    "\n",
    "for ax, (name, est) in zip(axs, estimators):\n",
    "    start_time = time.perf_counter()\n",
    "    score = cross_validate(est, X, y,\n",
    "                           scoring=['mean_absolute_percentage_error'],\n",
    "                           n_jobs=-1, verbose=0)\n",
    "    elapsed_time = time.perf_counter() - start_time\n",
    "\n",
    "    y_pred = cross_val_predict(est, X, y, n_jobs=-1, verbose=0)\n",
    "\n",
    "    plot_regression_results(\n",
    "        ax, y, y_pred,\n",
    "        name,\n",
    "        (r'$MAE={:.2f} \\pm {:.2f}$')\n",
    "        .format(-np.mean(score['test_neg_mean_absolute_error']),\n",
    "                np.std(score['test_neg_mean_absolute_error'])),\n",
    "        elapsed_time)\n",
    "\n",
    "plt.tight_layout()\n",
    "plt.subplots_adjust(top=0.9)\n",
    "plt.show()"
   ]
  },
  {
   "cell_type": "markdown",
   "id": "c07eedad-00cd-47a6-9d6b-c6d761aa5163",
   "metadata": {
    "tags": []
   },
   "source": [
    "## XGBoost"
   ]
  },
  {
   "cell_type": "code",
   "execution_count": 99,
   "id": "5645703f-bd2b-4b3b-b260-30e4d3b11f64",
   "metadata": {
    "tags": []
   },
   "outputs": [
    {
     "name": "stdout",
     "output_type": "stream",
     "text": [
      "MAE:   394.171\n",
      "MSE:   605497.079\n",
      "MAPE:  0.340\n"
     ]
    }
   ],
   "source": [
    "pip = Pipeline(\n",
    "    steps=[\n",
    "        ('preparation', full_pipeline),\n",
    "        ('XGBReg', XGBRegressor(random_state=42, eta=0.01, max_depth=3, reg_lambda=0))\n",
    "    ]\n",
    ")\n",
    "pip.fit(X_train, y_train)\n",
    "y_true, y_pred = y_test, pip.predict(X_test)\n",
    "#print('Best params found:\\n', pip['gc'].best_params_)\n",
    "get_metrics(y_true, y_pred)"
   ]
  },
  {
   "cell_type": "raw",
   "id": "3e51bdd7-5205-46ef-9570-abdcbef47c9c",
   "metadata": {
    "execution": {
     "iopub.execute_input": "2021-08-15T00:20:22.711610Z",
     "iopub.status.busy": "2021-08-15T00:20:22.711610Z",
     "iopub.status.idle": "2021-08-15T00:20:22.726624Z",
     "shell.execute_reply": "2021-08-15T00:20:22.726624Z",
     "shell.execute_reply.started": "2021-08-15T00:20:22.711610Z"
    },
    "tags": []
   },
   "source": [
    "params = {\n",
    "    'eta': np.linspace(0.01, 0.3, 6),\n",
    "    'max_depth': np.arange(3, 11),\n",
    "    'reg_lambda': np.linspace(0, 2, 6)\n",
    "}\n",
    "\n",
    "pip = Pipeline(\n",
    "    steps=[\n",
    "        ('preparation', full_pipeline),\n",
    "        ('gc', GridSearchCV(XGBRegressor(random_state=42, tree_method='gpu_hist'), params, n_jobs=-1,\n",
    "                                scoring='accuracy', cv=5, refit=True, verbose=2))\n",
    "    ]\n",
    ")\n",
    "pip"
   ]
  },
  {
   "cell_type": "raw",
   "id": "c6ea6418-5b76-4163-8a3a-45616bd90f83",
   "metadata": {
    "tags": []
   },
   "source": [
    "Best params found:\n",
    " {'eta': 0.01, 'lambda': 0.25, 'max_depth': 3}"
   ]
  },
  {
   "cell_type": "markdown",
   "id": "c21351ca-0407-4c55-8e57-5979b1e2bc0d",
   "metadata": {
    "execution": {
     "iopub.execute_input": "2021-08-15T02:06:09.740999Z",
     "iopub.status.busy": "2021-08-15T02:06:09.739997Z",
     "iopub.status.idle": "2021-08-15T02:06:09.753009Z",
     "shell.execute_reply": "2021-08-15T02:06:09.753009Z",
     "shell.execute_reply.started": "2021-08-15T02:06:09.740999Z"
    },
    "tags": []
   },
   "source": [
    "## BaggingRegressor"
   ]
  },
  {
   "cell_type": "raw",
   "id": "695170ec-fee0-4816-8b4e-60695aa940a3",
   "metadata": {
    "execution": {
     "iopub.execute_input": "2021-08-15T02:24:32.882567Z",
     "iopub.status.busy": "2021-08-15T02:24:32.882567Z",
     "iopub.status.idle": "2021-08-15T02:24:34.599954Z",
     "shell.execute_reply": "2021-08-15T02:24:34.599954Z",
     "shell.execute_reply.started": "2021-08-15T02:24:32.882567Z"
    }
   },
   "source": [
    "pip = Pipeline(\n",
    "    steps=[\n",
    "        ('preparation', full_pipeline),\n",
    "        ('bagging', BaggingRegressor(random_state=42, n_jobs=-1))\n",
    "    ]\n",
    ")\n",
    "pip.fit(X_train, y_train)\n",
    "y_true, y_pred = y_test, pip.predict(X_test)\n",
    "get_metrics(y_true, y_pred)"
   ]
  },
  {
   "cell_type": "raw",
   "id": "7e6a40be-3f20-4b6f-bf53-d3231ac71cd2",
   "metadata": {},
   "source": [
    "MAE:   151.933\n",
    "MSE:   413940.111\n",
    "MAPE:  0.195"
   ]
  },
  {
   "cell_type": "markdown",
   "id": "a368a407-a0ae-4c16-b89d-0d1d12878c08",
   "metadata": {
    "tags": []
   },
   "source": [
    "## AdaBoostRegressor"
   ]
  },
  {
   "cell_type": "raw",
   "id": "894e8fc9-b332-44ca-9247-a10f669628a6",
   "metadata": {
    "execution": {
     "iopub.execute_input": "2021-08-15T02:24:34.600955Z",
     "iopub.status.busy": "2021-08-15T02:24:34.600955Z",
     "iopub.status.idle": "2021-08-15T02:24:34.823436Z",
     "shell.execute_reply": "2021-08-15T02:24:34.823436Z",
     "shell.execute_reply.started": "2021-08-15T02:24:34.600955Z"
    },
    "tags": []
   },
   "source": [
    "pip = Pipeline(\n",
    "    steps=[\n",
    "        ('preparation', full_pipeline),\n",
    "        ('Ada', AdaBoostRegressor(random_state=42))\n",
    "    ]\n",
    ")\n",
    "pip.fit(X_train, y_train)\n",
    "y_true, y_pred = y_test, pip.predict(X_test)\n",
    "get_metrics(y_true, y_pred)"
   ]
  },
  {
   "cell_type": "raw",
   "id": "91d73a2f-d33c-4b2e-b6ca-d33840b195ec",
   "metadata": {},
   "source": [
    "MAE:   633.356\n",
    "MSE:   1196024.337\n",
    "MAPE:  2.962"
   ]
  },
  {
   "cell_type": "markdown",
   "id": "4ce9c15b-4c7d-48b3-8445-f5fbec5087dd",
   "metadata": {
    "tags": []
   },
   "source": [
    "## StackingRegressor"
   ]
  },
  {
   "cell_type": "raw",
   "id": "ebd79db6-a7b4-4c42-8f50-3d1a082003ad",
   "metadata": {
    "execution": {
     "iopub.execute_input": "2021-08-15T02:19:13.170072Z",
     "iopub.status.busy": "2021-08-15T02:19:13.170072Z",
     "iopub.status.idle": "2021-08-15T02:19:52.510721Z",
     "shell.execute_reply": "2021-08-15T02:19:52.510721Z",
     "shell.execute_reply.started": "2021-08-15T02:19:13.170072Z"
    },
    "tags": []
   },
   "source": [
    "estimators = [\n",
    "        ('extra_trees', ExtraTreesRegressor(random_state=42, criterion='mae', n_jobs=-1)),\n",
    "        ('bagging', BaggingRegressor(random_state=42, n_jobs=-1)),\n",
    "        ('RFR', RandomForestRegressor(random_state=42, n_jobs=-1))\n",
    "]\n",
    "pip = Pipeline(\n",
    "    steps=[\n",
    "        ('preparation', full_pipeline),\n",
    "        ('Stacked', StackingRegressor(estimators))\n",
    "    ]\n",
    ")\n",
    "pip.fit(X_train, y_train)\n",
    "y_true, y_pred = y_test, pip.predict(X_test)\n",
    "get_metrics(y_true, y_pred)"
   ]
  },
  {
   "cell_type": "raw",
   "id": "d930a4d8-41e3-46cb-a3e8-b7f430a32191",
   "metadata": {},
   "source": [
    "MAE:   249.985\n",
    "MSE:   367798.593\n",
    "MAPE:  0.895"
   ]
  }
 ],
 "metadata": {
  "kernelspec": {
   "display_name": "Python 3",
   "language": "python",
   "name": "python3"
  },
  "language_info": {
   "codemirror_mode": {
    "name": "ipython",
    "version": 3
   },
   "file_extension": ".py",
   "mimetype": "text/x-python",
   "name": "python",
   "nbconvert_exporter": "python",
   "pygments_lexer": "ipython3",
   "version": "3.8.5"
  }
 },
 "nbformat": 4,
 "nbformat_minor": 5
}
